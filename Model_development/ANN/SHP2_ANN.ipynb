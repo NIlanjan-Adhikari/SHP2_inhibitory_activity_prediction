{
 "cells": [
  {
   "cell_type": "code",
   "execution_count": 1,
   "id": "af4a207b",
   "metadata": {},
   "outputs": [],
   "source": [
    "import numpy as np\n",
    "import pandas as pd\n",
    "import matplotlib.pyplot as plt\n",
    "from sklearn.metrics import confusion_matrix, classification_report, ConfusionMatrixDisplay, roc_curve, auc\n",
    "import tensorflow as tf\n",
    "from tensorflow.keras import layers\n",
    "import warnings\n",
    "warnings.filterwarnings('ignore')"
   ]
  },
  {
   "cell_type": "code",
   "execution_count": 2,
   "id": "f4e9243b",
   "metadata": {},
   "outputs": [],
   "source": [
    "# Load the TensorBoard notebook extension\n",
    "%load_ext tensorboard"
   ]
  },
  {
   "cell_type": "code",
   "execution_count": 3,
   "id": "fd6840bf",
   "metadata": {},
   "outputs": [
    {
     "data": {
      "text/html": [
       "<div>\n",
       "<style scoped>\n",
       "    .dataframe tbody tr th:only-of-type {\n",
       "        vertical-align: middle;\n",
       "    }\n",
       "\n",
       "    .dataframe tbody tr th {\n",
       "        vertical-align: top;\n",
       "    }\n",
       "\n",
       "    .dataframe thead th {\n",
       "        text-align: right;\n",
       "    }\n",
       "</style>\n",
       "<table border=\"1\" class=\"dataframe\">\n",
       "  <thead>\n",
       "    <tr style=\"text-align: right;\">\n",
       "      <th></th>\n",
       "      <th>MaxPartialCharge</th>\n",
       "      <th>FpDensityMorgan2</th>\n",
       "      <th>BCUT2D_CHGLO</th>\n",
       "      <th>BCUT2D_MRHI</th>\n",
       "      <th>PEOE_VSA12</th>\n",
       "      <th>PEOE_VSA6</th>\n",
       "      <th>SMR_VSA3</th>\n",
       "      <th>SlogP_VSA3</th>\n",
       "      <th>SlogP_VSA8</th>\n",
       "      <th>EState_VSA6</th>\n",
       "      <th>NumHAcceptors</th>\n",
       "      <th>NumSaturatedCarbocycles</th>\n",
       "      <th>fr_bicyclic</th>\n",
       "      <th>TARGET</th>\n",
       "      <th>Kfold</th>\n",
       "    </tr>\n",
       "  </thead>\n",
       "  <tbody>\n",
       "    <tr>\n",
       "      <th>0</th>\n",
       "      <td>0.232165</td>\n",
       "      <td>2.055556</td>\n",
       "      <td>-2.414188</td>\n",
       "      <td>6.375148</td>\n",
       "      <td>5.879988</td>\n",
       "      <td>11.600940</td>\n",
       "      <td>30.133278</td>\n",
       "      <td>11.343745</td>\n",
       "      <td>33.454659</td>\n",
       "      <td>6.196844</td>\n",
       "      <td>10</td>\n",
       "      <td>0</td>\n",
       "      <td>2</td>\n",
       "      <td>1.0</td>\n",
       "      <td>8</td>\n",
       "    </tr>\n",
       "    <tr>\n",
       "      <th>1</th>\n",
       "      <td>0.313409</td>\n",
       "      <td>1.155172</td>\n",
       "      <td>-2.211123</td>\n",
       "      <td>7.894021</td>\n",
       "      <td>0.000000</td>\n",
       "      <td>101.109334</td>\n",
       "      <td>4.899910</td>\n",
       "      <td>51.033142</td>\n",
       "      <td>6.076020</td>\n",
       "      <td>62.378411</td>\n",
       "      <td>10</td>\n",
       "      <td>0</td>\n",
       "      <td>0</td>\n",
       "      <td>0.0</td>\n",
       "      <td>9</td>\n",
       "    </tr>\n",
       "    <tr>\n",
       "      <th>2</th>\n",
       "      <td>0.394239</td>\n",
       "      <td>1.740741</td>\n",
       "      <td>-2.156618</td>\n",
       "      <td>6.360204</td>\n",
       "      <td>0.000000</td>\n",
       "      <td>17.907236</td>\n",
       "      <td>0.000000</td>\n",
       "      <td>9.589074</td>\n",
       "      <td>0.000000</td>\n",
       "      <td>31.127988</td>\n",
       "      <td>5</td>\n",
       "      <td>0</td>\n",
       "      <td>0</td>\n",
       "      <td>0.0</td>\n",
       "      <td>3</td>\n",
       "    </tr>\n",
       "    <tr>\n",
       "      <th>3</th>\n",
       "      <td>0.259309</td>\n",
       "      <td>1.789474</td>\n",
       "      <td>-1.979236</td>\n",
       "      <td>6.347147</td>\n",
       "      <td>5.824404</td>\n",
       "      <td>28.358543</td>\n",
       "      <td>15.124620</td>\n",
       "      <td>0.000000</td>\n",
       "      <td>22.842031</td>\n",
       "      <td>42.725522</td>\n",
       "      <td>4</td>\n",
       "      <td>0</td>\n",
       "      <td>0</td>\n",
       "      <td>0.0</td>\n",
       "      <td>5</td>\n",
       "    </tr>\n",
       "    <tr>\n",
       "      <th>4</th>\n",
       "      <td>0.326721</td>\n",
       "      <td>1.804878</td>\n",
       "      <td>-2.225746</td>\n",
       "      <td>9.103009</td>\n",
       "      <td>0.000000</td>\n",
       "      <td>88.440639</td>\n",
       "      <td>9.883888</td>\n",
       "      <td>22.616778</td>\n",
       "      <td>27.751393</td>\n",
       "      <td>12.272864</td>\n",
       "      <td>5</td>\n",
       "      <td>0</td>\n",
       "      <td>2</td>\n",
       "      <td>0.0</td>\n",
       "      <td>9</td>\n",
       "    </tr>\n",
       "    <tr>\n",
       "      <th>...</th>\n",
       "      <td>...</td>\n",
       "      <td>...</td>\n",
       "      <td>...</td>\n",
       "      <td>...</td>\n",
       "      <td>...</td>\n",
       "      <td>...</td>\n",
       "      <td>...</td>\n",
       "      <td>...</td>\n",
       "      <td>...</td>\n",
       "      <td>...</td>\n",
       "      <td>...</td>\n",
       "      <td>...</td>\n",
       "      <td>...</td>\n",
       "      <td>...</td>\n",
       "      <td>...</td>\n",
       "    </tr>\n",
       "    <tr>\n",
       "      <th>2734</th>\n",
       "      <td>0.157227</td>\n",
       "      <td>1.928571</td>\n",
       "      <td>-2.406681</td>\n",
       "      <td>7.927002</td>\n",
       "      <td>0.000000</td>\n",
       "      <td>35.334614</td>\n",
       "      <td>9.967957</td>\n",
       "      <td>9.837253</td>\n",
       "      <td>11.257379</td>\n",
       "      <td>24.395945</td>\n",
       "      <td>7</td>\n",
       "      <td>0</td>\n",
       "      <td>0</td>\n",
       "      <td>0.0</td>\n",
       "      <td>6</td>\n",
       "    </tr>\n",
       "    <tr>\n",
       "      <th>2735</th>\n",
       "      <td>0.152046</td>\n",
       "      <td>1.958333</td>\n",
       "      <td>-2.386793</td>\n",
       "      <td>6.432995</td>\n",
       "      <td>0.000000</td>\n",
       "      <td>42.258351</td>\n",
       "      <td>9.967957</td>\n",
       "      <td>0.000000</td>\n",
       "      <td>11.257379</td>\n",
       "      <td>12.263211</td>\n",
       "      <td>5</td>\n",
       "      <td>0</td>\n",
       "      <td>0</td>\n",
       "      <td>1.0</td>\n",
       "      <td>2</td>\n",
       "    </tr>\n",
       "    <tr>\n",
       "      <th>2736</th>\n",
       "      <td>0.339242</td>\n",
       "      <td>1.900000</td>\n",
       "      <td>-2.136891</td>\n",
       "      <td>6.311472</td>\n",
       "      <td>6.792942</td>\n",
       "      <td>11.600940</td>\n",
       "      <td>0.000000</td>\n",
       "      <td>17.822241</td>\n",
       "      <td>10.969244</td>\n",
       "      <td>32.046576</td>\n",
       "      <td>6</td>\n",
       "      <td>0</td>\n",
       "      <td>2</td>\n",
       "      <td>0.0</td>\n",
       "      <td>5</td>\n",
       "    </tr>\n",
       "    <tr>\n",
       "      <th>2737</th>\n",
       "      <td>0.409243</td>\n",
       "      <td>2.000000</td>\n",
       "      <td>-2.396237</td>\n",
       "      <td>7.800537</td>\n",
       "      <td>0.000000</td>\n",
       "      <td>17.667307</td>\n",
       "      <td>14.699729</td>\n",
       "      <td>4.736863</td>\n",
       "      <td>0.000000</td>\n",
       "      <td>4.899910</td>\n",
       "      <td>4</td>\n",
       "      <td>0</td>\n",
       "      <td>0</td>\n",
       "      <td>0.0</td>\n",
       "      <td>8</td>\n",
       "    </tr>\n",
       "    <tr>\n",
       "      <th>2738</th>\n",
       "      <td>0.433968</td>\n",
       "      <td>2.032258</td>\n",
       "      <td>-2.409471</td>\n",
       "      <td>7.991682</td>\n",
       "      <td>5.948339</td>\n",
       "      <td>11.761885</td>\n",
       "      <td>14.535057</td>\n",
       "      <td>17.960833</td>\n",
       "      <td>0.000000</td>\n",
       "      <td>0.000000</td>\n",
       "      <td>9</td>\n",
       "      <td>0</td>\n",
       "      <td>0</td>\n",
       "      <td>1.0</td>\n",
       "      <td>5</td>\n",
       "    </tr>\n",
       "  </tbody>\n",
       "</table>\n",
       "<p>2739 rows × 15 columns</p>\n",
       "</div>"
      ],
      "text/plain": [
       "      MaxPartialCharge  FpDensityMorgan2  BCUT2D_CHGLO  BCUT2D_MRHI  \\\n",
       "0             0.232165          2.055556     -2.414188     6.375148   \n",
       "1             0.313409          1.155172     -2.211123     7.894021   \n",
       "2             0.394239          1.740741     -2.156618     6.360204   \n",
       "3             0.259309          1.789474     -1.979236     6.347147   \n",
       "4             0.326721          1.804878     -2.225746     9.103009   \n",
       "...                ...               ...           ...          ...   \n",
       "2734          0.157227          1.928571     -2.406681     7.927002   \n",
       "2735          0.152046          1.958333     -2.386793     6.432995   \n",
       "2736          0.339242          1.900000     -2.136891     6.311472   \n",
       "2737          0.409243          2.000000     -2.396237     7.800537   \n",
       "2738          0.433968          2.032258     -2.409471     7.991682   \n",
       "\n",
       "      PEOE_VSA12   PEOE_VSA6   SMR_VSA3  SlogP_VSA3  SlogP_VSA8  EState_VSA6  \\\n",
       "0       5.879988   11.600940  30.133278   11.343745   33.454659     6.196844   \n",
       "1       0.000000  101.109334   4.899910   51.033142    6.076020    62.378411   \n",
       "2       0.000000   17.907236   0.000000    9.589074    0.000000    31.127988   \n",
       "3       5.824404   28.358543  15.124620    0.000000   22.842031    42.725522   \n",
       "4       0.000000   88.440639   9.883888   22.616778   27.751393    12.272864   \n",
       "...          ...         ...        ...         ...         ...          ...   \n",
       "2734    0.000000   35.334614   9.967957    9.837253   11.257379    24.395945   \n",
       "2735    0.000000   42.258351   9.967957    0.000000   11.257379    12.263211   \n",
       "2736    6.792942   11.600940   0.000000   17.822241   10.969244    32.046576   \n",
       "2737    0.000000   17.667307  14.699729    4.736863    0.000000     4.899910   \n",
       "2738    5.948339   11.761885  14.535057   17.960833    0.000000     0.000000   \n",
       "\n",
       "      NumHAcceptors  NumSaturatedCarbocycles  fr_bicyclic  TARGET  Kfold  \n",
       "0                10                        0            2     1.0      8  \n",
       "1                10                        0            0     0.0      9  \n",
       "2                 5                        0            0     0.0      3  \n",
       "3                 4                        0            0     0.0      5  \n",
       "4                 5                        0            2     0.0      9  \n",
       "...             ...                      ...          ...     ...    ...  \n",
       "2734              7                        0            0     0.0      6  \n",
       "2735              5                        0            0     1.0      2  \n",
       "2736              6                        0            2     0.0      5  \n",
       "2737              4                        0            0     0.0      8  \n",
       "2738              9                        0            0     1.0      5  \n",
       "\n",
       "[2739 rows x 15 columns]"
      ]
     },
     "execution_count": 3,
     "metadata": {},
     "output_type": "execute_result"
    }
   ],
   "source": [
    "data = pd.read_csv(r'.\\input\\train_10folds.csv')\n",
    "data"
   ]
  },
  {
   "cell_type": "code",
   "execution_count": 4,
   "id": "929a665f",
   "metadata": {},
   "outputs": [
    {
     "data": {
      "text/plain": [
       "0.0    1771\n",
       "1.0     968\n",
       "Name: TARGET, dtype: int64"
      ]
     },
     "execution_count": 4,
     "metadata": {},
     "output_type": "execute_result"
    }
   ],
   "source": [
    "data['TARGET'].value_counts()"
   ]
  },
  {
   "cell_type": "code",
   "execution_count": 5,
   "id": "d2771ae8",
   "metadata": {},
   "outputs": [],
   "source": [
    "def df_to_dataset(dataframe, shuffle=True, batch_size=32):\n",
    "    df = dataframe.iloc[:,:-1].copy()\n",
    "    labels = df.pop('TARGET')\n",
    "    df = {key: value[:,tf.newaxis] for key, value in dataframe.iloc[:,:-1].items()}\n",
    "    ds = tf.data.Dataset.from_tensor_slices((dict(df), labels))\n",
    "    if shuffle:\n",
    "        ds = ds.shuffle(buffer_size=len(data))\n",
    "    ds = ds.batch(batch_size)\n",
    "    ds = ds.prefetch(batch_size)\n",
    "    return ds"
   ]
  },
  {
   "cell_type": "code",
   "execution_count": 6,
   "id": "43878e95",
   "metadata": {},
   "outputs": [],
   "source": [
    "def get_normalization_layer(name, dataset):\n",
    "    # Create a Normalization layer for the feature.\n",
    "    normalizer = layers.Normalization(axis=None)\n",
    "    \n",
    "    # Prepare a Dataset that only yields the feature.\n",
    "    feature_ds = dataset.map(lambda x, y: x[name])\n",
    "    \n",
    "    # Learn the statistics of the data.\n",
    "    normalizer.adapt(feature_ds)\n",
    "    \n",
    "    return normalizer"
   ]
  },
  {
   "cell_type": "code",
   "execution_count": 7,
   "id": "534692c4",
   "metadata": {},
   "outputs": [],
   "source": [
    "def get_category_encoding_layer(name, dataset, dtype, max_tokens=None):\n",
    "    \n",
    "    # create a layer that turns integer values into integer indices.\n",
    "    index = layers.IntegerLookup(max_tokens=max_tokens)\n",
    "    \n",
    "    # Prepare a `tf.data.Dataset` that only yields the feature.\n",
    "    feature_ds = dataset.map(lambda x, y: x[name])\n",
    "    \n",
    "    # Learn the set of possible values and assign them a fixed integer index.\n",
    "    index.adapt(feature_ds)\n",
    "    \n",
    "    # Encode the integer indices.\n",
    "    encoder = layers.CategoryEncoding(num_tokens=index.vocabulary_size())\n",
    "    \n",
    "    # Apply multi-hot encoding to the indices. The lambda function captures the\n",
    "    # layer, so you can use them, or include them in the Keras Functional model later.\n",
    "    \n",
    "    return lambda feature: encoder(index(feature))"
   ]
  },
  {
   "cell_type": "code",
   "execution_count": 8,
   "id": "9ac7c14c",
   "metadata": {},
   "outputs": [],
   "source": [
    "fold = 0\n",
    "train = data[data.Kfold != fold].reset_index(drop=True)\n",
    "# get validation data using folds\n",
    "valid = data[data.Kfold == fold].reset_index(drop=True)"
   ]
  },
  {
   "cell_type": "code",
   "execution_count": 9,
   "id": "eb0d9f0d",
   "metadata": {},
   "outputs": [],
   "source": [
    "numerical_features = ['MaxPartialCharge', 'FpDensityMorgan2', 'BCUT2D_CHGLO', 'BCUT2D_MRHI',\n",
    "       'PEOE_VSA12', 'PEOE_VSA6', 'SMR_VSA3', 'SlogP_VSA3', 'SlogP_VSA8', 'EState_VSA6']\n",
    "\n",
    "categorical_features = ['NumHAcceptors', 'NumSaturatedCarbocycles', 'fr_bicyclic']"
   ]
  },
  {
   "cell_type": "code",
   "execution_count": 10,
   "id": "186318b3",
   "metadata": {},
   "outputs": [],
   "source": [
    "batch_size = 16\n",
    "train_ds = df_to_dataset(train, batch_size=batch_size)\n",
    "val_ds = df_to_dataset(valid, shuffle=False, batch_size=batch_size)"
   ]
  },
  {
   "cell_type": "code",
   "execution_count": 11,
   "id": "4895a904",
   "metadata": {},
   "outputs": [
    {
     "data": {
      "text/plain": [
       "18"
      ]
     },
     "execution_count": 11,
     "metadata": {},
     "output_type": "execute_result"
    }
   ],
   "source": [
    "len(val_ds)"
   ]
  },
  {
   "cell_type": "code",
   "execution_count": 12,
   "id": "15643ece",
   "metadata": {},
   "outputs": [
    {
     "data": {
      "text/plain": [
       "155"
      ]
     },
     "execution_count": 12,
     "metadata": {},
     "output_type": "execute_result"
    }
   ],
   "source": [
    "len(train_ds)"
   ]
  },
  {
   "cell_type": "code",
   "execution_count": 13,
   "id": "082505ea",
   "metadata": {},
   "outputs": [],
   "source": [
    "all_inputs = []\n",
    "encoded_features = []\n",
    "\n",
    "# Numerical features.\n",
    "for header in numerical_features:\n",
    "    numeric_col = tf.keras.Input(shape=(1,), name=header)\n",
    "    normalization_layer = get_normalization_layer(header, train_ds)\n",
    "    encoded_numeric_col = normalization_layer(numeric_col)\n",
    "    all_inputs.append(numeric_col)\n",
    "    encoded_features.append(encoded_numeric_col)"
   ]
  },
  {
   "cell_type": "code",
   "execution_count": 14,
   "id": "b42b608b",
   "metadata": {},
   "outputs": [
    {
     "data": {
      "text/plain": [
       "20"
      ]
     },
     "execution_count": 14,
     "metadata": {},
     "output_type": "execute_result"
    }
   ],
   "source": [
    "len(data['NumHAcceptors'].unique())"
   ]
  },
  {
   "cell_type": "code",
   "execution_count": 15,
   "id": "352c4964",
   "metadata": {},
   "outputs": [],
   "source": [
    "hacc_col = tf.keras.Input(shape=(1,), name='NumHAcceptors', dtype='int64')\n",
    "\n",
    "encoding_layer = get_category_encoding_layer(name='NumHAcceptors',\n",
    "                                             dataset=train_ds,\n",
    "                                             dtype='int64',\n",
    "                                             max_tokens=20)\n",
    "encoded_hacc_col = encoding_layer(hacc_col)\n",
    "\n",
    "all_inputs.append(hacc_col)\n",
    "encoded_features.append(encoded_hacc_col)"
   ]
  },
  {
   "cell_type": "code",
   "execution_count": 16,
   "id": "895ff784",
   "metadata": {},
   "outputs": [
    {
     "data": {
      "text/plain": [
       "5"
      ]
     },
     "execution_count": 16,
     "metadata": {},
     "output_type": "execute_result"
    }
   ],
   "source": [
    "len(data['NumSaturatedCarbocycles'].unique())"
   ]
  },
  {
   "cell_type": "code",
   "execution_count": 17,
   "id": "569f38f3",
   "metadata": {},
   "outputs": [],
   "source": [
    "scc_col = tf.keras.Input(shape=(1,), name='NumSaturatedCarbocycles', dtype='int64')\n",
    "\n",
    "encoding_layer = get_category_encoding_layer(name='NumSaturatedCarbocycles',\n",
    "                                             dataset=train_ds,\n",
    "                                             dtype='int64',\n",
    "                                             max_tokens=5)\n",
    "encoded_scc_col = encoding_layer(scc_col)\n",
    "\n",
    "all_inputs.append(scc_col)\n",
    "encoded_features.append(encoded_scc_col)"
   ]
  },
  {
   "cell_type": "code",
   "execution_count": 18,
   "id": "13d700f9",
   "metadata": {},
   "outputs": [
    {
     "data": {
      "text/plain": [
       "10"
      ]
     },
     "execution_count": 18,
     "metadata": {},
     "output_type": "execute_result"
    }
   ],
   "source": [
    "len(data['fr_bicyclic'].unique())"
   ]
  },
  {
   "cell_type": "code",
   "execution_count": 19,
   "id": "5013f027",
   "metadata": {},
   "outputs": [],
   "source": [
    "fbc_col = tf.keras.Input(shape=(1,), name='fr_bicyclic', dtype='int64')\n",
    "\n",
    "encoding_layer = get_category_encoding_layer(name='fr_bicyclic',\n",
    "                                             dataset=train_ds,\n",
    "                                             dtype='int64',\n",
    "                                             max_tokens=10)\n",
    "encoded_fbc_col = encoding_layer(fbc_col)\n",
    "all_inputs.append(fbc_col)\n",
    "encoded_features.append(encoded_fbc_col)"
   ]
  },
  {
   "cell_type": "code",
   "execution_count": 20,
   "id": "08ac6e0b",
   "metadata": {},
   "outputs": [],
   "source": [
    "hparams_df = pd.DataFrame()"
   ]
  },
  {
   "cell_type": "markdown",
   "id": "87126a05",
   "metadata": {},
   "source": [
    "# Model Training"
   ]
  },
  {
   "cell_type": "code",
   "execution_count": 21,
   "id": "be95de19",
   "metadata": {},
   "outputs": [],
   "source": [
    "hparams = {\n",
    "'Experiment' : ['exp_8'],\n",
    "'hidden_layer1' : [16],\n",
    "'hidden_layer2' : [64],\n",
    "'hidden_layer3' : [128],\n",
    "'hidden_layer4' : [256],\n",
    "'hidden_layer5' : [32],\n",
    "'hidden_layer6' : [8],\n",
    "'hidden_layer7' : [0],\n",
    "'hidden_layer8' : [0],\n",
    "'hidden_layer9' : [0],\n",
    "'hidden_layer10' : [0],\n",
    "'initializer' : [tf.keras.initializers.HeNormal()],\n",
    "'optimizer' : [tf.keras.optimizers.Adam(learning_rate=0.001)],\n",
    "'dropout' : [0.1],\n",
    "'batch_size' : [batch_size],\n",
    "'epochs' : [100]\n",
    "}  "
   ]
  },
  {
   "cell_type": "code",
   "execution_count": 22,
   "id": "8ee2e0c6",
   "metadata": {},
   "outputs": [
    {
     "data": {
      "text/html": [
       "<div>\n",
       "<style scoped>\n",
       "    .dataframe tbody tr th:only-of-type {\n",
       "        vertical-align: middle;\n",
       "    }\n",
       "\n",
       "    .dataframe tbody tr th {\n",
       "        vertical-align: top;\n",
       "    }\n",
       "\n",
       "    .dataframe thead th {\n",
       "        text-align: right;\n",
       "    }\n",
       "</style>\n",
       "<table border=\"1\" class=\"dataframe\">\n",
       "  <thead>\n",
       "    <tr style=\"text-align: right;\">\n",
       "      <th></th>\n",
       "      <th>Experiment</th>\n",
       "      <th>hidden_layer1</th>\n",
       "      <th>hidden_layer2</th>\n",
       "      <th>hidden_layer3</th>\n",
       "      <th>hidden_layer4</th>\n",
       "      <th>hidden_layer5</th>\n",
       "      <th>hidden_layer6</th>\n",
       "      <th>hidden_layer7</th>\n",
       "      <th>hidden_layer8</th>\n",
       "      <th>hidden_layer9</th>\n",
       "      <th>hidden_layer10</th>\n",
       "      <th>initializer</th>\n",
       "      <th>optimizer</th>\n",
       "      <th>dropout</th>\n",
       "      <th>batch_size</th>\n",
       "      <th>epochs</th>\n",
       "    </tr>\n",
       "  </thead>\n",
       "  <tbody>\n",
       "    <tr>\n",
       "      <th>0</th>\n",
       "      <td>exp_8</td>\n",
       "      <td>16</td>\n",
       "      <td>64</td>\n",
       "      <td>128</td>\n",
       "      <td>256</td>\n",
       "      <td>32</td>\n",
       "      <td>8</td>\n",
       "      <td>0</td>\n",
       "      <td>0</td>\n",
       "      <td>0</td>\n",
       "      <td>0</td>\n",
       "      <td>&lt;keras.initializers.initializers_v2.HeNormal o...</td>\n",
       "      <td>&lt;keras.optimizer_v2.adam.Adam object at 0x0000...</td>\n",
       "      <td>0.1</td>\n",
       "      <td>16</td>\n",
       "      <td>100</td>\n",
       "    </tr>\n",
       "  </tbody>\n",
       "</table>\n",
       "</div>"
      ],
      "text/plain": [
       "  Experiment  hidden_layer1  hidden_layer2  hidden_layer3  hidden_layer4  \\\n",
       "0      exp_8             16             64            128            256   \n",
       "\n",
       "   hidden_layer5  hidden_layer6  hidden_layer7  hidden_layer8  hidden_layer9  \\\n",
       "0             32              8              0              0              0   \n",
       "\n",
       "   hidden_layer10                                        initializer  \\\n",
       "0               0  <keras.initializers.initializers_v2.HeNormal o...   \n",
       "\n",
       "                                           optimizer  dropout  batch_size  \\\n",
       "0  <keras.optimizer_v2.adam.Adam object at 0x0000...      0.1          16   \n",
       "\n",
       "   epochs  \n",
       "0     100  "
      ]
     },
     "execution_count": 22,
     "metadata": {},
     "output_type": "execute_result"
    }
   ],
   "source": [
    "hparams_df1 = pd.DataFrame(hparams)\n",
    "hparams_df1 "
   ]
  },
  {
   "cell_type": "code",
   "execution_count": 23,
   "id": "0bcd0ffd",
   "metadata": {},
   "outputs": [],
   "source": [
    "def AnnClassifier(all_inputs, encoded_features):\n",
    "    all_features = tf.keras.layers.concatenate(encoded_features)\n",
    "    x = tf.keras.layers.Dense(units=hparams['hidden_layer1'][0], activation=\"relu\", \n",
    "                              kernel_initializer=hparams['initializer'][0])(all_features)\n",
    "    x = tf.keras.layers.BatchNormalization(axis=-1)(x)\n",
    "    #x = tf.keras.layers.Dropout(hparams['dropout'][0])(x)\n",
    "    x = tf.keras.layers.Dense(units=hparams['hidden_layer2'][0], activation=\"relu\",\n",
    "                             kernel_initializer=hparams['initializer'][0])(x)\n",
    "    x = tf.keras.layers.BatchNormalization(axis=-1)(x)\n",
    "    #x = tf.keras.layers.Dropout(hparams['dropout'][0])(x)\n",
    "    x = tf.keras.layers.Dense(units=hparams['hidden_layer3'][0], activation=\"relu\",\n",
    "                             kernel_initializer=hparams['initializer'][0])(x)\n",
    "    x = tf.keras.layers.BatchNormalization(axis=-1)(x)\n",
    "    #x = tf.keras.layers.Dropout(hparams['dropout'][0])(x)\n",
    "    x = tf.keras.layers.Dense(units=hparams['hidden_layer4'][0], activation=\"relu\",\n",
    "                             kernel_initializer=hparams['initializer'][0])(x)\n",
    "    x = tf.keras.layers.BatchNormalization(axis=-1)(x)\n",
    "    x = tf.keras.layers.Dense(units=hparams['hidden_layer5'][0], activation=\"relu\",\n",
    "                             kernel_initializer=hparams['initializer'][0])(x)\n",
    "    x = tf.keras.layers.BatchNormalization(axis=-1)(x)\n",
    "    x = tf.keras.layers.Dense(units=hparams['hidden_layer6'][0], activation=\"relu\",\n",
    "                             kernel_initializer=hparams['initializer'][0])(x)\n",
    "    x = tf.keras.layers.BatchNormalization(axis=-1)(x)\n",
    "    output = tf.keras.layers.Dense(1, activation='sigmoid')(x)\n",
    "\n",
    "    model = tf.keras.Model(all_inputs, output)\n",
    "    model.compile(optimizer = hparams['optimizer'][0], loss = 'binary_crossentropy', metrics = ['accuracy'])\n",
    "    return model"
   ]
  },
  {
   "cell_type": "code",
   "execution_count": 24,
   "id": "dad3df7b",
   "metadata": {},
   "outputs": [],
   "source": [
    "early_stop = tf.keras.callbacks.EarlyStopping(monitor='val_loss', mode='min', verbose=1, patience=5)"
   ]
  },
  {
   "cell_type": "code",
   "execution_count": 25,
   "id": "6520906b",
   "metadata": {},
   "outputs": [],
   "source": [
    "logdir = r'.\\\\tensorboard_logs\\\\scalars\\\\fold_0\\\\' + hparams['Experiment'][0]\n",
    "tensorboard_callback = tf.keras.callbacks.TensorBoard(log_dir=logdir,write_graph=True,update_freq=1)"
   ]
  },
  {
   "cell_type": "code",
   "execution_count": 26,
   "id": "c820c978",
   "metadata": {},
   "outputs": [],
   "source": [
    "checkpoint_filepath = r'.\\\\model_checkpoints\\\\fold_0\\\\' + hparams['Experiment'][0]\n",
    "model_checkpoint_callback = tf.keras.callbacks.ModelCheckpoint(\n",
    "    filepath=checkpoint_filepath,\n",
    "    monitor='val_accuracy',\n",
    "    mode='max',\n",
    "    save_best_only=True)"
   ]
  },
  {
   "cell_type": "code",
   "execution_count": 27,
   "id": "b96df42d",
   "metadata": {
    "scrolled": true
   },
   "outputs": [
    {
     "name": "stdout",
     "output_type": "stream",
     "text": [
      "Epoch 1/100\n",
      "155/155 [==============================] - 23s 96ms/step - loss: 0.5008 - accuracy: 0.7594 - val_loss: 0.4085 - val_accuracy: 0.8431\n"
     ]
    },
    {
     "name": "stderr",
     "output_type": "stream",
     "text": [
      "WARNING:absl:Function `_wrapped_model` contains input name(s) MaxPartialCharge, FpDensityMorgan2, BCUT2D_CHGLO, BCUT2D_MRHI, PEOE_VSA12, PEOE_VSA6, SMR_VSA3, SlogP_VSA3, SlogP_VSA8, EState_VSA6, NumHAcceptors, NumSaturatedCarbocycles with unsupported characters which will be renamed to maxpartialcharge, fpdensitymorgan2, bcut2d_chglo, bcut2d_mrhi, peoe_vsa12, peoe_vsa6, smr_vsa3, slogp_vsa3, slogp_vsa8, estate_vsa6, numhacceptors, numsaturatedcarbocycles in the SavedModel.\n"
     ]
    },
    {
     "name": "stdout",
     "output_type": "stream",
     "text": [
      "INFO:tensorflow:Assets written to: .\\\\model_checkpoints\\\\fold_0\\exp_8\\assets\n"
     ]
    },
    {
     "name": "stderr",
     "output_type": "stream",
     "text": [
      "INFO:tensorflow:Assets written to: .\\\\model_checkpoints\\\\fold_0\\exp_8\\assets\n"
     ]
    },
    {
     "name": "stdout",
     "output_type": "stream",
     "text": [
      "Epoch 2/100\n",
      "155/155 [==============================] - 11s 72ms/step - loss: 0.3860 - accuracy: 0.8414 - val_loss: 0.3643 - val_accuracy: 0.8650\n"
     ]
    },
    {
     "name": "stderr",
     "output_type": "stream",
     "text": [
      "WARNING:absl:Function `_wrapped_model` contains input name(s) MaxPartialCharge, FpDensityMorgan2, BCUT2D_CHGLO, BCUT2D_MRHI, PEOE_VSA12, PEOE_VSA6, SMR_VSA3, SlogP_VSA3, SlogP_VSA8, EState_VSA6, NumHAcceptors, NumSaturatedCarbocycles with unsupported characters which will be renamed to maxpartialcharge, fpdensitymorgan2, bcut2d_chglo, bcut2d_mrhi, peoe_vsa12, peoe_vsa6, smr_vsa3, slogp_vsa3, slogp_vsa8, estate_vsa6, numhacceptors, numsaturatedcarbocycles in the SavedModel.\n"
     ]
    },
    {
     "name": "stdout",
     "output_type": "stream",
     "text": [
      "INFO:tensorflow:Assets written to: .\\\\model_checkpoints\\\\fold_0\\exp_8\\assets\n"
     ]
    },
    {
     "name": "stderr",
     "output_type": "stream",
     "text": [
      "INFO:tensorflow:Assets written to: .\\\\model_checkpoints\\\\fold_0\\exp_8\\assets\n"
     ]
    },
    {
     "name": "stdout",
     "output_type": "stream",
     "text": [
      "Epoch 3/100\n",
      "155/155 [==============================] - 11s 69ms/step - loss: 0.3567 - accuracy: 0.8450 - val_loss: 0.3166 - val_accuracy: 0.8759\n"
     ]
    },
    {
     "name": "stderr",
     "output_type": "stream",
     "text": [
      "WARNING:absl:Function `_wrapped_model` contains input name(s) MaxPartialCharge, FpDensityMorgan2, BCUT2D_CHGLO, BCUT2D_MRHI, PEOE_VSA12, PEOE_VSA6, SMR_VSA3, SlogP_VSA3, SlogP_VSA8, EState_VSA6, NumHAcceptors, NumSaturatedCarbocycles with unsupported characters which will be renamed to maxpartialcharge, fpdensitymorgan2, bcut2d_chglo, bcut2d_mrhi, peoe_vsa12, peoe_vsa6, smr_vsa3, slogp_vsa3, slogp_vsa8, estate_vsa6, numhacceptors, numsaturatedcarbocycles in the SavedModel.\n"
     ]
    },
    {
     "name": "stdout",
     "output_type": "stream",
     "text": [
      "INFO:tensorflow:Assets written to: .\\\\model_checkpoints\\\\fold_0\\exp_8\\assets\n"
     ]
    },
    {
     "name": "stderr",
     "output_type": "stream",
     "text": [
      "INFO:tensorflow:Assets written to: .\\\\model_checkpoints\\\\fold_0\\exp_8\\assets\n"
     ]
    },
    {
     "name": "stdout",
     "output_type": "stream",
     "text": [
      "Epoch 4/100\n",
      "155/155 [==============================] - 11s 73ms/step - loss: 0.3353 - accuracy: 0.8560 - val_loss: 0.3157 - val_accuracy: 0.8796\n"
     ]
    },
    {
     "name": "stderr",
     "output_type": "stream",
     "text": [
      "WARNING:absl:Function `_wrapped_model` contains input name(s) MaxPartialCharge, FpDensityMorgan2, BCUT2D_CHGLO, BCUT2D_MRHI, PEOE_VSA12, PEOE_VSA6, SMR_VSA3, SlogP_VSA3, SlogP_VSA8, EState_VSA6, NumHAcceptors, NumSaturatedCarbocycles with unsupported characters which will be renamed to maxpartialcharge, fpdensitymorgan2, bcut2d_chglo, bcut2d_mrhi, peoe_vsa12, peoe_vsa6, smr_vsa3, slogp_vsa3, slogp_vsa8, estate_vsa6, numhacceptors, numsaturatedcarbocycles in the SavedModel.\n"
     ]
    },
    {
     "name": "stdout",
     "output_type": "stream",
     "text": [
      "INFO:tensorflow:Assets written to: .\\\\model_checkpoints\\\\fold_0\\exp_8\\assets\n"
     ]
    },
    {
     "name": "stderr",
     "output_type": "stream",
     "text": [
      "INFO:tensorflow:Assets written to: .\\\\model_checkpoints\\\\fold_0\\exp_8\\assets\n"
     ]
    },
    {
     "name": "stdout",
     "output_type": "stream",
     "text": [
      "Epoch 5/100\n",
      "155/155 [==============================] - 13s 85ms/step - loss: 0.3301 - accuracy: 0.8613 - val_loss: 0.2892 - val_accuracy: 0.8869\n"
     ]
    },
    {
     "name": "stderr",
     "output_type": "stream",
     "text": [
      "WARNING:absl:Function `_wrapped_model` contains input name(s) MaxPartialCharge, FpDensityMorgan2, BCUT2D_CHGLO, BCUT2D_MRHI, PEOE_VSA12, PEOE_VSA6, SMR_VSA3, SlogP_VSA3, SlogP_VSA8, EState_VSA6, NumHAcceptors, NumSaturatedCarbocycles with unsupported characters which will be renamed to maxpartialcharge, fpdensitymorgan2, bcut2d_chglo, bcut2d_mrhi, peoe_vsa12, peoe_vsa6, smr_vsa3, slogp_vsa3, slogp_vsa8, estate_vsa6, numhacceptors, numsaturatedcarbocycles in the SavedModel.\n"
     ]
    },
    {
     "name": "stdout",
     "output_type": "stream",
     "text": [
      "INFO:tensorflow:Assets written to: .\\\\model_checkpoints\\\\fold_0\\exp_8\\assets\n"
     ]
    },
    {
     "name": "stderr",
     "output_type": "stream",
     "text": [
      "INFO:tensorflow:Assets written to: .\\\\model_checkpoints\\\\fold_0\\exp_8\\assets\n"
     ]
    },
    {
     "name": "stdout",
     "output_type": "stream",
     "text": [
      "Epoch 6/100\n",
      "155/155 [==============================] - 14s 93ms/step - loss: 0.3189 - accuracy: 0.8661 - val_loss: 0.3028 - val_accuracy: 0.8796\n",
      "Epoch 7/100\n",
      "155/155 [==============================] - 15s 94ms/step - loss: 0.2950 - accuracy: 0.8884 - val_loss: 0.2959 - val_accuracy: 0.8759\n",
      "Epoch 8/100\n",
      "155/155 [==============================] - 15s 99ms/step - loss: 0.3003 - accuracy: 0.8755 - val_loss: 0.2720 - val_accuracy: 0.8869\n",
      "Epoch 9/100\n",
      "155/155 [==============================] - 17s 108ms/step - loss: 0.2867 - accuracy: 0.8824 - val_loss: 0.2804 - val_accuracy: 0.8759\n",
      "Epoch 10/100\n",
      "155/155 [==============================] - 18s 113ms/step - loss: 0.2883 - accuracy: 0.8836 - val_loss: 0.2818 - val_accuracy: 0.8905\n"
     ]
    },
    {
     "name": "stderr",
     "output_type": "stream",
     "text": [
      "WARNING:absl:Function `_wrapped_model` contains input name(s) MaxPartialCharge, FpDensityMorgan2, BCUT2D_CHGLO, BCUT2D_MRHI, PEOE_VSA12, PEOE_VSA6, SMR_VSA3, SlogP_VSA3, SlogP_VSA8, EState_VSA6, NumHAcceptors, NumSaturatedCarbocycles with unsupported characters which will be renamed to maxpartialcharge, fpdensitymorgan2, bcut2d_chglo, bcut2d_mrhi, peoe_vsa12, peoe_vsa6, smr_vsa3, slogp_vsa3, slogp_vsa8, estate_vsa6, numhacceptors, numsaturatedcarbocycles in the SavedModel.\n"
     ]
    },
    {
     "name": "stdout",
     "output_type": "stream",
     "text": [
      "INFO:tensorflow:Assets written to: .\\\\model_checkpoints\\\\fold_0\\exp_8\\assets\n"
     ]
    },
    {
     "name": "stderr",
     "output_type": "stream",
     "text": [
      "INFO:tensorflow:Assets written to: .\\\\model_checkpoints\\\\fold_0\\exp_8\\assets\n"
     ]
    },
    {
     "name": "stdout",
     "output_type": "stream",
     "text": [
      "Epoch 11/100\n",
      "155/155 [==============================] - 19s 122ms/step - loss: 0.2819 - accuracy: 0.8913 - val_loss: 0.2632 - val_accuracy: 0.9088\n"
     ]
    },
    {
     "name": "stderr",
     "output_type": "stream",
     "text": [
      "WARNING:absl:Function `_wrapped_model` contains input name(s) MaxPartialCharge, FpDensityMorgan2, BCUT2D_CHGLO, BCUT2D_MRHI, PEOE_VSA12, PEOE_VSA6, SMR_VSA3, SlogP_VSA3, SlogP_VSA8, EState_VSA6, NumHAcceptors, NumSaturatedCarbocycles with unsupported characters which will be renamed to maxpartialcharge, fpdensitymorgan2, bcut2d_chglo, bcut2d_mrhi, peoe_vsa12, peoe_vsa6, smr_vsa3, slogp_vsa3, slogp_vsa8, estate_vsa6, numhacceptors, numsaturatedcarbocycles in the SavedModel.\n"
     ]
    },
    {
     "name": "stdout",
     "output_type": "stream",
     "text": [
      "INFO:tensorflow:Assets written to: .\\\\model_checkpoints\\\\fold_0\\exp_8\\assets\n"
     ]
    },
    {
     "name": "stderr",
     "output_type": "stream",
     "text": [
      "INFO:tensorflow:Assets written to: .\\\\model_checkpoints\\\\fold_0\\exp_8\\assets\n"
     ]
    },
    {
     "name": "stdout",
     "output_type": "stream",
     "text": [
      "Epoch 12/100\n",
      "155/155 [==============================] - 19s 121ms/step - loss: 0.2610 - accuracy: 0.8953 - val_loss: 0.2750 - val_accuracy: 0.9015\n",
      "Epoch 13/100\n",
      "155/155 [==============================] - 21s 133ms/step - loss: 0.2652 - accuracy: 0.8905 - val_loss: 0.2849 - val_accuracy: 0.8978\n",
      "Epoch 14/100\n",
      "155/155 [==============================] - 23s 145ms/step - loss: 0.2542 - accuracy: 0.9059 - val_loss: 0.2618 - val_accuracy: 0.9015\n",
      "Epoch 15/100\n",
      "155/155 [==============================] - 27s 173ms/step - loss: 0.2592 - accuracy: 0.9002 - val_loss: 0.2552 - val_accuracy: 0.9051\n",
      "Epoch 16/100\n",
      "155/155 [==============================] - 30s 191ms/step - loss: 0.2547 - accuracy: 0.9063 - val_loss: 0.2758 - val_accuracy: 0.8942\n",
      "Epoch 17/100\n",
      "155/155 [==============================] - 30s 195ms/step - loss: 0.2600 - accuracy: 0.8994 - val_loss: 0.2481 - val_accuracy: 0.9088\n",
      "Epoch 18/100\n",
      "155/155 [==============================] - 34s 222ms/step - loss: 0.2436 - accuracy: 0.8966 - val_loss: 0.2649 - val_accuracy: 0.9197\n"
     ]
    },
    {
     "name": "stderr",
     "output_type": "stream",
     "text": [
      "WARNING:absl:Function `_wrapped_model` contains input name(s) MaxPartialCharge, FpDensityMorgan2, BCUT2D_CHGLO, BCUT2D_MRHI, PEOE_VSA12, PEOE_VSA6, SMR_VSA3, SlogP_VSA3, SlogP_VSA8, EState_VSA6, NumHAcceptors, NumSaturatedCarbocycles with unsupported characters which will be renamed to maxpartialcharge, fpdensitymorgan2, bcut2d_chglo, bcut2d_mrhi, peoe_vsa12, peoe_vsa6, smr_vsa3, slogp_vsa3, slogp_vsa8, estate_vsa6, numhacceptors, numsaturatedcarbocycles in the SavedModel.\n"
     ]
    },
    {
     "name": "stdout",
     "output_type": "stream",
     "text": [
      "INFO:tensorflow:Assets written to: .\\\\model_checkpoints\\\\fold_0\\exp_8\\assets\n"
     ]
    },
    {
     "name": "stderr",
     "output_type": "stream",
     "text": [
      "INFO:tensorflow:Assets written to: .\\\\model_checkpoints\\\\fold_0\\exp_8\\assets\n"
     ]
    },
    {
     "name": "stdout",
     "output_type": "stream",
     "text": [
      "Epoch 19/100\n",
      "155/155 [==============================] - 22s 144ms/step - loss: 0.2483 - accuracy: 0.8974 - val_loss: 0.2410 - val_accuracy: 0.9088\n",
      "Epoch 20/100\n",
      "155/155 [==============================] - 34s 222ms/step - loss: 0.2415 - accuracy: 0.8998 - val_loss: 0.2591 - val_accuracy: 0.9161\n",
      "Epoch 21/100\n",
      "155/155 [==============================] - 45s 293ms/step - loss: 0.2396 - accuracy: 0.9010 - val_loss: 0.2463 - val_accuracy: 0.9124\n",
      "Epoch 22/100\n",
      "155/155 [==============================] - 128s 826ms/step - loss: 0.2335 - accuracy: 0.9071 - val_loss: 0.2618 - val_accuracy: 0.8978\n",
      "Epoch 23/100\n",
      "155/155 [==============================] - 113s 724ms/step - loss: 0.2330 - accuracy: 0.9103 - val_loss: 0.2409 - val_accuracy: 0.9088\n",
      "Epoch 24/100\n",
      "155/155 [==============================] - 112s 713ms/step - loss: 0.2337 - accuracy: 0.9140 - val_loss: 0.2256 - val_accuracy: 0.9161\n",
      "Epoch 25/100\n",
      "155/155 [==============================] - 112s 717ms/step - loss: 0.2241 - accuracy: 0.9132 - val_loss: 0.2441 - val_accuracy: 0.9124\n",
      "Epoch 26/100\n",
      "155/155 [==============================] - 103s 665ms/step - loss: 0.2307 - accuracy: 0.9063 - val_loss: 0.2271 - val_accuracy: 0.9270\n"
     ]
    },
    {
     "name": "stderr",
     "output_type": "stream",
     "text": [
      "WARNING:absl:Function `_wrapped_model` contains input name(s) MaxPartialCharge, FpDensityMorgan2, BCUT2D_CHGLO, BCUT2D_MRHI, PEOE_VSA12, PEOE_VSA6, SMR_VSA3, SlogP_VSA3, SlogP_VSA8, EState_VSA6, NumHAcceptors, NumSaturatedCarbocycles with unsupported characters which will be renamed to maxpartialcharge, fpdensitymorgan2, bcut2d_chglo, bcut2d_mrhi, peoe_vsa12, peoe_vsa6, smr_vsa3, slogp_vsa3, slogp_vsa8, estate_vsa6, numhacceptors, numsaturatedcarbocycles in the SavedModel.\n"
     ]
    },
    {
     "name": "stdout",
     "output_type": "stream",
     "text": [
      "INFO:tensorflow:Assets written to: .\\\\model_checkpoints\\\\fold_0\\exp_8\\assets\n"
     ]
    },
    {
     "name": "stderr",
     "output_type": "stream",
     "text": [
      "INFO:tensorflow:Assets written to: .\\\\model_checkpoints\\\\fold_0\\exp_8\\assets\n"
     ]
    },
    {
     "name": "stdout",
     "output_type": "stream",
     "text": [
      "Epoch 27/100\n",
      "155/155 [==============================] - 83s 539ms/step - loss: 0.2125 - accuracy: 0.9128 - val_loss: 0.2317 - val_accuracy: 0.9270\n",
      "Epoch 28/100\n",
      "155/155 [==============================] - 104s 669ms/step - loss: 0.2267 - accuracy: 0.9099 - val_loss: 0.2251 - val_accuracy: 0.9234\n",
      "Epoch 29/100\n",
      "155/155 [==============================] - 105s 673ms/step - loss: 0.2096 - accuracy: 0.9181 - val_loss: 0.2528 - val_accuracy: 0.8905\n",
      "Epoch 30/100\n",
      "155/155 [==============================] - 107s 684ms/step - loss: 0.2126 - accuracy: 0.9140 - val_loss: 0.2428 - val_accuracy: 0.9197\n",
      "Epoch 31/100\n",
      "155/155 [==============================] - 101s 648ms/step - loss: 0.2214 - accuracy: 0.9201 - val_loss: 0.2248 - val_accuracy: 0.9088\n",
      "Epoch 32/100\n",
      "155/155 [==============================] - 101s 653ms/step - loss: 0.2188 - accuracy: 0.9124 - val_loss: 0.2113 - val_accuracy: 0.9234\n",
      "Epoch 33/100\n",
      "155/155 [==============================] - 104s 664ms/step - loss: 0.2116 - accuracy: 0.9160 - val_loss: 0.2163 - val_accuracy: 0.9197\n",
      "Epoch 34/100\n",
      "155/155 [==============================] - 20s 129ms/step - loss: 0.1920 - accuracy: 0.9233 - val_loss: 0.2612 - val_accuracy: 0.9088\n",
      "Epoch 35/100\n",
      "155/155 [==============================] - 97s 630ms/step - loss: 0.1966 - accuracy: 0.9237 - val_loss: 0.2152 - val_accuracy: 0.9161\n",
      "Epoch 36/100\n",
      "155/155 [==============================] - 103s 661ms/step - loss: 0.2236 - accuracy: 0.9140 - val_loss: 0.2404 - val_accuracy: 0.9088\n",
      "Epoch 37/100\n",
      "155/155 [==============================] - 102s 655ms/step - loss: 0.1935 - accuracy: 0.9229 - val_loss: 0.2116 - val_accuracy: 0.9270\n",
      "Epoch 00037: early stopping\n"
     ]
    },
    {
     "data": {
      "text/plain": [
       "<keras.callbacks.History at 0x1b4d810df70>"
      ]
     },
     "execution_count": 27,
     "metadata": {},
     "output_type": "execute_result"
    }
   ],
   "source": [
    "ann = AnnClassifier(all_inputs, encoded_features)\n",
    "\n",
    "ann.fit(train_ds, \n",
    "        epochs = hparams['epochs'][0], \n",
    "        validation_data = val_ds,\n",
    "        callbacks=[early_stop, tensorboard_callback, model_checkpoint_callback])"
   ]
  },
  {
   "cell_type": "code",
   "execution_count": 28,
   "id": "ca6675a8",
   "metadata": {},
   "outputs": [
    {
     "data": {
      "text/html": [
       "<div>\n",
       "<style scoped>\n",
       "    .dataframe tbody tr th:only-of-type {\n",
       "        vertical-align: middle;\n",
       "    }\n",
       "\n",
       "    .dataframe tbody tr th {\n",
       "        vertical-align: top;\n",
       "    }\n",
       "\n",
       "    .dataframe thead th {\n",
       "        text-align: right;\n",
       "    }\n",
       "</style>\n",
       "<table border=\"1\" class=\"dataframe\">\n",
       "  <thead>\n",
       "    <tr style=\"text-align: right;\">\n",
       "      <th></th>\n",
       "      <th>Experiment</th>\n",
       "      <th>hidden_layer1</th>\n",
       "      <th>hidden_layer2</th>\n",
       "      <th>hidden_layer3</th>\n",
       "      <th>hidden_layer4</th>\n",
       "      <th>hidden_layer5</th>\n",
       "      <th>hidden_layer6</th>\n",
       "      <th>hidden_layer7</th>\n",
       "      <th>hidden_layer8</th>\n",
       "      <th>hidden_layer9</th>\n",
       "      <th>hidden_layer10</th>\n",
       "      <th>initializer</th>\n",
       "      <th>optimizer</th>\n",
       "      <th>dropout</th>\n",
       "      <th>batch_size</th>\n",
       "      <th>epochs</th>\n",
       "    </tr>\n",
       "  </thead>\n",
       "  <tbody>\n",
       "    <tr>\n",
       "      <th>0</th>\n",
       "      <td>exp_7</td>\n",
       "      <td>16</td>\n",
       "      <td>64</td>\n",
       "      <td>128</td>\n",
       "      <td>32</td>\n",
       "      <td>32</td>\n",
       "      <td>8</td>\n",
       "      <td>0</td>\n",
       "      <td>0</td>\n",
       "      <td>0</td>\n",
       "      <td>0</td>\n",
       "      <td>&lt;keras.initializers.initializers_v2.HeNormal o...</td>\n",
       "      <td>&lt;keras.optimizer_v2.adam.Adam object at 0x0000...</td>\n",
       "      <td>0.1</td>\n",
       "      <td>16</td>\n",
       "      <td>100</td>\n",
       "    </tr>\n",
       "  </tbody>\n",
       "</table>\n",
       "</div>"
      ],
      "text/plain": [
       "  Experiment  hidden_layer1  hidden_layer2  hidden_layer3  hidden_layer4  \\\n",
       "0      exp_7             16             64            128             32   \n",
       "\n",
       "   hidden_layer5  hidden_layer6  hidden_layer7  hidden_layer8  hidden_layer9  \\\n",
       "0             32              8              0              0              0   \n",
       "\n",
       "   hidden_layer10                                        initializer  \\\n",
       "0               0  <keras.initializers.initializers_v2.HeNormal o...   \n",
       "\n",
       "                                           optimizer  dropout  batch_size  \\\n",
       "0  <keras.optimizer_v2.adam.Adam object at 0x0000...      0.1          16   \n",
       "\n",
       "   epochs  \n",
       "0     100  "
      ]
     },
     "execution_count": 28,
     "metadata": {},
     "output_type": "execute_result"
    }
   ],
   "source": [
    "hparams_df = pd.concat([hparams_df, hparams_df1])\n",
    "hparams_df = hparams_df.reset_index(drop=True)\n",
    "hparams_df"
   ]
  },
  {
   "cell_type": "code",
   "execution_count": 29,
   "id": "f0bb098e",
   "metadata": {},
   "outputs": [],
   "source": [
    "model_loss = pd.DataFrame(ann.history.history) "
   ]
  },
  {
   "cell_type": "code",
   "execution_count": 30,
   "id": "339604b5",
   "metadata": {},
   "outputs": [
    {
     "data": {
      "text/html": [
       "<div>\n",
       "<style scoped>\n",
       "    .dataframe tbody tr th:only-of-type {\n",
       "        vertical-align: middle;\n",
       "    }\n",
       "\n",
       "    .dataframe tbody tr th {\n",
       "        vertical-align: top;\n",
       "    }\n",
       "\n",
       "    .dataframe thead th {\n",
       "        text-align: right;\n",
       "    }\n",
       "</style>\n",
       "<table border=\"1\" class=\"dataframe\">\n",
       "  <thead>\n",
       "    <tr style=\"text-align: right;\">\n",
       "      <th></th>\n",
       "      <th>loss</th>\n",
       "      <th>accuracy</th>\n",
       "      <th>val_loss</th>\n",
       "      <th>val_accuracy</th>\n",
       "    </tr>\n",
       "  </thead>\n",
       "  <tbody>\n",
       "    <tr>\n",
       "      <th>0</th>\n",
       "      <td>0.564642</td>\n",
       "      <td>0.725761</td>\n",
       "      <td>0.517631</td>\n",
       "      <td>0.784672</td>\n",
       "    </tr>\n",
       "    <tr>\n",
       "      <th>1</th>\n",
       "      <td>0.456784</td>\n",
       "      <td>0.795943</td>\n",
       "      <td>0.400193</td>\n",
       "      <td>0.839416</td>\n",
       "    </tr>\n",
       "    <tr>\n",
       "      <th>2</th>\n",
       "      <td>0.407168</td>\n",
       "      <td>0.819473</td>\n",
       "      <td>0.336427</td>\n",
       "      <td>0.857664</td>\n",
       "    </tr>\n",
       "    <tr>\n",
       "      <th>3</th>\n",
       "      <td>0.375653</td>\n",
       "      <td>0.834888</td>\n",
       "      <td>0.349394</td>\n",
       "      <td>0.854015</td>\n",
       "    </tr>\n",
       "    <tr>\n",
       "      <th>4</th>\n",
       "      <td>0.364730</td>\n",
       "      <td>0.835294</td>\n",
       "      <td>0.321512</td>\n",
       "      <td>0.879562</td>\n",
       "    </tr>\n",
       "    <tr>\n",
       "      <th>5</th>\n",
       "      <td>0.353003</td>\n",
       "      <td>0.849493</td>\n",
       "      <td>0.328931</td>\n",
       "      <td>0.872263</td>\n",
       "    </tr>\n",
       "    <tr>\n",
       "      <th>6</th>\n",
       "      <td>0.325574</td>\n",
       "      <td>0.864503</td>\n",
       "      <td>0.318617</td>\n",
       "      <td>0.886861</td>\n",
       "    </tr>\n",
       "    <tr>\n",
       "      <th>7</th>\n",
       "      <td>0.334291</td>\n",
       "      <td>0.859229</td>\n",
       "      <td>0.321477</td>\n",
       "      <td>0.875912</td>\n",
       "    </tr>\n",
       "    <tr>\n",
       "      <th>8</th>\n",
       "      <td>0.326739</td>\n",
       "      <td>0.870994</td>\n",
       "      <td>0.295180</td>\n",
       "      <td>0.879562</td>\n",
       "    </tr>\n",
       "    <tr>\n",
       "      <th>9</th>\n",
       "      <td>0.313568</td>\n",
       "      <td>0.875862</td>\n",
       "      <td>0.291637</td>\n",
       "      <td>0.879562</td>\n",
       "    </tr>\n",
       "    <tr>\n",
       "      <th>10</th>\n",
       "      <td>0.313961</td>\n",
       "      <td>0.874645</td>\n",
       "      <td>0.278374</td>\n",
       "      <td>0.897810</td>\n",
       "    </tr>\n",
       "    <tr>\n",
       "      <th>11</th>\n",
       "      <td>0.309280</td>\n",
       "      <td>0.873428</td>\n",
       "      <td>0.295088</td>\n",
       "      <td>0.894161</td>\n",
       "    </tr>\n",
       "    <tr>\n",
       "      <th>12</th>\n",
       "      <td>0.301304</td>\n",
       "      <td>0.874645</td>\n",
       "      <td>0.282570</td>\n",
       "      <td>0.897810</td>\n",
       "    </tr>\n",
       "    <tr>\n",
       "      <th>13</th>\n",
       "      <td>0.288420</td>\n",
       "      <td>0.884381</td>\n",
       "      <td>0.263872</td>\n",
       "      <td>0.901460</td>\n",
       "    </tr>\n",
       "    <tr>\n",
       "      <th>14</th>\n",
       "      <td>0.282159</td>\n",
       "      <td>0.886815</td>\n",
       "      <td>0.272089</td>\n",
       "      <td>0.890511</td>\n",
       "    </tr>\n",
       "    <tr>\n",
       "      <th>15</th>\n",
       "      <td>0.283509</td>\n",
       "      <td>0.882353</td>\n",
       "      <td>0.253595</td>\n",
       "      <td>0.901460</td>\n",
       "    </tr>\n",
       "    <tr>\n",
       "      <th>16</th>\n",
       "      <td>0.261779</td>\n",
       "      <td>0.895335</td>\n",
       "      <td>0.278344</td>\n",
       "      <td>0.894161</td>\n",
       "    </tr>\n",
       "    <tr>\n",
       "      <th>17</th>\n",
       "      <td>0.272437</td>\n",
       "      <td>0.888032</td>\n",
       "      <td>0.277536</td>\n",
       "      <td>0.894161</td>\n",
       "    </tr>\n",
       "    <tr>\n",
       "      <th>18</th>\n",
       "      <td>0.252162</td>\n",
       "      <td>0.898580</td>\n",
       "      <td>0.263109</td>\n",
       "      <td>0.901460</td>\n",
       "    </tr>\n",
       "    <tr>\n",
       "      <th>19</th>\n",
       "      <td>0.265081</td>\n",
       "      <td>0.896552</td>\n",
       "      <td>0.258546</td>\n",
       "      <td>0.901460</td>\n",
       "    </tr>\n",
       "    <tr>\n",
       "      <th>20</th>\n",
       "      <td>0.245104</td>\n",
       "      <td>0.903854</td>\n",
       "      <td>0.264097</td>\n",
       "      <td>0.897810</td>\n",
       "    </tr>\n",
       "  </tbody>\n",
       "</table>\n",
       "</div>"
      ],
      "text/plain": [
       "        loss  accuracy  val_loss  val_accuracy\n",
       "0   0.564642  0.725761  0.517631      0.784672\n",
       "1   0.456784  0.795943  0.400193      0.839416\n",
       "2   0.407168  0.819473  0.336427      0.857664\n",
       "3   0.375653  0.834888  0.349394      0.854015\n",
       "4   0.364730  0.835294  0.321512      0.879562\n",
       "5   0.353003  0.849493  0.328931      0.872263\n",
       "6   0.325574  0.864503  0.318617      0.886861\n",
       "7   0.334291  0.859229  0.321477      0.875912\n",
       "8   0.326739  0.870994  0.295180      0.879562\n",
       "9   0.313568  0.875862  0.291637      0.879562\n",
       "10  0.313961  0.874645  0.278374      0.897810\n",
       "11  0.309280  0.873428  0.295088      0.894161\n",
       "12  0.301304  0.874645  0.282570      0.897810\n",
       "13  0.288420  0.884381  0.263872      0.901460\n",
       "14  0.282159  0.886815  0.272089      0.890511\n",
       "15  0.283509  0.882353  0.253595      0.901460\n",
       "16  0.261779  0.895335  0.278344      0.894161\n",
       "17  0.272437  0.888032  0.277536      0.894161\n",
       "18  0.252162  0.898580  0.263109      0.901460\n",
       "19  0.265081  0.896552  0.258546      0.901460\n",
       "20  0.245104  0.903854  0.264097      0.897810"
      ]
     },
     "execution_count": 30,
     "metadata": {},
     "output_type": "execute_result"
    }
   ],
   "source": [
    "model_loss"
   ]
  },
  {
   "cell_type": "code",
   "execution_count": 31,
   "id": "1b280cce",
   "metadata": {},
   "outputs": [
    {
     "data": {
      "text/plain": [
       "<matplotlib.legend.Legend at 0x1fa6d33a730>"
      ]
     },
     "execution_count": 31,
     "metadata": {},
     "output_type": "execute_result"
    },
    {
     "data": {
      "image/png": "[encoded data removed]",
      "text/plain": [
       "<Figure size 432x288 with 1 Axes>"
      ]
     },
     "metadata": {
      "needs_background": "light"
     },
     "output_type": "display_data"
    }
   ],
   "source": [
    "plt.plot(model_loss['loss'],'b', label='training loss')\n",
    "plt.plot(model_loss['val_loss'],'r', label='validation loss')\n",
    "plt.legend()"
   ]
  },
  {
   "cell_type": "code",
   "execution_count": 32,
   "id": "d267732f",
   "metadata": {},
   "outputs": [
    {
     "data": {
      "text/plain": [
       "<matplotlib.legend.Legend at 0x265ea88bc70>"
      ]
     },
     "execution_count": 32,
     "metadata": {},
     "output_type": "execute_result"
    },
    {
     "data": {
      "image/png": "[encoded data removed]",
      "text/plain": [
       "<Figure size 432x288 with 1 Axes>"
      ]
     },
     "metadata": {
      "needs_background": "light"
     },
     "output_type": "display_data"
    }
   ],
   "source": [
    "plt.plot(model_loss['accuracy'],'b', label='training accuracy')\n",
    "plt.plot(model_loss['val_accuracy'],'r', label='validation accuracy')\n",
    "plt.legend()"
   ]
  },
  {
   "cell_type": "code",
   "execution_count": 41,
   "id": "42775b6e",
   "metadata": {},
   "outputs": [],
   "source": [
    "model_path = \".\\\\model_checkpoints\\\\fold_0\\\\exp_5\"\n",
    "reloaded_ann = tf.keras.models.load_model(model_path)"
   ]
  },
  {
   "cell_type": "code",
   "execution_count": 42,
   "id": "61381f61",
   "metadata": {},
   "outputs": [],
   "source": [
    "X_test = valid\n",
    "y_test = valid.iloc[:,-2].values\n",
    "X_test_ds = df_to_dataset(X_test, shuffle=False, batch_size=batch_size)"
   ]
  },
  {
   "cell_type": "code",
   "execution_count": 43,
   "id": "9dc4c678",
   "metadata": {},
   "outputs": [
    {
     "data": {
      "text/plain": [
       "18"
      ]
     },
     "execution_count": 43,
     "metadata": {},
     "output_type": "execute_result"
    }
   ],
   "source": [
    "len(X_test_ds)"
   ]
  },
  {
   "cell_type": "code",
   "execution_count": 44,
   "id": "2a37e43c",
   "metadata": {},
   "outputs": [
    {
     "name": "stdout",
     "output_type": "stream",
     "text": [
      "[[0. 0.]\n",
      " [0. 0.]\n",
      " [0. 0.]\n",
      " [0. 0.]\n",
      " [0. 0.]\n",
      " [0. 0.]\n",
      " [0. 0.]\n",
      " [1. 1.]\n",
      " [0. 0.]\n",
      " [0. 0.]\n",
      " [0. 0.]\n",
      " [0. 0.]\n",
      " [0. 0.]\n",
      " [1. 1.]\n",
      " [1. 1.]\n",
      " [0. 0.]\n",
      " [1. 1.]\n",
      " [1. 1.]\n",
      " [0. 0.]\n",
      " [1. 1.]\n",
      " [0. 0.]\n",
      " [0. 1.]\n",
      " [0. 0.]\n",
      " [0. 0.]\n",
      " [0. 0.]\n",
      " [1. 1.]\n",
      " [1. 1.]\n",
      " [0. 0.]\n",
      " [0. 0.]\n",
      " [1. 1.]\n",
      " [1. 1.]\n",
      " [1. 1.]\n",
      " [0. 0.]\n",
      " [0. 0.]\n",
      " [0. 0.]\n",
      " [0. 1.]\n",
      " [1. 1.]\n",
      " [1. 1.]\n",
      " [0. 0.]\n",
      " [0. 0.]\n",
      " [1. 1.]\n",
      " [0. 0.]\n",
      " [1. 0.]\n",
      " [1. 1.]\n",
      " [0. 0.]\n",
      " [0. 0.]\n",
      " [0. 0.]\n",
      " [0. 0.]\n",
      " [0. 0.]\n",
      " [0. 0.]\n",
      " [0. 1.]\n",
      " [0. 0.]\n",
      " [1. 1.]\n",
      " [1. 1.]\n",
      " [0. 0.]\n",
      " [0. 0.]\n",
      " [0. 0.]\n",
      " [0. 0.]\n",
      " [1. 1.]\n",
      " [1. 1.]\n",
      " [0. 1.]\n",
      " [0. 0.]\n",
      " [0. 0.]\n",
      " [0. 0.]\n",
      " [0. 0.]\n",
      " [0. 0.]\n",
      " [1. 1.]\n",
      " [1. 1.]\n",
      " [0. 0.]\n",
      " [1. 1.]\n",
      " [0. 0.]\n",
      " [1. 1.]\n",
      " [1. 1.]\n",
      " [0. 0.]\n",
      " [0. 0.]\n",
      " [1. 1.]\n",
      " [1. 1.]\n",
      " [0. 0.]\n",
      " [0. 0.]\n",
      " [0. 0.]\n",
      " [1. 1.]\n",
      " [0. 0.]\n",
      " [0. 0.]\n",
      " [0. 0.]\n",
      " [0. 0.]\n",
      " [0. 0.]\n",
      " [0. 0.]\n",
      " [1. 1.]\n",
      " [1. 1.]\n",
      " [1. 1.]\n",
      " [0. 0.]\n",
      " [1. 1.]\n",
      " [1. 1.]\n",
      " [0. 0.]\n",
      " [0. 0.]\n",
      " [0. 0.]\n",
      " [0. 0.]\n",
      " [1. 1.]\n",
      " [0. 0.]\n",
      " [0. 0.]\n",
      " [0. 1.]\n",
      " [1. 1.]\n",
      " [0. 1.]\n",
      " [0. 0.]\n",
      " [0. 0.]\n",
      " [1. 1.]\n",
      " [0. 0.]\n",
      " [1. 1.]\n",
      " [0. 0.]\n",
      " [0. 1.]\n",
      " [1. 1.]\n",
      " [0. 0.]\n",
      " [0. 0.]\n",
      " [0. 0.]\n",
      " [1. 1.]\n",
      " [1. 1.]\n",
      " [1. 1.]\n",
      " [0. 0.]\n",
      " [1. 1.]\n",
      " [0. 0.]\n",
      " [0. 0.]\n",
      " [0. 0.]\n",
      " [0. 0.]\n",
      " [0. 0.]\n",
      " [0. 0.]\n",
      " [0. 0.]\n",
      " [1. 1.]\n",
      " [0. 0.]\n",
      " [0. 0.]\n",
      " [0. 0.]\n",
      " [0. 0.]\n",
      " [1. 1.]\n",
      " [0. 0.]\n",
      " [0. 0.]\n",
      " [1. 1.]\n",
      " [0. 0.]\n",
      " [0. 0.]\n",
      " [0. 0.]\n",
      " [0. 0.]\n",
      " [1. 1.]\n",
      " [0. 0.]\n",
      " [1. 1.]\n",
      " [0. 0.]\n",
      " [0. 0.]\n",
      " [0. 0.]\n",
      " [0. 1.]\n",
      " [1. 1.]\n",
      " [0. 0.]\n",
      " [0. 0.]\n",
      " [0. 0.]\n",
      " [0. 0.]\n",
      " [1. 1.]\n",
      " [1. 0.]\n",
      " [0. 0.]\n",
      " [0. 0.]\n",
      " [1. 1.]\n",
      " [0. 0.]\n",
      " [1. 0.]\n",
      " [0. 0.]\n",
      " [0. 0.]\n",
      " [0. 0.]\n",
      " [1. 1.]\n",
      " [0. 0.]\n",
      " [1. 1.]\n",
      " [1. 0.]\n",
      " [0. 0.]\n",
      " [0. 0.]\n",
      " [0. 1.]\n",
      " [0. 0.]\n",
      " [0. 0.]\n",
      " [0. 0.]\n",
      " [0. 0.]\n",
      " [0. 0.]\n",
      " [0. 0.]\n",
      " [0. 0.]\n",
      " [0. 0.]\n",
      " [0. 1.]\n",
      " [1. 1.]\n",
      " [0. 0.]\n",
      " [1. 1.]\n",
      " [0. 0.]\n",
      " [0. 0.]\n",
      " [0. 0.]\n",
      " [0. 0.]\n",
      " [1. 1.]\n",
      " [0. 0.]\n",
      " [0. 0.]\n",
      " [1. 1.]\n",
      " [0. 0.]\n",
      " [0. 0.]\n",
      " [0. 0.]\n",
      " [1. 1.]\n",
      " [0. 0.]\n",
      " [1. 1.]\n",
      " [1. 1.]\n",
      " [0. 0.]\n",
      " [0. 0.]\n",
      " [0. 0.]\n",
      " [0. 0.]\n",
      " [0. 0.]\n",
      " [1. 1.]\n",
      " [1. 0.]\n",
      " [0. 1.]\n",
      " [0. 0.]\n",
      " [0. 0.]\n",
      " [1. 1.]\n",
      " [0. 0.]\n",
      " [0. 0.]\n",
      " [1. 0.]\n",
      " [0. 0.]\n",
      " [1. 1.]\n",
      " [1. 1.]\n",
      " [0. 0.]\n",
      " [0. 0.]\n",
      " [1. 1.]\n",
      " [0. 0.]\n",
      " [0. 0.]\n",
      " [1. 1.]\n",
      " [1. 1.]\n",
      " [0. 0.]\n",
      " [1. 1.]\n",
      " [0. 0.]\n",
      " [0. 0.]\n",
      " [1. 1.]\n",
      " [1. 1.]\n",
      " [1. 0.]\n",
      " [0. 0.]\n",
      " [0. 1.]\n",
      " [0. 0.]\n",
      " [0. 0.]\n",
      " [0. 0.]\n",
      " [1. 1.]\n",
      " [1. 1.]\n",
      " [0. 0.]\n",
      " [0. 0.]\n",
      " [0. 0.]\n",
      " [0. 0.]\n",
      " [0. 0.]\n",
      " [0. 0.]\n",
      " [0. 0.]\n",
      " [1. 1.]\n",
      " [1. 1.]\n",
      " [1. 1.]\n",
      " [0. 0.]\n",
      " [1. 1.]\n",
      " [1. 1.]\n",
      " [1. 1.]\n",
      " [0. 0.]\n",
      " [1. 1.]\n",
      " [1. 1.]\n",
      " [0. 0.]\n",
      " [1. 1.]\n",
      " [0. 0.]\n",
      " [0. 0.]\n",
      " [0. 0.]\n",
      " [0. 0.]\n",
      " [1. 1.]\n",
      " [0. 0.]\n",
      " [0. 0.]\n",
      " [0. 0.]\n",
      " [0. 0.]\n",
      " [0. 0.]\n",
      " [0. 0.]\n",
      " [0. 0.]\n",
      " [1. 1.]\n",
      " [1. 1.]\n",
      " [0. 0.]\n",
      " [0. 0.]\n",
      " [1. 1.]\n",
      " [0. 0.]\n",
      " [0. 0.]\n",
      " [1. 1.]\n",
      " [0. 0.]\n",
      " [1. 1.]]\n"
     ]
    }
   ],
   "source": [
    "y_pred = reloaded_ann.predict(X_test_ds)\n",
    "y_pred = (y_pred > 0.5)\n",
    "print(np.concatenate((y_pred.reshape(len(y_pred),1), y_test.reshape(len(y_test),1)),1))"
   ]
  },
  {
   "cell_type": "code",
   "execution_count": 45,
   "id": "690d5e27",
   "metadata": {},
   "outputs": [
    {
     "data": {
      "text/plain": [
       "<sklearn.metrics._plot.confusion_matrix.ConfusionMatrixDisplay at 0x265f20c27f0>"
      ]
     },
     "execution_count": 45,
     "metadata": {},
     "output_type": "execute_result"
    },
    {
     "data": {
      "image/png": "[encoded data removed]",
      "text/plain": [
       "<Figure size 432x288 with 2 Axes>"
      ]
     },
     "metadata": {
      "needs_background": "light"
     },
     "output_type": "display_data"
    }
   ],
   "source": [
    "cm = confusion_matrix(y_test, y_pred)\n",
    "cmd = ConfusionMatrixDisplay(cm, display_labels = ['Weak Inhibitor', 'Strong Inhibitor'])\n",
    "cmd.plot()"
   ]
  },
  {
   "cell_type": "code",
   "execution_count": 46,
   "id": "abf04529",
   "metadata": {},
   "outputs": [
    {
     "name": "stdout",
     "output_type": "stream",
     "text": [
      "              precision    recall  f1-score   support\n",
      "\n",
      "         0.0       0.93      0.96      0.95       177\n",
      "         1.0       0.92      0.88      0.90        97\n",
      "\n",
      "    accuracy                           0.93       274\n",
      "   macro avg       0.93      0.92      0.92       274\n",
      "weighted avg       0.93      0.93      0.93       274\n",
      "\n"
     ]
    }
   ],
   "source": [
    "print(classification_report(y_test,y_pred))"
   ]
  },
  {
   "cell_type": "code",
   "execution_count": 47,
   "id": "3775473a",
   "metadata": {},
   "outputs": [
    {
     "data": {
      "text/plain": [
       "0.9183703185974722"
      ]
     },
     "execution_count": 47,
     "metadata": {},
     "output_type": "execute_result"
    }
   ],
   "source": [
    "fpr, tpr, threshold = roc_curve(y_test, y_pred)\n",
    "roc_auc = auc(fpr, tpr)\n",
    "roc_auc"
   ]
  },
  {
   "cell_type": "code",
   "execution_count": null,
   "id": "22acd00a",
   "metadata": {},
   "outputs": [],
   "source": []
  }
 ],
 "metadata": {
  "kernelspec": {
   "display_name": "tfgpu",
   "language": "python",
   "name": "tfgpu"
  },
  "language_info": {
   "codemirror_mode": {
    "name": "ipython",
    "version": 3
   },
   "file_extension": ".py",
   "mimetype": "text/x-python",
   "name": "python",
   "nbconvert_exporter": "python",
   "pygments_lexer": "ipython3",
   "version": "3.8.0"
  }
 },
 "nbformat": 4,
 "nbformat_minor": 5
}

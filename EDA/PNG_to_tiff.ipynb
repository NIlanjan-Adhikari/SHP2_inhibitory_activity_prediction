{
 "cells": [
  {
   "cell_type": "code",
   "execution_count": 6,
   "id": "7c7bbd2e",
   "metadata": {},
   "outputs": [],
   "source": [
    "import os\n",
    "from PIL import Image\n",
    "Image.MAX_IMAGE_PIXELS = 933120000"
   ]
  },
  {
   "cell_type": "code",
   "execution_count": 7,
   "id": "24505df9",
   "metadata": {},
   "outputs": [],
   "source": [
    "src_folder_path = r\"C:\\Users\\nilan\\Desktop\\SHP2_Paper\\Repo_exp_1\\images\"\n",
    "target_folder_path = r\"C:\\Users\\nilan\\Desktop\\SHP2_Paper\\Repo_exp_1\\images_tiff\""
   ]
  },
  {
   "cell_type": "code",
   "execution_count": 8,
   "id": "a53f4886",
   "metadata": {},
   "outputs": [
    {
     "name": "stdout",
     "output_type": "stream",
     "text": [
      "Fig_10_A.png\n",
      "Fig_10_B.png\n",
      "Fig_11_A.png\n",
      "Fig_11_B.png\n",
      "Fig_12.png\n",
      "Fig_13_A.png\n",
      "Fig_13_B.png\n",
      "Fig_14_A.png\n",
      "Fig_14_B.png\n",
      "Fig_15_A.png\n",
      "Fig_15_B.png\n",
      "Fig_16_A.png\n",
      "Fig_16_B.png\n",
      "Fig_17_A.png\n",
      "Fig_17_B.png\n",
      "Fig_2_A.png\n",
      "Fig_2_B.png\n",
      "Fig_3_A.png\n",
      "Fig_3_B.png\n",
      "Fig_3_C.png\n",
      "Fig_3_D.png\n",
      "Fig_4_A.png\n",
      "Fig_4_B.png\n",
      "Fig_4_C.png\n",
      "Fig_4_D.png\n",
      "Fig_4_E.png\n",
      "Fig_4_F.png\n",
      "Fig_4_G.png\n",
      "Fig_4_H.png\n",
      "Fig_4_I.png\n",
      "Fig_4_J.png\n",
      "Fig_4_K.png\n",
      "Fig_4_L.png\n",
      "Fig_5_A.png\n",
      "Fig_5_B.png\n",
      "Fig_5_C.png\n",
      "Fig_5_D.png\n",
      "Fig_5_E.png\n",
      "Fig_5_F.png\n",
      "Fig_6_A.png\n",
      "Fig_6_B.png\n",
      "Fig_6_C.png\n",
      "Fig_6_D.png\n",
      "Fig_6_E.png\n",
      "Fig_6_F.png\n",
      "Fig_7_A.png\n",
      "Fig_7_B.png\n",
      "Fig_7_C.png\n",
      "Fig_7_D.png\n",
      "Fig_8_A.png\n",
      "Fig_8_B.png\n",
      "Fig_9_A.png\n",
      "Fig_9_B.png\n"
     ]
    }
   ],
   "source": [
    "for file in os.listdir(src_folder_path):\n",
    "    print(file)\n",
    "    img = Image.open(os.path.join(src_folder_path, file))\n",
    "    file_name = f\"{file.split('.')[0]}.tiff\"\n",
    "    file_path = os.path.join(target_folder_path, file_name)\n",
    "    img.save(file_path)"
   ]
  },
  {
   "cell_type": "code",
   "execution_count": null,
   "id": "77b6351e",
   "metadata": {},
   "outputs": [],
   "source": []
  }
 ],
 "metadata": {
  "kernelspec": {
   "display_name": "Thesis",
   "language": "python",
   "name": "thesis"
  },
  "language_info": {
   "codemirror_mode": {
    "name": "ipython",
    "version": 3
   },
   "file_extension": ".py",
   "mimetype": "text/x-python",
   "name": "python",
   "nbconvert_exporter": "python",
   "pygments_lexer": "ipython3",
   "version": "3.7.1"
  }
 },
 "nbformat": 4,
 "nbformat_minor": 5
}

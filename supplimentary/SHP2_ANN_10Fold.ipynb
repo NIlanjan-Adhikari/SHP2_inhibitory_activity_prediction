{
 "cells": [
  {
   "cell_type": "code",
   "execution_count": 1,
   "id": "af4a207b",
   "metadata": {},
   "outputs": [
    {
     "ename": "ImportError",
     "evalue": "cannot import name 'LayerNormalization' from 'tensorflow.python.keras.layers.normalization' (C:\\Users\\nilan\\.conda\\envs\\tf2.6\\lib\\site-packages\\tensorflow\\python\\keras\\layers\\normalization\\__init__.py)",
     "output_type": "error",
     "traceback": [
      "\u001b[1;31m---------------------------------------------------------------------------\u001b[0m",
      "\u001b[1;31mImportError\u001b[0m                               Traceback (most recent call last)",
      "\u001b[1;32m~\\AppData\\Local\\Temp/ipykernel_12860/388156647.py\u001b[0m in \u001b[0;36m<module>\u001b[1;34m\u001b[0m\n\u001b[0;32m      2\u001b[0m \u001b[1;32mimport\u001b[0m \u001b[0mpandas\u001b[0m \u001b[1;32mas\u001b[0m \u001b[0mpd\u001b[0m\u001b[1;33m\u001b[0m\u001b[1;33m\u001b[0m\u001b[0m\n\u001b[0;32m      3\u001b[0m \u001b[1;32mimport\u001b[0m \u001b[0mmatplotlib\u001b[0m\u001b[1;33m.\u001b[0m\u001b[0mpyplot\u001b[0m \u001b[1;32mas\u001b[0m \u001b[0mplt\u001b[0m\u001b[1;33m\u001b[0m\u001b[1;33m\u001b[0m\u001b[0m\n\u001b[1;32m----> 4\u001b[1;33m \u001b[1;32mimport\u001b[0m \u001b[0mtensorflow\u001b[0m \u001b[1;32mas\u001b[0m \u001b[0mtf\u001b[0m\u001b[1;33m\u001b[0m\u001b[1;33m\u001b[0m\u001b[0m\n\u001b[0m\u001b[0;32m      5\u001b[0m \u001b[1;32mfrom\u001b[0m \u001b[0mtensorflow\u001b[0m\u001b[1;33m.\u001b[0m\u001b[0mkeras\u001b[0m \u001b[1;32mimport\u001b[0m \u001b[0mlayers\u001b[0m\u001b[1;33m\u001b[0m\u001b[1;33m\u001b[0m\u001b[0m\n\u001b[0;32m      6\u001b[0m \u001b[1;32mimport\u001b[0m \u001b[0mwarnings\u001b[0m\u001b[1;33m\u001b[0m\u001b[1;33m\u001b[0m\u001b[0m\n",
      "\u001b[1;32m~\\.conda\\envs\\tf2.6\\lib\\site-packages\\tensorflow\\__init__.py\u001b[0m in \u001b[0;36m<module>\u001b[1;34m\u001b[0m\n\u001b[0;32m     39\u001b[0m \u001b[1;32mimport\u001b[0m \u001b[0msys\u001b[0m \u001b[1;32mas\u001b[0m \u001b[0m_sys\u001b[0m\u001b[1;33m\u001b[0m\u001b[1;33m\u001b[0m\u001b[0m\n\u001b[0;32m     40\u001b[0m \u001b[1;33m\u001b[0m\u001b[0m\n\u001b[1;32m---> 41\u001b[1;33m \u001b[1;32mfrom\u001b[0m \u001b[0mtensorflow\u001b[0m\u001b[1;33m.\u001b[0m\u001b[0mpython\u001b[0m\u001b[1;33m.\u001b[0m\u001b[0mtools\u001b[0m \u001b[1;32mimport\u001b[0m \u001b[0mmodule_util\u001b[0m \u001b[1;32mas\u001b[0m \u001b[0m_module_util\u001b[0m\u001b[1;33m\u001b[0m\u001b[1;33m\u001b[0m\u001b[0m\n\u001b[0m\u001b[0;32m     42\u001b[0m \u001b[1;32mfrom\u001b[0m \u001b[0mtensorflow\u001b[0m\u001b[1;33m.\u001b[0m\u001b[0mpython\u001b[0m\u001b[1;33m.\u001b[0m\u001b[0mutil\u001b[0m\u001b[1;33m.\u001b[0m\u001b[0mlazy_loader\u001b[0m \u001b[1;32mimport\u001b[0m \u001b[0mLazyLoader\u001b[0m \u001b[1;32mas\u001b[0m \u001b[0m_LazyLoader\u001b[0m\u001b[1;33m\u001b[0m\u001b[1;33m\u001b[0m\u001b[0m\n\u001b[0;32m     43\u001b[0m \u001b[1;33m\u001b[0m\u001b[0m\n",
      "\u001b[1;32m~\\.conda\\envs\\tf2.6\\lib\\site-packages\\tensorflow\\python\\__init__.py\u001b[0m in \u001b[0;36m<module>\u001b[1;34m\u001b[0m\n\u001b[0;32m     45\u001b[0m \u001b[1;32mfrom\u001b[0m \u001b[0mtensorflow\u001b[0m\u001b[1;33m.\u001b[0m\u001b[0mpython\u001b[0m \u001b[1;32mimport\u001b[0m \u001b[0mdata\u001b[0m\u001b[1;33m\u001b[0m\u001b[1;33m\u001b[0m\u001b[0m\n\u001b[0;32m     46\u001b[0m \u001b[1;32mfrom\u001b[0m \u001b[0mtensorflow\u001b[0m\u001b[1;33m.\u001b[0m\u001b[0mpython\u001b[0m \u001b[1;32mimport\u001b[0m \u001b[0mdistribute\u001b[0m\u001b[1;33m\u001b[0m\u001b[1;33m\u001b[0m\u001b[0m\n\u001b[1;32m---> 47\u001b[1;33m \u001b[1;32mfrom\u001b[0m \u001b[0mtensorflow\u001b[0m\u001b[1;33m.\u001b[0m\u001b[0mpython\u001b[0m \u001b[1;32mimport\u001b[0m \u001b[0mkeras\u001b[0m\u001b[1;33m\u001b[0m\u001b[1;33m\u001b[0m\u001b[0m\n\u001b[0m\u001b[0;32m     48\u001b[0m \u001b[1;32mfrom\u001b[0m \u001b[0mtensorflow\u001b[0m\u001b[1;33m.\u001b[0m\u001b[0mpython\u001b[0m\u001b[1;33m.\u001b[0m\u001b[0mfeature_column\u001b[0m \u001b[1;32mimport\u001b[0m \u001b[0mfeature_column_lib\u001b[0m \u001b[1;32mas\u001b[0m \u001b[0mfeature_column\u001b[0m\u001b[1;33m\u001b[0m\u001b[1;33m\u001b[0m\u001b[0m\n\u001b[0;32m     49\u001b[0m \u001b[1;32mfrom\u001b[0m \u001b[0mtensorflow\u001b[0m\u001b[1;33m.\u001b[0m\u001b[0mpython\u001b[0m\u001b[1;33m.\u001b[0m\u001b[0mlayers\u001b[0m \u001b[1;32mimport\u001b[0m \u001b[0mlayers\u001b[0m\u001b[1;33m\u001b[0m\u001b[1;33m\u001b[0m\u001b[0m\n",
      "\u001b[1;32m~\\.conda\\envs\\tf2.6\\lib\\site-packages\\tensorflow\\python\\keras\\__init__.py\u001b[0m in \u001b[0;36m<module>\u001b[1;34m\u001b[0m\n\u001b[0;32m     25\u001b[0m \u001b[1;33m\u001b[0m\u001b[0m\n\u001b[0;32m     26\u001b[0m \u001b[1;31m# See b/110718070#comment18 for more details about this import.\u001b[0m\u001b[1;33m\u001b[0m\u001b[1;33m\u001b[0m\u001b[1;33m\u001b[0m\u001b[0m\n\u001b[1;32m---> 27\u001b[1;33m \u001b[1;32mfrom\u001b[0m \u001b[0mtensorflow\u001b[0m\u001b[1;33m.\u001b[0m\u001b[0mpython\u001b[0m\u001b[1;33m.\u001b[0m\u001b[0mkeras\u001b[0m \u001b[1;32mimport\u001b[0m \u001b[0mmodels\u001b[0m\u001b[1;33m\u001b[0m\u001b[1;33m\u001b[0m\u001b[0m\n\u001b[0m\u001b[0;32m     28\u001b[0m \u001b[1;33m\u001b[0m\u001b[0m\n\u001b[0;32m     29\u001b[0m \u001b[1;32mfrom\u001b[0m \u001b[0mtensorflow\u001b[0m\u001b[1;33m.\u001b[0m\u001b[0mpython\u001b[0m\u001b[1;33m.\u001b[0m\u001b[0mkeras\u001b[0m\u001b[1;33m.\u001b[0m\u001b[0mengine\u001b[0m\u001b[1;33m.\u001b[0m\u001b[0minput_layer\u001b[0m \u001b[1;32mimport\u001b[0m \u001b[0mInput\u001b[0m\u001b[1;33m\u001b[0m\u001b[1;33m\u001b[0m\u001b[0m\n",
      "\u001b[1;32m~\\.conda\\envs\\tf2.6\\lib\\site-packages\\tensorflow\\python\\keras\\models.py\u001b[0m in \u001b[0;36m<module>\u001b[1;34m\u001b[0m\n\u001b[0;32m     25\u001b[0m \u001b[1;32mfrom\u001b[0m \u001b[0mtensorflow\u001b[0m\u001b[1;33m.\u001b[0m\u001b[0mpython\u001b[0m\u001b[1;33m.\u001b[0m\u001b[0mkeras\u001b[0m \u001b[1;32mimport\u001b[0m \u001b[0moptimizers\u001b[0m\u001b[1;33m\u001b[0m\u001b[1;33m\u001b[0m\u001b[0m\n\u001b[0;32m     26\u001b[0m \u001b[1;32mfrom\u001b[0m \u001b[0mtensorflow\u001b[0m\u001b[1;33m.\u001b[0m\u001b[0mpython\u001b[0m\u001b[1;33m.\u001b[0m\u001b[0mkeras\u001b[0m\u001b[1;33m.\u001b[0m\u001b[0mengine\u001b[0m \u001b[1;32mimport\u001b[0m \u001b[0mfunctional\u001b[0m\u001b[1;33m\u001b[0m\u001b[1;33m\u001b[0m\u001b[0m\n\u001b[1;32m---> 27\u001b[1;33m \u001b[1;32mfrom\u001b[0m \u001b[0mtensorflow\u001b[0m\u001b[1;33m.\u001b[0m\u001b[0mpython\u001b[0m\u001b[1;33m.\u001b[0m\u001b[0mkeras\u001b[0m\u001b[1;33m.\u001b[0m\u001b[0mengine\u001b[0m \u001b[1;32mimport\u001b[0m \u001b[0msequential\u001b[0m\u001b[1;33m\u001b[0m\u001b[1;33m\u001b[0m\u001b[0m\n\u001b[0m\u001b[0;32m     28\u001b[0m \u001b[1;32mfrom\u001b[0m \u001b[0mtensorflow\u001b[0m\u001b[1;33m.\u001b[0m\u001b[0mpython\u001b[0m\u001b[1;33m.\u001b[0m\u001b[0mkeras\u001b[0m\u001b[1;33m.\u001b[0m\u001b[0mengine\u001b[0m \u001b[1;32mimport\u001b[0m \u001b[0mtraining\u001b[0m\u001b[1;33m\u001b[0m\u001b[1;33m\u001b[0m\u001b[0m\n\u001b[0;32m     29\u001b[0m \u001b[1;32mfrom\u001b[0m \u001b[0mtensorflow\u001b[0m\u001b[1;33m.\u001b[0m\u001b[0mpython\u001b[0m\u001b[1;33m.\u001b[0m\u001b[0mkeras\u001b[0m\u001b[1;33m.\u001b[0m\u001b[0mengine\u001b[0m \u001b[1;32mimport\u001b[0m \u001b[0mtraining_v1\u001b[0m\u001b[1;33m\u001b[0m\u001b[1;33m\u001b[0m\u001b[0m\n",
      "\u001b[1;32m~\\.conda\\envs\\tf2.6\\lib\\site-packages\\tensorflow\\python\\keras\\engine\\sequential.py\u001b[0m in \u001b[0;36m<module>\u001b[1;34m\u001b[0m\n\u001b[0;32m     25\u001b[0m \u001b[1;32mfrom\u001b[0m \u001b[0mtensorflow\u001b[0m\u001b[1;33m.\u001b[0m\u001b[0mpython\u001b[0m\u001b[1;33m.\u001b[0m\u001b[0mframework\u001b[0m \u001b[1;32mimport\u001b[0m \u001b[0mops\u001b[0m\u001b[1;33m\u001b[0m\u001b[1;33m\u001b[0m\u001b[0m\n\u001b[0;32m     26\u001b[0m \u001b[1;32mfrom\u001b[0m \u001b[0mtensorflow\u001b[0m\u001b[1;33m.\u001b[0m\u001b[0mpython\u001b[0m\u001b[1;33m.\u001b[0m\u001b[0mframework\u001b[0m \u001b[1;32mimport\u001b[0m \u001b[0mtensor_util\u001b[0m\u001b[1;33m\u001b[0m\u001b[1;33m\u001b[0m\u001b[0m\n\u001b[1;32m---> 27\u001b[1;33m \u001b[1;32mfrom\u001b[0m \u001b[0mtensorflow\u001b[0m\u001b[1;33m.\u001b[0m\u001b[0mpython\u001b[0m\u001b[1;33m.\u001b[0m\u001b[0mkeras\u001b[0m \u001b[1;32mimport\u001b[0m \u001b[0mlayers\u001b[0m \u001b[1;32mas\u001b[0m \u001b[0mlayer_module\u001b[0m\u001b[1;33m\u001b[0m\u001b[1;33m\u001b[0m\u001b[0m\n\u001b[0m\u001b[0;32m     28\u001b[0m \u001b[1;32mfrom\u001b[0m \u001b[0mtensorflow\u001b[0m\u001b[1;33m.\u001b[0m\u001b[0mpython\u001b[0m\u001b[1;33m.\u001b[0m\u001b[0mkeras\u001b[0m\u001b[1;33m.\u001b[0m\u001b[0mengine\u001b[0m \u001b[1;32mimport\u001b[0m \u001b[0mbase_layer\u001b[0m\u001b[1;33m\u001b[0m\u001b[1;33m\u001b[0m\u001b[0m\n\u001b[0;32m     29\u001b[0m \u001b[1;32mfrom\u001b[0m \u001b[0mtensorflow\u001b[0m\u001b[1;33m.\u001b[0m\u001b[0mpython\u001b[0m\u001b[1;33m.\u001b[0m\u001b[0mkeras\u001b[0m\u001b[1;33m.\u001b[0m\u001b[0mengine\u001b[0m \u001b[1;32mimport\u001b[0m \u001b[0mfunctional\u001b[0m\u001b[1;33m\u001b[0m\u001b[1;33m\u001b[0m\u001b[0m\n",
      "\u001b[1;32m~\\.conda\\envs\\tf2.6\\lib\\site-packages\\tensorflow\\python\\keras\\layers\\__init__.py\u001b[0m in \u001b[0;36m<module>\u001b[1;34m\u001b[0m\n\u001b[0;32m    172\u001b[0m \u001b[1;33m\u001b[0m\u001b[0m\n\u001b[0;32m    173\u001b[0m \u001b[1;31m# Normalization layers.\u001b[0m\u001b[1;33m\u001b[0m\u001b[1;33m\u001b[0m\u001b[1;33m\u001b[0m\u001b[0m\n\u001b[1;32m--> 174\u001b[1;33m \u001b[1;32mfrom\u001b[0m \u001b[0mtensorflow\u001b[0m\u001b[1;33m.\u001b[0m\u001b[0mpython\u001b[0m\u001b[1;33m.\u001b[0m\u001b[0mkeras\u001b[0m\u001b[1;33m.\u001b[0m\u001b[0mlayers\u001b[0m\u001b[1;33m.\u001b[0m\u001b[0mnormalization\u001b[0m \u001b[1;32mimport\u001b[0m \u001b[0mLayerNormalization\u001b[0m\u001b[1;33m\u001b[0m\u001b[1;33m\u001b[0m\u001b[0m\n\u001b[0m\u001b[0;32m    175\u001b[0m \u001b[1;32mfrom\u001b[0m \u001b[0mtensorflow\u001b[0m\u001b[1;33m.\u001b[0m\u001b[0mpython\u001b[0m\u001b[1;33m.\u001b[0m\u001b[0mkeras\u001b[0m\u001b[1;33m.\u001b[0m\u001b[0mlayers\u001b[0m\u001b[1;33m.\u001b[0m\u001b[0mnormalization_v2\u001b[0m \u001b[1;32mimport\u001b[0m \u001b[0mSyncBatchNormalization\u001b[0m\u001b[1;33m\u001b[0m\u001b[1;33m\u001b[0m\u001b[0m\n\u001b[0;32m    176\u001b[0m \u001b[1;33m\u001b[0m\u001b[0m\n",
      "\u001b[1;31mImportError\u001b[0m: cannot import name 'LayerNormalization' from 'tensorflow.python.keras.layers.normalization' (C:\\Users\\nilan\\.conda\\envs\\tf2.6\\lib\\site-packages\\tensorflow\\python\\keras\\layers\\normalization\\__init__.py)"
     ]
    }
   ],
   "source": [
    "import numpy as np\n",
    "import pandas as pd\n",
    "import matplotlib.pyplot as plt\n",
    "import tensorflow as tf\n",
    "from tensorflow.keras import layers\n",
    "import warnings\n",
    "warnings.filterwarnings('ignore')"
   ]
  },
  {
   "cell_type": "code",
   "execution_count": null,
   "id": "f4e9243b",
   "metadata": {},
   "outputs": [],
   "source": [
    "# Load the TensorBoard notebook extension\n",
    "%load_ext tensorboard"
   ]
  },
  {
   "cell_type": "code",
   "execution_count": 14,
   "id": "fd6840bf",
   "metadata": {},
   "outputs": [
    {
     "data": {
      "text/html": [
       "<div>\n",
       "<style scoped>\n",
       "    .dataframe tbody tr th:only-of-type {\n",
       "        vertical-align: middle;\n",
       "    }\n",
       "\n",
       "    .dataframe tbody tr th {\n",
       "        vertical-align: top;\n",
       "    }\n",
       "\n",
       "    .dataframe thead th {\n",
       "        text-align: right;\n",
       "    }\n",
       "</style>\n",
       "<table border=\"1\" class=\"dataframe\">\n",
       "  <thead>\n",
       "    <tr style=\"text-align: right;\">\n",
       "      <th></th>\n",
       "      <th>MaxPartialCharge</th>\n",
       "      <th>FpDensityMorgan2</th>\n",
       "      <th>BCUT2D_CHGLO</th>\n",
       "      <th>BCUT2D_MRHI</th>\n",
       "      <th>PEOE_VSA12</th>\n",
       "      <th>PEOE_VSA6</th>\n",
       "      <th>SMR_VSA3</th>\n",
       "      <th>SlogP_VSA3</th>\n",
       "      <th>SlogP_VSA8</th>\n",
       "      <th>EState_VSA6</th>\n",
       "      <th>NumHAcceptors</th>\n",
       "      <th>NumSaturatedCarbocycles</th>\n",
       "      <th>fr_bicyclic</th>\n",
       "      <th>TARGET</th>\n",
       "      <th>Kfold</th>\n",
       "    </tr>\n",
       "  </thead>\n",
       "  <tbody>\n",
       "    <tr>\n",
       "      <th>0</th>\n",
       "      <td>0.232165</td>\n",
       "      <td>2.055556</td>\n",
       "      <td>-2.414188</td>\n",
       "      <td>6.375148</td>\n",
       "      <td>5.879988</td>\n",
       "      <td>11.600940</td>\n",
       "      <td>30.133278</td>\n",
       "      <td>11.343745</td>\n",
       "      <td>33.454659</td>\n",
       "      <td>6.196844</td>\n",
       "      <td>10</td>\n",
       "      <td>0</td>\n",
       "      <td>2</td>\n",
       "      <td>1.0</td>\n",
       "      <td>8</td>\n",
       "    </tr>\n",
       "    <tr>\n",
       "      <th>1</th>\n",
       "      <td>0.313409</td>\n",
       "      <td>1.155172</td>\n",
       "      <td>-2.211123</td>\n",
       "      <td>7.894021</td>\n",
       "      <td>0.000000</td>\n",
       "      <td>101.109334</td>\n",
       "      <td>4.899910</td>\n",
       "      <td>51.033142</td>\n",
       "      <td>6.076020</td>\n",
       "      <td>62.378411</td>\n",
       "      <td>10</td>\n",
       "      <td>0</td>\n",
       "      <td>0</td>\n",
       "      <td>0.0</td>\n",
       "      <td>9</td>\n",
       "    </tr>\n",
       "    <tr>\n",
       "      <th>2</th>\n",
       "      <td>0.394239</td>\n",
       "      <td>1.740741</td>\n",
       "      <td>-2.156618</td>\n",
       "      <td>6.360204</td>\n",
       "      <td>0.000000</td>\n",
       "      <td>17.907236</td>\n",
       "      <td>0.000000</td>\n",
       "      <td>9.589074</td>\n",
       "      <td>0.000000</td>\n",
       "      <td>31.127988</td>\n",
       "      <td>5</td>\n",
       "      <td>0</td>\n",
       "      <td>0</td>\n",
       "      <td>0.0</td>\n",
       "      <td>3</td>\n",
       "    </tr>\n",
       "    <tr>\n",
       "      <th>3</th>\n",
       "      <td>0.259309</td>\n",
       "      <td>1.789474</td>\n",
       "      <td>-1.979236</td>\n",
       "      <td>6.347147</td>\n",
       "      <td>5.824404</td>\n",
       "      <td>28.358543</td>\n",
       "      <td>15.124620</td>\n",
       "      <td>0.000000</td>\n",
       "      <td>22.842031</td>\n",
       "      <td>42.725522</td>\n",
       "      <td>4</td>\n",
       "      <td>0</td>\n",
       "      <td>0</td>\n",
       "      <td>0.0</td>\n",
       "      <td>5</td>\n",
       "    </tr>\n",
       "    <tr>\n",
       "      <th>4</th>\n",
       "      <td>0.326721</td>\n",
       "      <td>1.804878</td>\n",
       "      <td>-2.225746</td>\n",
       "      <td>9.103009</td>\n",
       "      <td>0.000000</td>\n",
       "      <td>88.440639</td>\n",
       "      <td>9.883888</td>\n",
       "      <td>22.616778</td>\n",
       "      <td>27.751393</td>\n",
       "      <td>12.272864</td>\n",
       "      <td>5</td>\n",
       "      <td>0</td>\n",
       "      <td>2</td>\n",
       "      <td>0.0</td>\n",
       "      <td>9</td>\n",
       "    </tr>\n",
       "    <tr>\n",
       "      <th>...</th>\n",
       "      <td>...</td>\n",
       "      <td>...</td>\n",
       "      <td>...</td>\n",
       "      <td>...</td>\n",
       "      <td>...</td>\n",
       "      <td>...</td>\n",
       "      <td>...</td>\n",
       "      <td>...</td>\n",
       "      <td>...</td>\n",
       "      <td>...</td>\n",
       "      <td>...</td>\n",
       "      <td>...</td>\n",
       "      <td>...</td>\n",
       "      <td>...</td>\n",
       "      <td>...</td>\n",
       "    </tr>\n",
       "    <tr>\n",
       "      <th>2734</th>\n",
       "      <td>0.157227</td>\n",
       "      <td>1.928571</td>\n",
       "      <td>-2.406681</td>\n",
       "      <td>7.927002</td>\n",
       "      <td>0.000000</td>\n",
       "      <td>35.334614</td>\n",
       "      <td>9.967957</td>\n",
       "      <td>9.837253</td>\n",
       "      <td>11.257379</td>\n",
       "      <td>24.395945</td>\n",
       "      <td>7</td>\n",
       "      <td>0</td>\n",
       "      <td>0</td>\n",
       "      <td>0.0</td>\n",
       "      <td>6</td>\n",
       "    </tr>\n",
       "    <tr>\n",
       "      <th>2735</th>\n",
       "      <td>0.152046</td>\n",
       "      <td>1.958333</td>\n",
       "      <td>-2.386793</td>\n",
       "      <td>6.432995</td>\n",
       "      <td>0.000000</td>\n",
       "      <td>42.258351</td>\n",
       "      <td>9.967957</td>\n",
       "      <td>0.000000</td>\n",
       "      <td>11.257379</td>\n",
       "      <td>12.263211</td>\n",
       "      <td>5</td>\n",
       "      <td>0</td>\n",
       "      <td>0</td>\n",
       "      <td>1.0</td>\n",
       "      <td>2</td>\n",
       "    </tr>\n",
       "    <tr>\n",
       "      <th>2736</th>\n",
       "      <td>0.339242</td>\n",
       "      <td>1.900000</td>\n",
       "      <td>-2.136891</td>\n",
       "      <td>6.311472</td>\n",
       "      <td>6.792942</td>\n",
       "      <td>11.600940</td>\n",
       "      <td>0.000000</td>\n",
       "      <td>17.822241</td>\n",
       "      <td>10.969244</td>\n",
       "      <td>32.046576</td>\n",
       "      <td>6</td>\n",
       "      <td>0</td>\n",
       "      <td>2</td>\n",
       "      <td>0.0</td>\n",
       "      <td>5</td>\n",
       "    </tr>\n",
       "    <tr>\n",
       "      <th>2737</th>\n",
       "      <td>0.409243</td>\n",
       "      <td>2.000000</td>\n",
       "      <td>-2.396237</td>\n",
       "      <td>7.800537</td>\n",
       "      <td>0.000000</td>\n",
       "      <td>17.667307</td>\n",
       "      <td>14.699729</td>\n",
       "      <td>4.736863</td>\n",
       "      <td>0.000000</td>\n",
       "      <td>4.899910</td>\n",
       "      <td>4</td>\n",
       "      <td>0</td>\n",
       "      <td>0</td>\n",
       "      <td>0.0</td>\n",
       "      <td>8</td>\n",
       "    </tr>\n",
       "    <tr>\n",
       "      <th>2738</th>\n",
       "      <td>0.433968</td>\n",
       "      <td>2.032258</td>\n",
       "      <td>-2.409471</td>\n",
       "      <td>7.991682</td>\n",
       "      <td>5.948339</td>\n",
       "      <td>11.761885</td>\n",
       "      <td>14.535057</td>\n",
       "      <td>17.960833</td>\n",
       "      <td>0.000000</td>\n",
       "      <td>0.000000</td>\n",
       "      <td>9</td>\n",
       "      <td>0</td>\n",
       "      <td>0</td>\n",
       "      <td>1.0</td>\n",
       "      <td>5</td>\n",
       "    </tr>\n",
       "  </tbody>\n",
       "</table>\n",
       "<p>2739 rows × 15 columns</p>\n",
       "</div>"
      ],
      "text/plain": [
       "      MaxPartialCharge  FpDensityMorgan2  BCUT2D_CHGLO  BCUT2D_MRHI  \\\n",
       "0             0.232165          2.055556     -2.414188     6.375148   \n",
       "1             0.313409          1.155172     -2.211123     7.894021   \n",
       "2             0.394239          1.740741     -2.156618     6.360204   \n",
       "3             0.259309          1.789474     -1.979236     6.347147   \n",
       "4             0.326721          1.804878     -2.225746     9.103009   \n",
       "...                ...               ...           ...          ...   \n",
       "2734          0.157227          1.928571     -2.406681     7.927002   \n",
       "2735          0.152046          1.958333     -2.386793     6.432995   \n",
       "2736          0.339242          1.900000     -2.136891     6.311472   \n",
       "2737          0.409243          2.000000     -2.396237     7.800537   \n",
       "2738          0.433968          2.032258     -2.409471     7.991682   \n",
       "\n",
       "      PEOE_VSA12   PEOE_VSA6   SMR_VSA3  SlogP_VSA3  SlogP_VSA8  EState_VSA6  \\\n",
       "0       5.879988   11.600940  30.133278   11.343745   33.454659     6.196844   \n",
       "1       0.000000  101.109334   4.899910   51.033142    6.076020    62.378411   \n",
       "2       0.000000   17.907236   0.000000    9.589074    0.000000    31.127988   \n",
       "3       5.824404   28.358543  15.124620    0.000000   22.842031    42.725522   \n",
       "4       0.000000   88.440639   9.883888   22.616778   27.751393    12.272864   \n",
       "...          ...         ...        ...         ...         ...          ...   \n",
       "2734    0.000000   35.334614   9.967957    9.837253   11.257379    24.395945   \n",
       "2735    0.000000   42.258351   9.967957    0.000000   11.257379    12.263211   \n",
       "2736    6.792942   11.600940   0.000000   17.822241   10.969244    32.046576   \n",
       "2737    0.000000   17.667307  14.699729    4.736863    0.000000     4.899910   \n",
       "2738    5.948339   11.761885  14.535057   17.960833    0.000000     0.000000   \n",
       "\n",
       "      NumHAcceptors  NumSaturatedCarbocycles  fr_bicyclic  TARGET  Kfold  \n",
       "0                10                        0            2     1.0      8  \n",
       "1                10                        0            0     0.0      9  \n",
       "2                 5                        0            0     0.0      3  \n",
       "3                 4                        0            0     0.0      5  \n",
       "4                 5                        0            2     0.0      9  \n",
       "...             ...                      ...          ...     ...    ...  \n",
       "2734              7                        0            0     0.0      6  \n",
       "2735              5                        0            0     1.0      2  \n",
       "2736              6                        0            2     0.0      5  \n",
       "2737              4                        0            0     0.0      8  \n",
       "2738              9                        0            0     1.0      5  \n",
       "\n",
       "[2739 rows x 15 columns]"
      ]
     },
     "execution_count": 14,
     "metadata": {},
     "output_type": "execute_result"
    }
   ],
   "source": [
    "data = pd.read_csv(r'..\\10_fold_cross_validation\\train_10folds_208.csv')\n",
    "data"
   ]
  },
  {
   "cell_type": "code",
   "execution_count": 15,
   "id": "929a665f",
   "metadata": {},
   "outputs": [
    {
     "data": {
      "text/plain": [
       "0.0    1771\n",
       "1.0     968\n",
       "Name: TARGET, dtype: int64"
      ]
     },
     "execution_count": 15,
     "metadata": {},
     "output_type": "execute_result"
    }
   ],
   "source": [
    "data['TARGET'].value_counts()"
   ]
  },
  {
   "cell_type": "code",
   "execution_count": 16,
   "id": "d2771ae8",
   "metadata": {},
   "outputs": [],
   "source": [
    "def df_to_dataset(dataframe, shuffle=True, batch_size=32):\n",
    "    df = dataframe.iloc[:,:-1].copy()\n",
    "    labels = df.pop('TARGET')\n",
    "    df = {key: value[:,tf.newaxis] for key, value in dataframe.iloc[:,:-1].items()}\n",
    "    ds = tf.data.Dataset.from_tensor_slices((dict(df), labels))\n",
    "    if shuffle:\n",
    "        ds = ds.shuffle(buffer_size=len(data))\n",
    "    ds = ds.batch(batch_size)\n",
    "    ds = ds.prefetch(batch_size)\n",
    "    return ds"
   ]
  },
  {
   "cell_type": "code",
   "execution_count": 17,
   "id": "43878e95",
   "metadata": {},
   "outputs": [],
   "source": [
    "def get_normalization_layer(name, dataset):\n",
    "    # Create a Normalization layer for the feature.\n",
    "    normalizer = layers.Normalization(axis=None)\n",
    "    \n",
    "    # Prepare a Dataset that only yields the feature.\n",
    "    feature_ds = dataset.map(lambda x, y: x[name])\n",
    "    \n",
    "    # Learn the statistics of the data.\n",
    "    normalizer.adapt(feature_ds)\n",
    "    \n",
    "    return normalizer"
   ]
  },
  {
   "cell_type": "code",
   "execution_count": 18,
   "id": "534692c4",
   "metadata": {},
   "outputs": [],
   "source": [
    "def get_category_encoding_layer(name, dataset, dtype, max_tokens=None):\n",
    "    \n",
    "    # create a layer that turns integer values into integer indices.\n",
    "    index = layers.IntegerLookup(max_tokens=max_tokens)\n",
    "    \n",
    "    # Prepare a `tf.data.Dataset` that only yields the feature.\n",
    "    feature_ds = dataset.map(lambda x, y: x[name])\n",
    "    \n",
    "    # Learn the set of possible values and assign them a fixed integer index.\n",
    "    index.adapt(feature_ds)\n",
    "    \n",
    "    # Encode the integer indices.\n",
    "    encoder = layers.CategoryEncoding(num_tokens=index.vocabulary_size())\n",
    "    \n",
    "    # Apply multi-hot encoding to the indices. The lambda function captures the\n",
    "    # layer, so you can use them, or include them in the Keras Functional model later.\n",
    "    \n",
    "    return lambda feature: encoder(index(feature))"
   ]
  },
  {
   "cell_type": "code",
   "execution_count": 19,
   "id": "af57306d",
   "metadata": {},
   "outputs": [],
   "source": [
    "def train_val_split(fold, batch_size):\n",
    "    train = data[data.Kfold != fold].reset_index(drop=True)\n",
    "    valid = data[data.Kfold == fold].reset_index(drop=True)\n",
    "    train_ds = df_to_dataset(train, batch_size=batch_size)\n",
    "    val_ds = df_to_dataset(valid, shuffle=False, batch_size=batch_size)\n",
    "    \n",
    "    return train_ds, val_ds"
   ]
  },
  {
   "cell_type": "code",
   "execution_count": 20,
   "id": "f4a88552",
   "metadata": {},
   "outputs": [],
   "source": [
    "def preprocess_dataset(numerical_features, categorical_features):\n",
    "    all_inputs = []\n",
    "    encoded_features = []\n",
    "\n",
    "    # Numerical features.\n",
    "    for header in numerical_features:\n",
    "        numeric_col = tf.keras.Input(shape=(1,), name=header)\n",
    "        normalization_layer = get_normalization_layer(header, train_ds)\n",
    "        encoded_numeric_col = normalization_layer(numeric_col)\n",
    "        all_inputs.append(numeric_col)\n",
    "        encoded_features.append(encoded_numeric_col)\n",
    "    \n",
    "    hacc_col = tf.keras.Input(shape=(1,), name='NumHAcceptors', dtype='int64')\n",
    "\n",
    "    encoding_layer = get_category_encoding_layer(name='NumHAcceptors',\n",
    "                                                 dataset=train_ds,\n",
    "                                                 dtype='int64',\n",
    "                                                 max_tokens=20)\n",
    "    encoded_hacc_col = encoding_layer(hacc_col)\n",
    "\n",
    "    all_inputs.append(hacc_col)\n",
    "    encoded_features.append(encoded_hacc_col)\n",
    "    \n",
    "    scc_col = tf.keras.Input(shape=(1,), name='NumSaturatedCarbocycles', dtype='int64')\n",
    "\n",
    "    encoding_layer = get_category_encoding_layer(name='NumSaturatedCarbocycles',\n",
    "                                                 dataset=train_ds,\n",
    "                                                 dtype='int64',\n",
    "                                                 max_tokens=5)\n",
    "    encoded_scc_col = encoding_layer(scc_col)\n",
    "\n",
    "    all_inputs.append(scc_col)\n",
    "    encoded_features.append(encoded_scc_col)\n",
    "    \n",
    "    fbc_col = tf.keras.Input(shape=(1,), name='fr_bicyclic', dtype='int64')\n",
    "\n",
    "    encoding_layer = get_category_encoding_layer(name='fr_bicyclic',\n",
    "                                                 dataset=train_ds,\n",
    "                                                 dtype='int64',\n",
    "                                                 max_tokens=10)\n",
    "    encoded_fbc_col = encoding_layer(fbc_col)\n",
    "    all_inputs.append(fbc_col)\n",
    "    encoded_features.append(encoded_fbc_col)\n",
    "    \n",
    "    return all_inputs, encoded_features"
   ]
  },
  {
   "cell_type": "code",
   "execution_count": 21,
   "id": "eb0d9f0d",
   "metadata": {},
   "outputs": [],
   "source": [
    "numerical_features = ['MaxPartialCharge', 'FpDensityMorgan2', 'BCUT2D_CHGLO', 'BCUT2D_MRHI',\n",
    "       'PEOE_VSA12', 'PEOE_VSA6', 'SMR_VSA3', 'SlogP_VSA3', 'SlogP_VSA8', 'EState_VSA6']\n",
    "\n",
    "categorical_features = ['NumHAcceptors', 'NumSaturatedCarbocycles', 'fr_bicyclic']"
   ]
  },
  {
   "cell_type": "code",
   "execution_count": 22,
   "id": "6f553f01",
   "metadata": {},
   "outputs": [],
   "source": [
    "class config:\n",
    "    hidden_layer_1 = 16\n",
    "    hidden_layer_2 = 64\n",
    "    hidden_layer_3 = 128\n",
    "    hidden_layer_4 = 256\n",
    "    hidden_layer_5 = 32\n",
    "    hidden_layer_6 = 8\n",
    "    initializer = tf.keras.initializers.HeNormal()\n",
    "    optimizer = tf.keras.optimizers.Adam(learning_rate=0.001)\n",
    "    dropout = 0.1\n",
    "    batch_size = 16\n",
    "    epochs = 100"
   ]
  },
  {
   "cell_type": "markdown",
   "id": "87126a05",
   "metadata": {},
   "source": [
    "# Model Training"
   ]
  },
  {
   "cell_type": "code",
   "execution_count": 23,
   "id": "0bcd0ffd",
   "metadata": {},
   "outputs": [],
   "source": [
    "def AnnClassifier(all_inputs, encoded_features):\n",
    "    all_features = tf.keras.layers.concatenate(encoded_features)\n",
    "    x = tf.keras.layers.Dense(units=config.hidden_layer_1, activation=\"relu\", \n",
    "                              kernel_initializer=config.initializer)(all_features)\n",
    "    x = tf.keras.layers.BatchNormalization(axis=-1)(x)\n",
    "    #x = tf.keras.layers.Dropout(hparams['dropout'][0])(x)\n",
    "    x = tf.keras.layers.Dense(units=config.hidden_layer_2, activation=\"relu\",\n",
    "                             kernel_initializer=config.initializer)(x)\n",
    "    x = tf.keras.layers.BatchNormalization(axis=-1)(x)\n",
    "    #x = tf.keras.layers.Dropout(hparams['dropout'][0])(x)\n",
    "    x = tf.keras.layers.Dense(units=config.hidden_layer_3, activation=\"relu\",\n",
    "                             kernel_initializer=config.initializer)(x)\n",
    "    x = tf.keras.layers.BatchNormalization(axis=-1)(x)\n",
    "    #x = tf.keras.layers.Dropout(hparams['dropout'][0])(x)\n",
    "    x = tf.keras.layers.Dense(units=config.hidden_layer_4, activation=\"relu\",\n",
    "                             kernel_initializer=config.initializer)(x)\n",
    "    x = tf.keras.layers.BatchNormalization(axis=-1)(x)\n",
    "    x = tf.keras.layers.Dense(units=config.hidden_layer_5, activation=\"relu\",\n",
    "                             kernel_initializer=config.initializer)(x)\n",
    "    x = tf.keras.layers.BatchNormalization(axis=-1)(x)\n",
    "    x = tf.keras.layers.Dense(units=config.hidden_layer_6, activation=\"relu\",\n",
    "                             kernel_initializer=config.initializer)(x)\n",
    "    x = tf.keras.layers.BatchNormalization(axis=-1)(x)\n",
    "    output = tf.keras.layers.Dense(1, activation='sigmoid')(x)\n",
    "\n",
    "    model = tf.keras.Model(all_inputs, output)\n",
    "    model.compile(optimizer = config.optimizer, loss = 'binary_crossentropy', metrics = ['accuracy'])\n",
    "    return model"
   ]
  },
  {
   "cell_type": "code",
   "execution_count": 24,
   "id": "1e49274c",
   "metadata": {},
   "outputs": [],
   "source": [
    "def train(fold, all_inputs, encoded_features, train_ds, val_ds, epochs):\n",
    "    \n",
    "    print(f\"Fold : {fold}\")\n",
    "    early_stop = tf.keras.callbacks.EarlyStopping(monitor='val_loss', mode='min', verbose=1, patience=5)\n",
    "    \n",
    "    logdir = f'.\\\\tensorboard_logs\\\\scalars\\\\fold_{fold}\\\\'\n",
    "    tensorboard_callback = tf.keras.callbacks.TensorBoard(log_dir=logdir,write_graph=True,update_freq=1)\n",
    "    \n",
    "    checkpoint_filepath = f'.\\\\model_checkpoints\\\\fold_{fold}\\\\'\n",
    "    model_checkpoint_callback = tf.keras.callbacks.ModelCheckpoint(\n",
    "        filepath=checkpoint_filepath,\n",
    "        monitor='val_accuracy',\n",
    "        mode='max',\n",
    "        save_best_only=True)\n",
    "    \n",
    "    model = AnnClassifier(all_inputs, encoded_features)\n",
    "\n",
    "    model.fit(train_ds, \n",
    "            epochs = epochs, \n",
    "            validation_data = val_ds,\n",
    "            callbacks=[early_stop, tensorboard_callback, model_checkpoint_callback])\n",
    "    \n",
    "    model_loss = pd.DataFrame(model.history.history)\n",
    "    model_loss.to_csv(f\".\\\\Metrics\\\\metrics_{fold}.csv\", index=False)"
   ]
  },
  {
   "cell_type": "code",
   "execution_count": 25,
   "id": "22acd00a",
   "metadata": {},
   "outputs": [
    {
     "name": "stdout",
     "output_type": "stream",
     "text": [
      "Fold : 0\n",
      "Epoch 1/100\n",
      "155/155 [==============================] - 34s 108ms/step - loss: 0.5346 - accuracy: 0.7432 - val_loss: 0.3845 - val_accuracy: 0.8540\n"
     ]
    },
    {
     "name": "stderr",
     "output_type": "stream",
     "text": [
      "WARNING:absl:Function `_wrapped_model` contains input name(s) MaxPartialCharge, FpDensityMorgan2, BCUT2D_CHGLO, BCUT2D_MRHI, PEOE_VSA12, PEOE_VSA6, SMR_VSA3, SlogP_VSA3, SlogP_VSA8, EState_VSA6, NumHAcceptors, NumSaturatedCarbocycles with unsupported characters which will be renamed to maxpartialcharge, fpdensitymorgan2, bcut2d_chglo, bcut2d_mrhi, peoe_vsa12, peoe_vsa6, smr_vsa3, slogp_vsa3, slogp_vsa8, estate_vsa6, numhacceptors, numsaturatedcarbocycles in the SavedModel.\n"
     ]
    },
    {
     "name": "stdout",
     "output_type": "stream",
     "text": [
      "INFO:tensorflow:Assets written to: .\\model_checkpoints\\fold_0\\assets\n"
     ]
    },
    {
     "name": "stderr",
     "output_type": "stream",
     "text": [
      "INFO:tensorflow:Assets written to: .\\model_checkpoints\\fold_0\\assets\n"
     ]
    },
    {
     "name": "stdout",
     "output_type": "stream",
     "text": [
      "Epoch 2/100\n",
      "155/155 [==============================] - 13s 81ms/step - loss: 0.4152 - accuracy: 0.8243 - val_loss: 0.3359 - val_accuracy: 0.8759\n"
     ]
    },
    {
     "name": "stderr",
     "output_type": "stream",
     "text": [
      "WARNING:absl:Function `_wrapped_model` contains input name(s) MaxPartialCharge, FpDensityMorgan2, BCUT2D_CHGLO, BCUT2D_MRHI, PEOE_VSA12, PEOE_VSA6, SMR_VSA3, SlogP_VSA3, SlogP_VSA8, EState_VSA6, NumHAcceptors, NumSaturatedCarbocycles with unsupported characters which will be renamed to maxpartialcharge, fpdensitymorgan2, bcut2d_chglo, bcut2d_mrhi, peoe_vsa12, peoe_vsa6, smr_vsa3, slogp_vsa3, slogp_vsa8, estate_vsa6, numhacceptors, numsaturatedcarbocycles in the SavedModel.\n"
     ]
    },
    {
     "name": "stdout",
     "output_type": "stream",
     "text": [
      "INFO:tensorflow:Assets written to: .\\model_checkpoints\\fold_0\\assets\n"
     ]
    },
    {
     "name": "stderr",
     "output_type": "stream",
     "text": [
      "INFO:tensorflow:Assets written to: .\\model_checkpoints\\fold_0\\assets\n"
     ]
    },
    {
     "name": "stdout",
     "output_type": "stream",
     "text": [
      "Epoch 3/100\n",
      "155/155 [==============================] - 12s 78ms/step - loss: 0.3905 - accuracy: 0.8398 - val_loss: 0.3039 - val_accuracy: 0.8759\n",
      "Epoch 4/100\n",
      "155/155 [==============================] - 12s 80ms/step - loss: 0.3570 - accuracy: 0.8434 - val_loss: 0.3175 - val_accuracy: 0.8686\n",
      "Epoch 5/100\n",
      "155/155 [==============================] - 16s 103ms/step - loss: 0.3608 - accuracy: 0.8523 - val_loss: 0.3289 - val_accuracy: 0.8759\n",
      "Epoch 6/100\n",
      "155/155 [==============================] - 13s 84ms/step - loss: 0.3287 - accuracy: 0.8584 - val_loss: 0.3332 - val_accuracy: 0.8832\n"
     ]
    },
    {
     "name": "stderr",
     "output_type": "stream",
     "text": [
      "WARNING:absl:Function `_wrapped_model` contains input name(s) MaxPartialCharge, FpDensityMorgan2, BCUT2D_CHGLO, BCUT2D_MRHI, PEOE_VSA12, PEOE_VSA6, SMR_VSA3, SlogP_VSA3, SlogP_VSA8, EState_VSA6, NumHAcceptors, NumSaturatedCarbocycles with unsupported characters which will be renamed to maxpartialcharge, fpdensitymorgan2, bcut2d_chglo, bcut2d_mrhi, peoe_vsa12, peoe_vsa6, smr_vsa3, slogp_vsa3, slogp_vsa8, estate_vsa6, numhacceptors, numsaturatedcarbocycles in the SavedModel.\n"
     ]
    },
    {
     "name": "stdout",
     "output_type": "stream",
     "text": [
      "INFO:tensorflow:Assets written to: .\\model_checkpoints\\fold_0\\assets\n"
     ]
    },
    {
     "name": "stderr",
     "output_type": "stream",
     "text": [
      "INFO:tensorflow:Assets written to: .\\model_checkpoints\\fold_0\\assets\n"
     ]
    },
    {
     "name": "stdout",
     "output_type": "stream",
     "text": [
      "Epoch 7/100\n",
      "155/155 [==============================] - 13s 84ms/step - loss: 0.3098 - accuracy: 0.8807 - val_loss: 0.2951 - val_accuracy: 0.8832\n",
      "Epoch 8/100\n",
      "155/155 [==============================] - 14s 88ms/step - loss: 0.3198 - accuracy: 0.8706 - val_loss: 0.2868 - val_accuracy: 0.8686\n",
      "Epoch 9/100\n",
      "155/155 [==============================] - 13s 83ms/step - loss: 0.3127 - accuracy: 0.8710 - val_loss: 0.2960 - val_accuracy: 0.8869\n"
     ]
    },
    {
     "name": "stderr",
     "output_type": "stream",
     "text": [
      "WARNING:absl:Function `_wrapped_model` contains input name(s) MaxPartialCharge, FpDensityMorgan2, BCUT2D_CHGLO, BCUT2D_MRHI, PEOE_VSA12, PEOE_VSA6, SMR_VSA3, SlogP_VSA3, SlogP_VSA8, EState_VSA6, NumHAcceptors, NumSaturatedCarbocycles with unsupported characters which will be renamed to maxpartialcharge, fpdensitymorgan2, bcut2d_chglo, bcut2d_mrhi, peoe_vsa12, peoe_vsa6, smr_vsa3, slogp_vsa3, slogp_vsa8, estate_vsa6, numhacceptors, numsaturatedcarbocycles in the SavedModel.\n"
     ]
    },
    {
     "name": "stdout",
     "output_type": "stream",
     "text": [
      "INFO:tensorflow:Assets written to: .\\model_checkpoints\\fold_0\\assets\n"
     ]
    },
    {
     "name": "stderr",
     "output_type": "stream",
     "text": [
      "INFO:tensorflow:Assets written to: .\\model_checkpoints\\fold_0\\assets\n"
     ]
    },
    {
     "name": "stdout",
     "output_type": "stream",
     "text": [
      "Epoch 10/100\n",
      "155/155 [==============================] - 13s 84ms/step - loss: 0.3052 - accuracy: 0.8767 - val_loss: 0.3030 - val_accuracy: 0.8869\n",
      "Epoch 11/100\n",
      "155/155 [==============================] - 11s 74ms/step - loss: 0.3056 - accuracy: 0.8771 - val_loss: 0.2872 - val_accuracy: 0.8832\n",
      "Epoch 12/100\n",
      "155/155 [==============================] - 14s 88ms/step - loss: 0.2802 - accuracy: 0.8864 - val_loss: 0.2893 - val_accuracy: 0.8832\n",
      "Epoch 13/100\n",
      "155/155 [==============================] - 13s 84ms/step - loss: 0.2763 - accuracy: 0.8836 - val_loss: 0.2981 - val_accuracy: 0.8723\n",
      "Epoch 00013: early stopping\n",
      "Fold : 1\n",
      "Epoch 1/100\n",
      "155/155 [==============================] - 31s 172ms/step - loss: 0.4500 - accuracy: 0.8041 - val_loss: 0.3346 - val_accuracy: 0.8759\n"
     ]
    },
    {
     "name": "stderr",
     "output_type": "stream",
     "text": [
      "WARNING:absl:Function `_wrapped_model` contains input name(s) MaxPartialCharge, FpDensityMorgan2, BCUT2D_CHGLO, BCUT2D_MRHI, PEOE_VSA12, PEOE_VSA6, SMR_VSA3, SlogP_VSA3, SlogP_VSA8, EState_VSA6, NumHAcceptors, NumSaturatedCarbocycles with unsupported characters which will be renamed to maxpartialcharge, fpdensitymorgan2, bcut2d_chglo, bcut2d_mrhi, peoe_vsa12, peoe_vsa6, smr_vsa3, slogp_vsa3, slogp_vsa8, estate_vsa6, numhacceptors, numsaturatedcarbocycles in the SavedModel.\n"
     ]
    },
    {
     "name": "stdout",
     "output_type": "stream",
     "text": [
      "INFO:tensorflow:Assets written to: .\\model_checkpoints\\fold_1\\assets\n"
     ]
    },
    {
     "name": "stderr",
     "output_type": "stream",
     "text": [
      "INFO:tensorflow:Assets written to: .\\model_checkpoints\\fold_1\\assets\n"
     ]
    },
    {
     "name": "stdout",
     "output_type": "stream",
     "text": [
      "Epoch 2/100\n",
      "155/155 [==============================] - 15s 100ms/step - loss: 0.3784 - accuracy: 0.8406 - val_loss: 0.3071 - val_accuracy: 0.8650\n",
      "Epoch 3/100\n",
      "155/155 [==============================] - 15s 99ms/step - loss: 0.3579 - accuracy: 0.8531 - val_loss: 0.2826 - val_accuracy: 0.8723\n",
      "Epoch 4/100\n",
      "155/155 [==============================] - 15s 98ms/step - loss: 0.3310 - accuracy: 0.8653 - val_loss: 0.2616 - val_accuracy: 0.8978\n"
     ]
    },
    {
     "name": "stderr",
     "output_type": "stream",
     "text": [
      "WARNING:absl:Function `_wrapped_model` contains input name(s) MaxPartialCharge, FpDensityMorgan2, BCUT2D_CHGLO, BCUT2D_MRHI, PEOE_VSA12, PEOE_VSA6, SMR_VSA3, SlogP_VSA3, SlogP_VSA8, EState_VSA6, NumHAcceptors, NumSaturatedCarbocycles with unsupported characters which will be renamed to maxpartialcharge, fpdensitymorgan2, bcut2d_chglo, bcut2d_mrhi, peoe_vsa12, peoe_vsa6, smr_vsa3, slogp_vsa3, slogp_vsa8, estate_vsa6, numhacceptors, numsaturatedcarbocycles in the SavedModel.\n"
     ]
    },
    {
     "name": "stdout",
     "output_type": "stream",
     "text": [
      "INFO:tensorflow:Assets written to: .\\model_checkpoints\\fold_1\\assets\n"
     ]
    },
    {
     "name": "stderr",
     "output_type": "stream",
     "text": [
      "INFO:tensorflow:Assets written to: .\\model_checkpoints\\fold_1\\assets\n"
     ]
    },
    {
     "name": "stdout",
     "output_type": "stream",
     "text": [
      "Epoch 5/100\n",
      "155/155 [==============================] - 15s 99ms/step - loss: 0.3140 - accuracy: 0.8751 - val_loss: 0.2450 - val_accuracy: 0.9051\n"
     ]
    },
    {
     "name": "stderr",
     "output_type": "stream",
     "text": [
      "WARNING:absl:Function `_wrapped_model` contains input name(s) MaxPartialCharge, FpDensityMorgan2, BCUT2D_CHGLO, BCUT2D_MRHI, PEOE_VSA12, PEOE_VSA6, SMR_VSA3, SlogP_VSA3, SlogP_VSA8, EState_VSA6, NumHAcceptors, NumSaturatedCarbocycles with unsupported characters which will be renamed to maxpartialcharge, fpdensitymorgan2, bcut2d_chglo, bcut2d_mrhi, peoe_vsa12, peoe_vsa6, smr_vsa3, slogp_vsa3, slogp_vsa8, estate_vsa6, numhacceptors, numsaturatedcarbocycles in the SavedModel.\n"
     ]
    },
    {
     "name": "stdout",
     "output_type": "stream",
     "text": [
      "INFO:tensorflow:Assets written to: .\\model_checkpoints\\fold_1\\assets\n"
     ]
    },
    {
     "name": "stderr",
     "output_type": "stream",
     "text": [
      "INFO:tensorflow:Assets written to: .\\model_checkpoints\\fold_1\\assets\n"
     ]
    },
    {
     "name": "stdout",
     "output_type": "stream",
     "text": [
      "Epoch 6/100\n",
      "155/155 [==============================] - 16s 100ms/step - loss: 0.3020 - accuracy: 0.8755 - val_loss: 0.2543 - val_accuracy: 0.8832\n",
      "Epoch 7/100\n",
      "155/155 [==============================] - 17s 107ms/step - loss: 0.3047 - accuracy: 0.8799 - val_loss: 0.2459 - val_accuracy: 0.9088\n"
     ]
    },
    {
     "name": "stderr",
     "output_type": "stream",
     "text": [
      "WARNING:absl:Function `_wrapped_model` contains input name(s) MaxPartialCharge, FpDensityMorgan2, BCUT2D_CHGLO, BCUT2D_MRHI, PEOE_VSA12, PEOE_VSA6, SMR_VSA3, SlogP_VSA3, SlogP_VSA8, EState_VSA6, NumHAcceptors, NumSaturatedCarbocycles with unsupported characters which will be renamed to maxpartialcharge, fpdensitymorgan2, bcut2d_chglo, bcut2d_mrhi, peoe_vsa12, peoe_vsa6, smr_vsa3, slogp_vsa3, slogp_vsa8, estate_vsa6, numhacceptors, numsaturatedcarbocycles in the SavedModel.\n"
     ]
    },
    {
     "name": "stdout",
     "output_type": "stream",
     "text": [
      "INFO:tensorflow:Assets written to: .\\model_checkpoints\\fold_1\\assets\n"
     ]
    },
    {
     "name": "stderr",
     "output_type": "stream",
     "text": [
      "INFO:tensorflow:Assets written to: .\\model_checkpoints\\fold_1\\assets\n"
     ]
    },
    {
     "name": "stdout",
     "output_type": "stream",
     "text": [
      "Epoch 8/100\n",
      "155/155 [==============================] - 16s 101ms/step - loss: 0.2780 - accuracy: 0.8872 - val_loss: 0.2292 - val_accuracy: 0.9088\n",
      "Epoch 9/100\n",
      "155/155 [==============================] - 14s 92ms/step - loss: 0.3004 - accuracy: 0.8722 - val_loss: 0.2164 - val_accuracy: 0.9380\n"
     ]
    },
    {
     "name": "stderr",
     "output_type": "stream",
     "text": [
      "WARNING:absl:Function `_wrapped_model` contains input name(s) MaxPartialCharge, FpDensityMorgan2, BCUT2D_CHGLO, BCUT2D_MRHI, PEOE_VSA12, PEOE_VSA6, SMR_VSA3, SlogP_VSA3, SlogP_VSA8, EState_VSA6, NumHAcceptors, NumSaturatedCarbocycles with unsupported characters which will be renamed to maxpartialcharge, fpdensitymorgan2, bcut2d_chglo, bcut2d_mrhi, peoe_vsa12, peoe_vsa6, smr_vsa3, slogp_vsa3, slogp_vsa8, estate_vsa6, numhacceptors, numsaturatedcarbocycles in the SavedModel.\n"
     ]
    },
    {
     "name": "stdout",
     "output_type": "stream",
     "text": [
      "INFO:tensorflow:Assets written to: .\\model_checkpoints\\fold_1\\assets\n"
     ]
    },
    {
     "name": "stderr",
     "output_type": "stream",
     "text": [
      "INFO:tensorflow:Assets written to: .\\model_checkpoints\\fold_1\\assets\n"
     ]
    },
    {
     "name": "stdout",
     "output_type": "stream",
     "text": [
      "Epoch 10/100\n",
      "155/155 [==============================] - 16s 103ms/step - loss: 0.2711 - accuracy: 0.8953 - val_loss: 0.2123 - val_accuracy: 0.9270\n",
      "Epoch 11/100\n",
      "155/155 [==============================] - 15s 98ms/step - loss: 0.2836 - accuracy: 0.8892 - val_loss: 0.2067 - val_accuracy: 0.9343\n",
      "Epoch 12/100\n",
      "155/155 [==============================] - 16s 101ms/step - loss: 0.2776 - accuracy: 0.8917 - val_loss: 0.1976 - val_accuracy: 0.9343\n",
      "Epoch 13/100\n",
      "155/155 [==============================] - 15s 97ms/step - loss: 0.2656 - accuracy: 0.8925 - val_loss: 0.2031 - val_accuracy: 0.9307\n",
      "Epoch 14/100\n",
      "155/155 [==============================] - 15s 95ms/step - loss: 0.2617 - accuracy: 0.8953 - val_loss: 0.1841 - val_accuracy: 0.9343\n",
      "Epoch 15/100\n",
      "155/155 [==============================] - 15s 100ms/step - loss: 0.2576 - accuracy: 0.8941 - val_loss: 0.1804 - val_accuracy: 0.9161\n",
      "Epoch 16/100\n",
      "155/155 [==============================] - 16s 103ms/step - loss: 0.2617 - accuracy: 0.8933 - val_loss: 0.1791 - val_accuracy: 0.9270\n",
      "Epoch 17/100\n",
      "155/155 [==============================] - 15s 97ms/step - loss: 0.2258 - accuracy: 0.9071 - val_loss: 0.1694 - val_accuracy: 0.9453\n"
     ]
    },
    {
     "name": "stderr",
     "output_type": "stream",
     "text": [
      "WARNING:absl:Function `_wrapped_model` contains input name(s) MaxPartialCharge, FpDensityMorgan2, BCUT2D_CHGLO, BCUT2D_MRHI, PEOE_VSA12, PEOE_VSA6, SMR_VSA3, SlogP_VSA3, SlogP_VSA8, EState_VSA6, NumHAcceptors, NumSaturatedCarbocycles with unsupported characters which will be renamed to maxpartialcharge, fpdensitymorgan2, bcut2d_chglo, bcut2d_mrhi, peoe_vsa12, peoe_vsa6, smr_vsa3, slogp_vsa3, slogp_vsa8, estate_vsa6, numhacceptors, numsaturatedcarbocycles in the SavedModel.\n"
     ]
    },
    {
     "name": "stdout",
     "output_type": "stream",
     "text": [
      "INFO:tensorflow:Assets written to: .\\model_checkpoints\\fold_1\\assets\n"
     ]
    },
    {
     "name": "stderr",
     "output_type": "stream",
     "text": [
      "INFO:tensorflow:Assets written to: .\\model_checkpoints\\fold_1\\assets\n"
     ]
    },
    {
     "name": "stdout",
     "output_type": "stream",
     "text": [
      "Epoch 18/100\n",
      "155/155 [==============================] - 15s 98ms/step - loss: 0.2317 - accuracy: 0.9043 - val_loss: 0.1866 - val_accuracy: 0.9343\n",
      "Epoch 19/100\n",
      "155/155 [==============================] - 16s 100ms/step - loss: 0.2342 - accuracy: 0.9087 - val_loss: 0.1753 - val_accuracy: 0.9343\n",
      "Epoch 20/100\n",
      "155/155 [==============================] - 16s 101ms/step - loss: 0.2347 - accuracy: 0.9043 - val_loss: 0.1997 - val_accuracy: 0.9051\n",
      "Epoch 21/100\n",
      "155/155 [==============================] - 15s 96ms/step - loss: 0.2257 - accuracy: 0.9108 - val_loss: 0.1989 - val_accuracy: 0.9197\n",
      "Epoch 22/100\n",
      "155/155 [==============================] - 16s 102ms/step - loss: 0.2352 - accuracy: 0.8998 - val_loss: 0.1849 - val_accuracy: 0.9088\n",
      "Epoch 00022: early stopping\n",
      "Fold : 2\n",
      "Epoch 1/100\n",
      "155/155 [==============================] - 31s 164ms/step - loss: 0.4589 - accuracy: 0.7911 - val_loss: 0.3353 - val_accuracy: 0.8686\n"
     ]
    },
    {
     "name": "stderr",
     "output_type": "stream",
     "text": [
      "WARNING:absl:Function `_wrapped_model` contains input name(s) MaxPartialCharge, FpDensityMorgan2, BCUT2D_CHGLO, BCUT2D_MRHI, PEOE_VSA12, PEOE_VSA6, SMR_VSA3, SlogP_VSA3, SlogP_VSA8, EState_VSA6, NumHAcceptors, NumSaturatedCarbocycles with unsupported characters which will be renamed to maxpartialcharge, fpdensitymorgan2, bcut2d_chglo, bcut2d_mrhi, peoe_vsa12, peoe_vsa6, smr_vsa3, slogp_vsa3, slogp_vsa8, estate_vsa6, numhacceptors, numsaturatedcarbocycles in the SavedModel.\n"
     ]
    },
    {
     "name": "stdout",
     "output_type": "stream",
     "text": [
      "INFO:tensorflow:Assets written to: .\\model_checkpoints\\fold_2\\assets\n"
     ]
    },
    {
     "name": "stderr",
     "output_type": "stream",
     "text": [
      "INFO:tensorflow:Assets written to: .\\model_checkpoints\\fold_2\\assets\n"
     ]
    },
    {
     "name": "stdout",
     "output_type": "stream",
     "text": [
      "Epoch 2/100\n",
      "155/155 [==============================] - 14s 92ms/step - loss: 0.3740 - accuracy: 0.8475 - val_loss: 0.3381 - val_accuracy: 0.8613\n",
      "Epoch 3/100\n",
      "155/155 [==============================] - 15s 94ms/step - loss: 0.3625 - accuracy: 0.8438 - val_loss: 0.3012 - val_accuracy: 0.8869\n"
     ]
    },
    {
     "name": "stderr",
     "output_type": "stream",
     "text": [
      "WARNING:absl:Function `_wrapped_model` contains input name(s) MaxPartialCharge, FpDensityMorgan2, BCUT2D_CHGLO, BCUT2D_MRHI, PEOE_VSA12, PEOE_VSA6, SMR_VSA3, SlogP_VSA3, SlogP_VSA8, EState_VSA6, NumHAcceptors, NumSaturatedCarbocycles with unsupported characters which will be renamed to maxpartialcharge, fpdensitymorgan2, bcut2d_chglo, bcut2d_mrhi, peoe_vsa12, peoe_vsa6, smr_vsa3, slogp_vsa3, slogp_vsa8, estate_vsa6, numhacceptors, numsaturatedcarbocycles in the SavedModel.\n"
     ]
    },
    {
     "name": "stdout",
     "output_type": "stream",
     "text": [
      "INFO:tensorflow:Assets written to: .\\model_checkpoints\\fold_2\\assets\n"
     ]
    },
    {
     "name": "stderr",
     "output_type": "stream",
     "text": [
      "INFO:tensorflow:Assets written to: .\\model_checkpoints\\fold_2\\assets\n"
     ]
    },
    {
     "name": "stdout",
     "output_type": "stream",
     "text": [
      "Epoch 4/100\n",
      "155/155 [==============================] - 15s 99ms/step - loss: 0.3328 - accuracy: 0.8694 - val_loss: 0.3051 - val_accuracy: 0.8832\n",
      "Epoch 5/100\n",
      "155/155 [==============================] - 15s 98ms/step - loss: 0.3143 - accuracy: 0.8738 - val_loss: 0.3298 - val_accuracy: 0.8467\n",
      "Epoch 6/100\n",
      "155/155 [==============================] - 15s 99ms/step - loss: 0.2926 - accuracy: 0.8779 - val_loss: 0.3356 - val_accuracy: 0.8613\n",
      "Epoch 7/100\n",
      "155/155 [==============================] - 16s 103ms/step - loss: 0.2963 - accuracy: 0.8783 - val_loss: 0.2865 - val_accuracy: 0.8796\n",
      "Epoch 8/100\n",
      "155/155 [==============================] - 15s 100ms/step - loss: 0.2772 - accuracy: 0.8868 - val_loss: 0.2973 - val_accuracy: 0.8759\n",
      "Epoch 9/100\n",
      "155/155 [==============================] - 16s 103ms/step - loss: 0.2678 - accuracy: 0.8888 - val_loss: 0.2776 - val_accuracy: 0.8905\n"
     ]
    },
    {
     "name": "stderr",
     "output_type": "stream",
     "text": [
      "WARNING:absl:Function `_wrapped_model` contains input name(s) MaxPartialCharge, FpDensityMorgan2, BCUT2D_CHGLO, BCUT2D_MRHI, PEOE_VSA12, PEOE_VSA6, SMR_VSA3, SlogP_VSA3, SlogP_VSA8, EState_VSA6, NumHAcceptors, NumSaturatedCarbocycles with unsupported characters which will be renamed to maxpartialcharge, fpdensitymorgan2, bcut2d_chglo, bcut2d_mrhi, peoe_vsa12, peoe_vsa6, smr_vsa3, slogp_vsa3, slogp_vsa8, estate_vsa6, numhacceptors, numsaturatedcarbocycles in the SavedModel.\n"
     ]
    },
    {
     "name": "stdout",
     "output_type": "stream",
     "text": [
      "INFO:tensorflow:Assets written to: .\\model_checkpoints\\fold_2\\assets\n"
     ]
    },
    {
     "name": "stderr",
     "output_type": "stream",
     "text": [
      "INFO:tensorflow:Assets written to: .\\model_checkpoints\\fold_2\\assets\n"
     ]
    },
    {
     "name": "stdout",
     "output_type": "stream",
     "text": [
      "Epoch 10/100\n",
      "155/155 [==============================] - 16s 105ms/step - loss: 0.2697 - accuracy: 0.8872 - val_loss: 0.2951 - val_accuracy: 0.8686\n",
      "Epoch 11/100\n",
      "155/155 [==============================] - 16s 102ms/step - loss: 0.2584 - accuracy: 0.8994 - val_loss: 0.2781 - val_accuracy: 0.8686\n",
      "Epoch 12/100\n",
      "155/155 [==============================] - 16s 103ms/step - loss: 0.2523 - accuracy: 0.8990 - val_loss: 0.2881 - val_accuracy: 0.8796\n",
      "Epoch 13/100\n",
      "155/155 [==============================] - 16s 104ms/step - loss: 0.2620 - accuracy: 0.8957 - val_loss: 0.2831 - val_accuracy: 0.8723\n",
      "Epoch 14/100\n",
      "155/155 [==============================] - 15s 100ms/step - loss: 0.2352 - accuracy: 0.9039 - val_loss: 0.2832 - val_accuracy: 0.8869\n",
      "Epoch 00014: early stopping\n",
      "Fold : 3\n",
      "Epoch 1/100\n",
      "155/155 [==============================] - 27s 141ms/step - loss: 0.4678 - accuracy: 0.7919 - val_loss: 0.3604 - val_accuracy: 0.8577\n"
     ]
    },
    {
     "name": "stderr",
     "output_type": "stream",
     "text": [
      "WARNING:absl:Function `_wrapped_model` contains input name(s) MaxPartialCharge, FpDensityMorgan2, BCUT2D_CHGLO, BCUT2D_MRHI, PEOE_VSA12, PEOE_VSA6, SMR_VSA3, SlogP_VSA3, SlogP_VSA8, EState_VSA6, NumHAcceptors, NumSaturatedCarbocycles with unsupported characters which will be renamed to maxpartialcharge, fpdensitymorgan2, bcut2d_chglo, bcut2d_mrhi, peoe_vsa12, peoe_vsa6, smr_vsa3, slogp_vsa3, slogp_vsa8, estate_vsa6, numhacceptors, numsaturatedcarbocycles in the SavedModel.\n"
     ]
    },
    {
     "name": "stdout",
     "output_type": "stream",
     "text": [
      "INFO:tensorflow:Assets written to: .\\model_checkpoints\\fold_3\\assets\n"
     ]
    },
    {
     "name": "stderr",
     "output_type": "stream",
     "text": [
      "INFO:tensorflow:Assets written to: .\\model_checkpoints\\fold_3\\assets\n"
     ]
    },
    {
     "name": "stdout",
     "output_type": "stream",
     "text": [
      "Epoch 2/100\n",
      "155/155 [==============================] - 12s 77ms/step - loss: 0.3765 - accuracy: 0.8438 - val_loss: 0.3312 - val_accuracy: 0.8686\n"
     ]
    },
    {
     "name": "stderr",
     "output_type": "stream",
     "text": [
      "WARNING:absl:Function `_wrapped_model` contains input name(s) MaxPartialCharge, FpDensityMorgan2, BCUT2D_CHGLO, BCUT2D_MRHI, PEOE_VSA12, PEOE_VSA6, SMR_VSA3, SlogP_VSA3, SlogP_VSA8, EState_VSA6, NumHAcceptors, NumSaturatedCarbocycles with unsupported characters which will be renamed to maxpartialcharge, fpdensitymorgan2, bcut2d_chglo, bcut2d_mrhi, peoe_vsa12, peoe_vsa6, smr_vsa3, slogp_vsa3, slogp_vsa8, estate_vsa6, numhacceptors, numsaturatedcarbocycles in the SavedModel.\n"
     ]
    },
    {
     "name": "stdout",
     "output_type": "stream",
     "text": [
      "INFO:tensorflow:Assets written to: .\\model_checkpoints\\fold_3\\assets\n"
     ]
    },
    {
     "name": "stderr",
     "output_type": "stream",
     "text": [
      "INFO:tensorflow:Assets written to: .\\model_checkpoints\\fold_3\\assets\n"
     ]
    },
    {
     "name": "stdout",
     "output_type": "stream",
     "text": [
      "Epoch 3/100\n",
      "155/155 [==============================] - 12s 79ms/step - loss: 0.3474 - accuracy: 0.8552 - val_loss: 0.3255 - val_accuracy: 0.8504\n",
      "Epoch 4/100\n",
      "155/155 [==============================] - 14s 91ms/step - loss: 0.3221 - accuracy: 0.8682 - val_loss: 0.3307 - val_accuracy: 0.8577\n",
      "Epoch 5/100\n",
      "155/155 [==============================] - 13s 81ms/step - loss: 0.3290 - accuracy: 0.8669 - val_loss: 0.2987 - val_accuracy: 0.8759\n"
     ]
    },
    {
     "name": "stderr",
     "output_type": "stream",
     "text": [
      "WARNING:absl:Function `_wrapped_model` contains input name(s) MaxPartialCharge, FpDensityMorgan2, BCUT2D_CHGLO, BCUT2D_MRHI, PEOE_VSA12, PEOE_VSA6, SMR_VSA3, SlogP_VSA3, SlogP_VSA8, EState_VSA6, NumHAcceptors, NumSaturatedCarbocycles with unsupported characters which will be renamed to maxpartialcharge, fpdensitymorgan2, bcut2d_chglo, bcut2d_mrhi, peoe_vsa12, peoe_vsa6, smr_vsa3, slogp_vsa3, slogp_vsa8, estate_vsa6, numhacceptors, numsaturatedcarbocycles in the SavedModel.\n"
     ]
    },
    {
     "name": "stdout",
     "output_type": "stream",
     "text": [
      "INFO:tensorflow:Assets written to: .\\model_checkpoints\\fold_3\\assets\n"
     ]
    },
    {
     "name": "stderr",
     "output_type": "stream",
     "text": [
      "INFO:tensorflow:Assets written to: .\\model_checkpoints\\fold_3\\assets\n"
     ]
    },
    {
     "name": "stdout",
     "output_type": "stream",
     "text": [
      "Epoch 6/100\n",
      "155/155 [==============================] - 14s 87ms/step - loss: 0.3181 - accuracy: 0.8742 - val_loss: 0.3050 - val_accuracy: 0.8613\n",
      "Epoch 7/100\n",
      "155/155 [==============================] - 14s 88ms/step - loss: 0.2995 - accuracy: 0.8852 - val_loss: 0.2980 - val_accuracy: 0.8650\n",
      "Epoch 8/100\n",
      "155/155 [==============================] - 13s 81ms/step - loss: 0.2980 - accuracy: 0.8819 - val_loss: 0.3112 - val_accuracy: 0.8577\n",
      "Epoch 9/100\n",
      "155/155 [==============================] - 13s 83ms/step - loss: 0.2819 - accuracy: 0.8888 - val_loss: 0.2966 - val_accuracy: 0.8577\n",
      "Epoch 10/100\n",
      "155/155 [==============================] - 13s 82ms/step - loss: 0.2718 - accuracy: 0.8937 - val_loss: 0.3094 - val_accuracy: 0.8723\n",
      "Epoch 11/100\n",
      "155/155 [==============================] - 14s 89ms/step - loss: 0.2906 - accuracy: 0.8791 - val_loss: 0.3115 - val_accuracy: 0.8723\n",
      "Epoch 12/100\n",
      "155/155 [==============================] - 13s 84ms/step - loss: 0.2781 - accuracy: 0.8880 - val_loss: 0.2862 - val_accuracy: 0.8650\n",
      "Epoch 13/100\n",
      "155/155 [==============================] - 13s 84ms/step - loss: 0.2741 - accuracy: 0.8917 - val_loss: 0.2795 - val_accuracy: 0.8723\n",
      "Epoch 14/100\n",
      "155/155 [==============================] - 14s 90ms/step - loss: 0.2714 - accuracy: 0.8880 - val_loss: 0.2861 - val_accuracy: 0.8650\n",
      "Epoch 15/100\n",
      "155/155 [==============================] - 13s 86ms/step - loss: 0.2642 - accuracy: 0.8961 - val_loss: 0.3077 - val_accuracy: 0.8723\n",
      "Epoch 16/100\n",
      "155/155 [==============================] - 13s 86ms/step - loss: 0.2779 - accuracy: 0.8880 - val_loss: 0.2834 - val_accuracy: 0.8759\n",
      "Epoch 17/100\n",
      "155/155 [==============================] - 13s 82ms/step - loss: 0.2578 - accuracy: 0.8925 - val_loss: 0.2661 - val_accuracy: 0.8759\n",
      "Epoch 18/100\n",
      "155/155 [==============================] - 13s 86ms/step - loss: 0.2530 - accuracy: 0.9006 - val_loss: 0.2961 - val_accuracy: 0.8723\n",
      "Epoch 19/100\n",
      "155/155 [==============================] - 12s 78ms/step - loss: 0.2353 - accuracy: 0.9034 - val_loss: 0.2592 - val_accuracy: 0.8905\n"
     ]
    },
    {
     "name": "stderr",
     "output_type": "stream",
     "text": [
      "WARNING:absl:Function `_wrapped_model` contains input name(s) MaxPartialCharge, FpDensityMorgan2, BCUT2D_CHGLO, BCUT2D_MRHI, PEOE_VSA12, PEOE_VSA6, SMR_VSA3, SlogP_VSA3, SlogP_VSA8, EState_VSA6, NumHAcceptors, NumSaturatedCarbocycles with unsupported characters which will be renamed to maxpartialcharge, fpdensitymorgan2, bcut2d_chglo, bcut2d_mrhi, peoe_vsa12, peoe_vsa6, smr_vsa3, slogp_vsa3, slogp_vsa8, estate_vsa6, numhacceptors, numsaturatedcarbocycles in the SavedModel.\n"
     ]
    },
    {
     "name": "stdout",
     "output_type": "stream",
     "text": [
      "INFO:tensorflow:Assets written to: .\\model_checkpoints\\fold_3\\assets\n"
     ]
    },
    {
     "name": "stderr",
     "output_type": "stream",
     "text": [
      "INFO:tensorflow:Assets written to: .\\model_checkpoints\\fold_3\\assets\n"
     ]
    },
    {
     "name": "stdout",
     "output_type": "stream",
     "text": [
      "Epoch 20/100\n",
      "155/155 [==============================] - 13s 86ms/step - loss: 0.2483 - accuracy: 0.8966 - val_loss: 0.3140 - val_accuracy: 0.8759\n",
      "Epoch 21/100\n",
      "155/155 [==============================] - 14s 91ms/step - loss: 0.2435 - accuracy: 0.9083 - val_loss: 0.2606 - val_accuracy: 0.8869\n",
      "Epoch 22/100\n",
      "155/155 [==============================] - 12s 78ms/step - loss: 0.2397 - accuracy: 0.9026 - val_loss: 0.2541 - val_accuracy: 0.8796\n",
      "Epoch 23/100\n",
      "155/155 [==============================] - 14s 88ms/step - loss: 0.2444 - accuracy: 0.9006 - val_loss: 0.2860 - val_accuracy: 0.8759\n",
      "Epoch 24/100\n",
      "155/155 [==============================] - 13s 83ms/step - loss: 0.2256 - accuracy: 0.9112 - val_loss: 0.2833 - val_accuracy: 0.8759\n",
      "Epoch 25/100\n",
      "155/155 [==============================] - 13s 84ms/step - loss: 0.2259 - accuracy: 0.9059 - val_loss: 0.2599 - val_accuracy: 0.8832\n",
      "Epoch 26/100\n",
      "155/155 [==============================] - 14s 89ms/step - loss: 0.2377 - accuracy: 0.9075 - val_loss: 0.2569 - val_accuracy: 0.8723\n",
      "Epoch 27/100\n",
      "155/155 [==============================] - 13s 83ms/step - loss: 0.2349 - accuracy: 0.9067 - val_loss: 0.2709 - val_accuracy: 0.8978\n"
     ]
    },
    {
     "name": "stderr",
     "output_type": "stream",
     "text": [
      "WARNING:absl:Function `_wrapped_model` contains input name(s) MaxPartialCharge, FpDensityMorgan2, BCUT2D_CHGLO, BCUT2D_MRHI, PEOE_VSA12, PEOE_VSA6, SMR_VSA3, SlogP_VSA3, SlogP_VSA8, EState_VSA6, NumHAcceptors, NumSaturatedCarbocycles with unsupported characters which will be renamed to maxpartialcharge, fpdensitymorgan2, bcut2d_chglo, bcut2d_mrhi, peoe_vsa12, peoe_vsa6, smr_vsa3, slogp_vsa3, slogp_vsa8, estate_vsa6, numhacceptors, numsaturatedcarbocycles in the SavedModel.\n"
     ]
    },
    {
     "name": "stdout",
     "output_type": "stream",
     "text": [
      "INFO:tensorflow:Assets written to: .\\model_checkpoints\\fold_3\\assets\n"
     ]
    },
    {
     "name": "stderr",
     "output_type": "stream",
     "text": [
      "INFO:tensorflow:Assets written to: .\\model_checkpoints\\fold_3\\assets\n"
     ]
    },
    {
     "name": "stdout",
     "output_type": "stream",
     "text": [
      "Epoch 00027: early stopping\n",
      "Fold : 4\n",
      "Epoch 1/100\n",
      "155/155 [==============================] - 27s 144ms/step - loss: 0.4685 - accuracy: 0.7907 - val_loss: 0.3535 - val_accuracy: 0.8613\n"
     ]
    },
    {
     "name": "stderr",
     "output_type": "stream",
     "text": [
      "WARNING:absl:Function `_wrapped_model` contains input name(s) MaxPartialCharge, FpDensityMorgan2, BCUT2D_CHGLO, BCUT2D_MRHI, PEOE_VSA12, PEOE_VSA6, SMR_VSA3, SlogP_VSA3, SlogP_VSA8, EState_VSA6, NumHAcceptors, NumSaturatedCarbocycles with unsupported characters which will be renamed to maxpartialcharge, fpdensitymorgan2, bcut2d_chglo, bcut2d_mrhi, peoe_vsa12, peoe_vsa6, smr_vsa3, slogp_vsa3, slogp_vsa8, estate_vsa6, numhacceptors, numsaturatedcarbocycles in the SavedModel.\n"
     ]
    },
    {
     "name": "stdout",
     "output_type": "stream",
     "text": [
      "INFO:tensorflow:Assets written to: .\\model_checkpoints\\fold_4\\assets\n"
     ]
    },
    {
     "name": "stderr",
     "output_type": "stream",
     "text": [
      "INFO:tensorflow:Assets written to: .\\model_checkpoints\\fold_4\\assets\n"
     ]
    },
    {
     "name": "stdout",
     "output_type": "stream",
     "text": [
      "Epoch 2/100\n",
      "155/155 [==============================] - 13s 85ms/step - loss: 0.3752 - accuracy: 0.8483 - val_loss: 0.3400 - val_accuracy: 0.8504\n",
      "Epoch 3/100\n",
      "155/155 [==============================] - 13s 87ms/step - loss: 0.3469 - accuracy: 0.8637 - val_loss: 0.3256 - val_accuracy: 0.8540\n",
      "Epoch 4/100\n",
      "155/155 [==============================] - 14s 87ms/step - loss: 0.3318 - accuracy: 0.8669 - val_loss: 0.2990 - val_accuracy: 0.8796\n"
     ]
    },
    {
     "name": "stderr",
     "output_type": "stream",
     "text": [
      "WARNING:absl:Function `_wrapped_model` contains input name(s) MaxPartialCharge, FpDensityMorgan2, BCUT2D_CHGLO, BCUT2D_MRHI, PEOE_VSA12, PEOE_VSA6, SMR_VSA3, SlogP_VSA3, SlogP_VSA8, EState_VSA6, NumHAcceptors, NumSaturatedCarbocycles with unsupported characters which will be renamed to maxpartialcharge, fpdensitymorgan2, bcut2d_chglo, bcut2d_mrhi, peoe_vsa12, peoe_vsa6, smr_vsa3, slogp_vsa3, slogp_vsa8, estate_vsa6, numhacceptors, numsaturatedcarbocycles in the SavedModel.\n"
     ]
    },
    {
     "name": "stdout",
     "output_type": "stream",
     "text": [
      "INFO:tensorflow:Assets written to: .\\model_checkpoints\\fold_4\\assets\n"
     ]
    },
    {
     "name": "stderr",
     "output_type": "stream",
     "text": [
      "INFO:tensorflow:Assets written to: .\\model_checkpoints\\fold_4\\assets\n"
     ]
    },
    {
     "name": "stdout",
     "output_type": "stream",
     "text": [
      "Epoch 5/100\n",
      "155/155 [==============================] - 13s 85ms/step - loss: 0.3177 - accuracy: 0.8751 - val_loss: 0.3006 - val_accuracy: 0.8869\n"
     ]
    },
    {
     "name": "stderr",
     "output_type": "stream",
     "text": [
      "WARNING:absl:Function `_wrapped_model` contains input name(s) MaxPartialCharge, FpDensityMorgan2, BCUT2D_CHGLO, BCUT2D_MRHI, PEOE_VSA12, PEOE_VSA6, SMR_VSA3, SlogP_VSA3, SlogP_VSA8, EState_VSA6, NumHAcceptors, NumSaturatedCarbocycles with unsupported characters which will be renamed to maxpartialcharge, fpdensitymorgan2, bcut2d_chglo, bcut2d_mrhi, peoe_vsa12, peoe_vsa6, smr_vsa3, slogp_vsa3, slogp_vsa8, estate_vsa6, numhacceptors, numsaturatedcarbocycles in the SavedModel.\n"
     ]
    },
    {
     "name": "stdout",
     "output_type": "stream",
     "text": [
      "INFO:tensorflow:Assets written to: .\\model_checkpoints\\fold_4\\assets\n"
     ]
    },
    {
     "name": "stderr",
     "output_type": "stream",
     "text": [
      "INFO:tensorflow:Assets written to: .\\model_checkpoints\\fold_4\\assets\n"
     ]
    },
    {
     "name": "stdout",
     "output_type": "stream",
     "text": [
      "Epoch 6/100\n",
      "155/155 [==============================] - 14s 93ms/step - loss: 0.2971 - accuracy: 0.8828 - val_loss: 0.2980 - val_accuracy: 0.8832\n",
      "Epoch 7/100\n",
      "155/155 [==============================] - 14s 90ms/step - loss: 0.3068 - accuracy: 0.8824 - val_loss: 0.3207 - val_accuracy: 0.8796\n",
      "Epoch 8/100\n",
      "155/155 [==============================] - 14s 88ms/step - loss: 0.2918 - accuracy: 0.8811 - val_loss: 0.3085 - val_accuracy: 0.8796\n",
      "Epoch 9/100\n",
      "155/155 [==============================] - 14s 87ms/step - loss: 0.2719 - accuracy: 0.8888 - val_loss: 0.3021 - val_accuracy: 0.8613\n",
      "Epoch 10/100\n",
      "155/155 [==============================] - 14s 88ms/step - loss: 0.2651 - accuracy: 0.8966 - val_loss: 0.2850 - val_accuracy: 0.8723\n",
      "Epoch 11/100\n",
      "155/155 [==============================] - 13s 84ms/step - loss: 0.2772 - accuracy: 0.8868 - val_loss: 0.2819 - val_accuracy: 0.8796\n",
      "Epoch 12/100\n",
      "155/155 [==============================] - 14s 92ms/step - loss: 0.2597 - accuracy: 0.9018 - val_loss: 0.2830 - val_accuracy: 0.8759\n",
      "Epoch 13/100\n",
      "155/155 [==============================] - 13s 87ms/step - loss: 0.2668 - accuracy: 0.8966 - val_loss: 0.2761 - val_accuracy: 0.8686\n",
      "Epoch 14/100\n",
      "155/155 [==============================] - 17s 111ms/step - loss: 0.2509 - accuracy: 0.9051 - val_loss: 0.2432 - val_accuracy: 0.8832\n",
      "Epoch 15/100\n",
      "155/155 [==============================] - 17s 107ms/step - loss: 0.2463 - accuracy: 0.9063 - val_loss: 0.2664 - val_accuracy: 0.8796\n",
      "Epoch 16/100\n",
      "155/155 [==============================] - 15s 94ms/step - loss: 0.2477 - accuracy: 0.9047 - val_loss: 0.2501 - val_accuracy: 0.8832\n",
      "Epoch 17/100\n",
      "155/155 [==============================] - 23s 148ms/step - loss: 0.2359 - accuracy: 0.9095 - val_loss: 0.2677 - val_accuracy: 0.8905\n"
     ]
    },
    {
     "name": "stderr",
     "output_type": "stream",
     "text": [
      "WARNING:absl:Function `_wrapped_model` contains input name(s) MaxPartialCharge, FpDensityMorgan2, BCUT2D_CHGLO, BCUT2D_MRHI, PEOE_VSA12, PEOE_VSA6, SMR_VSA3, SlogP_VSA3, SlogP_VSA8, EState_VSA6, NumHAcceptors, NumSaturatedCarbocycles with unsupported characters which will be renamed to maxpartialcharge, fpdensitymorgan2, bcut2d_chglo, bcut2d_mrhi, peoe_vsa12, peoe_vsa6, smr_vsa3, slogp_vsa3, slogp_vsa8, estate_vsa6, numhacceptors, numsaturatedcarbocycles in the SavedModel.\n"
     ]
    },
    {
     "name": "stdout",
     "output_type": "stream",
     "text": [
      "INFO:tensorflow:Assets written to: .\\model_checkpoints\\fold_4\\assets\n"
     ]
    },
    {
     "name": "stderr",
     "output_type": "stream",
     "text": [
      "INFO:tensorflow:Assets written to: .\\model_checkpoints\\fold_4\\assets\n"
     ]
    },
    {
     "name": "stdout",
     "output_type": "stream",
     "text": [
      "Epoch 18/100\n",
      "155/155 [==============================] - 16s 106ms/step - loss: 0.2520 - accuracy: 0.9079 - val_loss: 0.2608 - val_accuracy: 0.8869\n",
      "Epoch 19/100\n",
      "155/155 [==============================] - 15s 96ms/step - loss: 0.2289 - accuracy: 0.9136 - val_loss: 0.3038 - val_accuracy: 0.8796\n",
      "Epoch 00019: early stopping\n",
      "Fold : 5\n",
      "Epoch 1/100\n",
      "155/155 [==============================] - 27s 142ms/step - loss: 0.4759 - accuracy: 0.7813 - val_loss: 0.3333 - val_accuracy: 0.8759\n"
     ]
    },
    {
     "name": "stderr",
     "output_type": "stream",
     "text": [
      "WARNING:absl:Function `_wrapped_model` contains input name(s) MaxPartialCharge, FpDensityMorgan2, BCUT2D_CHGLO, BCUT2D_MRHI, PEOE_VSA12, PEOE_VSA6, SMR_VSA3, SlogP_VSA3, SlogP_VSA8, EState_VSA6, NumHAcceptors, NumSaturatedCarbocycles with unsupported characters which will be renamed to maxpartialcharge, fpdensitymorgan2, bcut2d_chglo, bcut2d_mrhi, peoe_vsa12, peoe_vsa6, smr_vsa3, slogp_vsa3, slogp_vsa8, estate_vsa6, numhacceptors, numsaturatedcarbocycles in the SavedModel.\n"
     ]
    },
    {
     "name": "stdout",
     "output_type": "stream",
     "text": [
      "INFO:tensorflow:Assets written to: .\\model_checkpoints\\fold_5\\assets\n"
     ]
    },
    {
     "name": "stderr",
     "output_type": "stream",
     "text": [
      "INFO:tensorflow:Assets written to: .\\model_checkpoints\\fold_5\\assets\n"
     ]
    },
    {
     "name": "stdout",
     "output_type": "stream",
     "text": [
      "Epoch 2/100\n",
      "155/155 [==============================] - 10s 67ms/step - loss: 0.3869 - accuracy: 0.8462 - val_loss: 0.3030 - val_accuracy: 0.9088\n"
     ]
    },
    {
     "name": "stderr",
     "output_type": "stream",
     "text": [
      "WARNING:absl:Function `_wrapped_model` contains input name(s) MaxPartialCharge, FpDensityMorgan2, BCUT2D_CHGLO, BCUT2D_MRHI, PEOE_VSA12, PEOE_VSA6, SMR_VSA3, SlogP_VSA3, SlogP_VSA8, EState_VSA6, NumHAcceptors, NumSaturatedCarbocycles with unsupported characters which will be renamed to maxpartialcharge, fpdensitymorgan2, bcut2d_chglo, bcut2d_mrhi, peoe_vsa12, peoe_vsa6, smr_vsa3, slogp_vsa3, slogp_vsa8, estate_vsa6, numhacceptors, numsaturatedcarbocycles in the SavedModel.\n"
     ]
    },
    {
     "name": "stdout",
     "output_type": "stream",
     "text": [
      "INFO:tensorflow:Assets written to: .\\model_checkpoints\\fold_5\\assets\n"
     ]
    },
    {
     "name": "stderr",
     "output_type": "stream",
     "text": [
      "INFO:tensorflow:Assets written to: .\\model_checkpoints\\fold_5\\assets\n"
     ]
    },
    {
     "name": "stdout",
     "output_type": "stream",
     "text": [
      "Epoch 3/100\n",
      "155/155 [==============================] - 10s 66ms/step - loss: 0.3425 - accuracy: 0.8649 - val_loss: 0.2725 - val_accuracy: 0.8942\n",
      "Epoch 4/100\n",
      "155/155 [==============================] - 10s 67ms/step - loss: 0.3358 - accuracy: 0.8661 - val_loss: 0.2784 - val_accuracy: 0.8905\n",
      "Epoch 5/100\n",
      "155/155 [==============================] - 10s 64ms/step - loss: 0.3144 - accuracy: 0.8730 - val_loss: 0.2582 - val_accuracy: 0.9051\n",
      "Epoch 6/100\n",
      "155/155 [==============================] - 10s 66ms/step - loss: 0.3198 - accuracy: 0.8661 - val_loss: 0.2562 - val_accuracy: 0.9015\n",
      "Epoch 7/100\n",
      "155/155 [==============================] - 10s 64ms/step - loss: 0.3114 - accuracy: 0.8767 - val_loss: 0.2630 - val_accuracy: 0.9088\n",
      "Epoch 8/100\n",
      "155/155 [==============================] - 10s 67ms/step - loss: 0.2986 - accuracy: 0.8852 - val_loss: 0.2378 - val_accuracy: 0.9124\n"
     ]
    },
    {
     "name": "stderr",
     "output_type": "stream",
     "text": [
      "WARNING:absl:Function `_wrapped_model` contains input name(s) MaxPartialCharge, FpDensityMorgan2, BCUT2D_CHGLO, BCUT2D_MRHI, PEOE_VSA12, PEOE_VSA6, SMR_VSA3, SlogP_VSA3, SlogP_VSA8, EState_VSA6, NumHAcceptors, NumSaturatedCarbocycles with unsupported characters which will be renamed to maxpartialcharge, fpdensitymorgan2, bcut2d_chglo, bcut2d_mrhi, peoe_vsa12, peoe_vsa6, smr_vsa3, slogp_vsa3, slogp_vsa8, estate_vsa6, numhacceptors, numsaturatedcarbocycles in the SavedModel.\n"
     ]
    },
    {
     "name": "stdout",
     "output_type": "stream",
     "text": [
      "INFO:tensorflow:Assets written to: .\\model_checkpoints\\fold_5\\assets\n"
     ]
    },
    {
     "name": "stderr",
     "output_type": "stream",
     "text": [
      "INFO:tensorflow:Assets written to: .\\model_checkpoints\\fold_5\\assets\n"
     ]
    },
    {
     "name": "stdout",
     "output_type": "stream",
     "text": [
      "Epoch 9/100\n",
      "155/155 [==============================] - 10s 66ms/step - loss: 0.2865 - accuracy: 0.8848 - val_loss: 0.2512 - val_accuracy: 0.9015\n",
      "Epoch 10/100\n",
      "155/155 [==============================] - 10s 65ms/step - loss: 0.2953 - accuracy: 0.8811 - val_loss: 0.2320 - val_accuracy: 0.9051\n",
      "Epoch 11/100\n",
      "155/155 [==============================] - 11s 68ms/step - loss: 0.2819 - accuracy: 0.8892 - val_loss: 0.2296 - val_accuracy: 0.9015\n",
      "Epoch 12/100\n",
      "155/155 [==============================] - 10s 66ms/step - loss: 0.2700 - accuracy: 0.9002 - val_loss: 0.2398 - val_accuracy: 0.9088\n",
      "Epoch 13/100\n",
      "155/155 [==============================] - 10s 65ms/step - loss: 0.2729 - accuracy: 0.8897 - val_loss: 0.2296 - val_accuracy: 0.8978\n",
      "Epoch 14/100\n",
      "155/155 [==============================] - 10s 63ms/step - loss: 0.2515 - accuracy: 0.9030 - val_loss: 0.2429 - val_accuracy: 0.9088\n",
      "Epoch 15/100\n",
      "155/155 [==============================] - 10s 65ms/step - loss: 0.2544 - accuracy: 0.8998 - val_loss: 0.2391 - val_accuracy: 0.9124\n",
      "Epoch 16/100\n",
      "155/155 [==============================] - 10s 65ms/step - loss: 0.2586 - accuracy: 0.8945 - val_loss: 0.2447 - val_accuracy: 0.9051\n",
      "Epoch 00016: early stopping\n",
      "Fold : 6\n",
      "Epoch 1/100\n",
      "155/155 [==============================] - 25s 129ms/step - loss: 0.4620 - accuracy: 0.7947 - val_loss: 0.3573 - val_accuracy: 0.8577\n"
     ]
    },
    {
     "name": "stderr",
     "output_type": "stream",
     "text": [
      "WARNING:absl:Function `_wrapped_model` contains input name(s) MaxPartialCharge, FpDensityMorgan2, BCUT2D_CHGLO, BCUT2D_MRHI, PEOE_VSA12, PEOE_VSA6, SMR_VSA3, SlogP_VSA3, SlogP_VSA8, EState_VSA6, NumHAcceptors, NumSaturatedCarbocycles with unsupported characters which will be renamed to maxpartialcharge, fpdensitymorgan2, bcut2d_chglo, bcut2d_mrhi, peoe_vsa12, peoe_vsa6, smr_vsa3, slogp_vsa3, slogp_vsa8, estate_vsa6, numhacceptors, numsaturatedcarbocycles in the SavedModel.\n"
     ]
    },
    {
     "name": "stdout",
     "output_type": "stream",
     "text": [
      "INFO:tensorflow:Assets written to: .\\model_checkpoints\\fold_6\\assets\n"
     ]
    },
    {
     "name": "stderr",
     "output_type": "stream",
     "text": [
      "INFO:tensorflow:Assets written to: .\\model_checkpoints\\fold_6\\assets\n"
     ]
    },
    {
     "name": "stdout",
     "output_type": "stream",
     "text": [
      "Epoch 2/100\n",
      "155/155 [==============================] - 10s 66ms/step - loss: 0.3811 - accuracy: 0.8369 - val_loss: 0.3326 - val_accuracy: 0.8650\n"
     ]
    },
    {
     "name": "stderr",
     "output_type": "stream",
     "text": [
      "WARNING:absl:Function `_wrapped_model` contains input name(s) MaxPartialCharge, FpDensityMorgan2, BCUT2D_CHGLO, BCUT2D_MRHI, PEOE_VSA12, PEOE_VSA6, SMR_VSA3, SlogP_VSA3, SlogP_VSA8, EState_VSA6, NumHAcceptors, NumSaturatedCarbocycles with unsupported characters which will be renamed to maxpartialcharge, fpdensitymorgan2, bcut2d_chglo, bcut2d_mrhi, peoe_vsa12, peoe_vsa6, smr_vsa3, slogp_vsa3, slogp_vsa8, estate_vsa6, numhacceptors, numsaturatedcarbocycles in the SavedModel.\n"
     ]
    },
    {
     "name": "stdout",
     "output_type": "stream",
     "text": [
      "INFO:tensorflow:Assets written to: .\\model_checkpoints\\fold_6\\assets\n"
     ]
    },
    {
     "name": "stderr",
     "output_type": "stream",
     "text": [
      "INFO:tensorflow:Assets written to: .\\model_checkpoints\\fold_6\\assets\n"
     ]
    },
    {
     "name": "stdout",
     "output_type": "stream",
     "text": [
      "Epoch 3/100\n",
      "155/155 [==============================] - 10s 66ms/step - loss: 0.3451 - accuracy: 0.8556 - val_loss: 0.3214 - val_accuracy: 0.8942\n"
     ]
    },
    {
     "name": "stderr",
     "output_type": "stream",
     "text": [
      "WARNING:absl:Function `_wrapped_model` contains input name(s) MaxPartialCharge, FpDensityMorgan2, BCUT2D_CHGLO, BCUT2D_MRHI, PEOE_VSA12, PEOE_VSA6, SMR_VSA3, SlogP_VSA3, SlogP_VSA8, EState_VSA6, NumHAcceptors, NumSaturatedCarbocycles with unsupported characters which will be renamed to maxpartialcharge, fpdensitymorgan2, bcut2d_chglo, bcut2d_mrhi, peoe_vsa12, peoe_vsa6, smr_vsa3, slogp_vsa3, slogp_vsa8, estate_vsa6, numhacceptors, numsaturatedcarbocycles in the SavedModel.\n"
     ]
    },
    {
     "name": "stdout",
     "output_type": "stream",
     "text": [
      "INFO:tensorflow:Assets written to: .\\model_checkpoints\\fold_6\\assets\n"
     ]
    },
    {
     "name": "stderr",
     "output_type": "stream",
     "text": [
      "INFO:tensorflow:Assets written to: .\\model_checkpoints\\fold_6\\assets\n"
     ]
    },
    {
     "name": "stdout",
     "output_type": "stream",
     "text": [
      "Epoch 4/100\n",
      "155/155 [==============================] - 11s 68ms/step - loss: 0.3181 - accuracy: 0.8686 - val_loss: 0.3205 - val_accuracy: 0.8796\n",
      "Epoch 5/100\n",
      "155/155 [==============================] - 10s 67ms/step - loss: 0.3159 - accuracy: 0.8779 - val_loss: 0.3113 - val_accuracy: 0.8905\n",
      "Epoch 6/100\n",
      "155/155 [==============================] - 10s 65ms/step - loss: 0.3129 - accuracy: 0.8803 - val_loss: 0.2848 - val_accuracy: 0.9051\n"
     ]
    },
    {
     "name": "stderr",
     "output_type": "stream",
     "text": [
      "WARNING:absl:Function `_wrapped_model` contains input name(s) MaxPartialCharge, FpDensityMorgan2, BCUT2D_CHGLO, BCUT2D_MRHI, PEOE_VSA12, PEOE_VSA6, SMR_VSA3, SlogP_VSA3, SlogP_VSA8, EState_VSA6, NumHAcceptors, NumSaturatedCarbocycles with unsupported characters which will be renamed to maxpartialcharge, fpdensitymorgan2, bcut2d_chglo, bcut2d_mrhi, peoe_vsa12, peoe_vsa6, smr_vsa3, slogp_vsa3, slogp_vsa8, estate_vsa6, numhacceptors, numsaturatedcarbocycles in the SavedModel.\n"
     ]
    },
    {
     "name": "stdout",
     "output_type": "stream",
     "text": [
      "INFO:tensorflow:Assets written to: .\\model_checkpoints\\fold_6\\assets\n"
     ]
    },
    {
     "name": "stderr",
     "output_type": "stream",
     "text": [
      "INFO:tensorflow:Assets written to: .\\model_checkpoints\\fold_6\\assets\n"
     ]
    },
    {
     "name": "stdout",
     "output_type": "stream",
     "text": [
      "Epoch 7/100\n",
      "155/155 [==============================] - 10s 66ms/step - loss: 0.3121 - accuracy: 0.8742 - val_loss: 0.3022 - val_accuracy: 0.9051\n",
      "Epoch 8/100\n",
      "155/155 [==============================] - 10s 68ms/step - loss: 0.2761 - accuracy: 0.8901 - val_loss: 0.3004 - val_accuracy: 0.9015\n",
      "Epoch 9/100\n",
      "155/155 [==============================] - 10s 66ms/step - loss: 0.2861 - accuracy: 0.8836 - val_loss: 0.2741 - val_accuracy: 0.9124\n"
     ]
    },
    {
     "name": "stderr",
     "output_type": "stream",
     "text": [
      "WARNING:absl:Function `_wrapped_model` contains input name(s) MaxPartialCharge, FpDensityMorgan2, BCUT2D_CHGLO, BCUT2D_MRHI, PEOE_VSA12, PEOE_VSA6, SMR_VSA3, SlogP_VSA3, SlogP_VSA8, EState_VSA6, NumHAcceptors, NumSaturatedCarbocycles with unsupported characters which will be renamed to maxpartialcharge, fpdensitymorgan2, bcut2d_chglo, bcut2d_mrhi, peoe_vsa12, peoe_vsa6, smr_vsa3, slogp_vsa3, slogp_vsa8, estate_vsa6, numhacceptors, numsaturatedcarbocycles in the SavedModel.\n"
     ]
    },
    {
     "name": "stdout",
     "output_type": "stream",
     "text": [
      "INFO:tensorflow:Assets written to: .\\model_checkpoints\\fold_6\\assets\n"
     ]
    },
    {
     "name": "stderr",
     "output_type": "stream",
     "text": [
      "INFO:tensorflow:Assets written to: .\\model_checkpoints\\fold_6\\assets\n"
     ]
    },
    {
     "name": "stdout",
     "output_type": "stream",
     "text": [
      "Epoch 10/100\n",
      "155/155 [==============================] - 10s 66ms/step - loss: 0.2716 - accuracy: 0.8961 - val_loss: 0.2867 - val_accuracy: 0.9051\n",
      "Epoch 11/100\n",
      "155/155 [==============================] - 10s 66ms/step - loss: 0.2780 - accuracy: 0.8888 - val_loss: 0.2865 - val_accuracy: 0.9051\n",
      "Epoch 12/100\n",
      "155/155 [==============================] - 10s 66ms/step - loss: 0.2662 - accuracy: 0.8953 - val_loss: 0.3030 - val_accuracy: 0.9124\n",
      "Epoch 13/100\n",
      "155/155 [==============================] - 10s 66ms/step - loss: 0.2610 - accuracy: 0.8953 - val_loss: 0.2673 - val_accuracy: 0.9088\n",
      "Epoch 14/100\n",
      "155/155 [==============================] - 10s 66ms/step - loss: 0.2530 - accuracy: 0.8994 - val_loss: 0.2562 - val_accuracy: 0.9088\n",
      "Epoch 15/100\n",
      "155/155 [==============================] - 10s 66ms/step - loss: 0.2476 - accuracy: 0.9095 - val_loss: 0.2807 - val_accuracy: 0.9088\n",
      "Epoch 16/100\n",
      "155/155 [==============================] - 11s 69ms/step - loss: 0.2340 - accuracy: 0.9067 - val_loss: 0.2542 - val_accuracy: 0.9015\n",
      "Epoch 17/100\n",
      "155/155 [==============================] - 10s 66ms/step - loss: 0.2465 - accuracy: 0.9047 - val_loss: 0.2763 - val_accuracy: 0.9197\n"
     ]
    },
    {
     "name": "stderr",
     "output_type": "stream",
     "text": [
      "WARNING:absl:Function `_wrapped_model` contains input name(s) MaxPartialCharge, FpDensityMorgan2, BCUT2D_CHGLO, BCUT2D_MRHI, PEOE_VSA12, PEOE_VSA6, SMR_VSA3, SlogP_VSA3, SlogP_VSA8, EState_VSA6, NumHAcceptors, NumSaturatedCarbocycles with unsupported characters which will be renamed to maxpartialcharge, fpdensitymorgan2, bcut2d_chglo, bcut2d_mrhi, peoe_vsa12, peoe_vsa6, smr_vsa3, slogp_vsa3, slogp_vsa8, estate_vsa6, numhacceptors, numsaturatedcarbocycles in the SavedModel.\n"
     ]
    },
    {
     "name": "stdout",
     "output_type": "stream",
     "text": [
      "INFO:tensorflow:Assets written to: .\\model_checkpoints\\fold_6\\assets\n"
     ]
    },
    {
     "name": "stderr",
     "output_type": "stream",
     "text": [
      "INFO:tensorflow:Assets written to: .\\model_checkpoints\\fold_6\\assets\n"
     ]
    },
    {
     "name": "stdout",
     "output_type": "stream",
     "text": [
      "Epoch 18/100\n",
      "155/155 [==============================] - 10s 65ms/step - loss: 0.2414 - accuracy: 0.9079 - val_loss: 0.2896 - val_accuracy: 0.9088\n",
      "Epoch 19/100\n",
      "155/155 [==============================] - 10s 63ms/step - loss: 0.2437 - accuracy: 0.9014 - val_loss: 0.3166 - val_accuracy: 0.9124\n",
      "Epoch 20/100\n",
      "155/155 [==============================] - 10s 63ms/step - loss: 0.2310 - accuracy: 0.9160 - val_loss: 0.3252 - val_accuracy: 0.9234\n"
     ]
    },
    {
     "name": "stderr",
     "output_type": "stream",
     "text": [
      "WARNING:absl:Function `_wrapped_model` contains input name(s) MaxPartialCharge, FpDensityMorgan2, BCUT2D_CHGLO, BCUT2D_MRHI, PEOE_VSA12, PEOE_VSA6, SMR_VSA3, SlogP_VSA3, SlogP_VSA8, EState_VSA6, NumHAcceptors, NumSaturatedCarbocycles with unsupported characters which will be renamed to maxpartialcharge, fpdensitymorgan2, bcut2d_chglo, bcut2d_mrhi, peoe_vsa12, peoe_vsa6, smr_vsa3, slogp_vsa3, slogp_vsa8, estate_vsa6, numhacceptors, numsaturatedcarbocycles in the SavedModel.\n"
     ]
    },
    {
     "name": "stdout",
     "output_type": "stream",
     "text": [
      "INFO:tensorflow:Assets written to: .\\model_checkpoints\\fold_6\\assets\n"
     ]
    },
    {
     "name": "stderr",
     "output_type": "stream",
     "text": [
      "INFO:tensorflow:Assets written to: .\\model_checkpoints\\fold_6\\assets\n"
     ]
    },
    {
     "name": "stdout",
     "output_type": "stream",
     "text": [
      "Epoch 21/100\n",
      "155/155 [==============================] - 10s 64ms/step - loss: 0.2355 - accuracy: 0.9039 - val_loss: 0.2992 - val_accuracy: 0.9234\n",
      "Epoch 00021: early stopping\n",
      "Fold : 7\n",
      "Epoch 1/100\n",
      "155/155 [==============================] - 26s 137ms/step - loss: 0.4436 - accuracy: 0.8012 - val_loss: 0.3255 - val_accuracy: 0.8796\n"
     ]
    },
    {
     "name": "stderr",
     "output_type": "stream",
     "text": [
      "WARNING:absl:Function `_wrapped_model` contains input name(s) MaxPartialCharge, FpDensityMorgan2, BCUT2D_CHGLO, BCUT2D_MRHI, PEOE_VSA12, PEOE_VSA6, SMR_VSA3, SlogP_VSA3, SlogP_VSA8, EState_VSA6, NumHAcceptors, NumSaturatedCarbocycles with unsupported characters which will be renamed to maxpartialcharge, fpdensitymorgan2, bcut2d_chglo, bcut2d_mrhi, peoe_vsa12, peoe_vsa6, smr_vsa3, slogp_vsa3, slogp_vsa8, estate_vsa6, numhacceptors, numsaturatedcarbocycles in the SavedModel.\n"
     ]
    },
    {
     "name": "stdout",
     "output_type": "stream",
     "text": [
      "INFO:tensorflow:Assets written to: .\\model_checkpoints\\fold_7\\assets\n"
     ]
    },
    {
     "name": "stderr",
     "output_type": "stream",
     "text": [
      "INFO:tensorflow:Assets written to: .\\model_checkpoints\\fold_7\\assets\n"
     ]
    },
    {
     "name": "stdout",
     "output_type": "stream",
     "text": [
      "Epoch 2/100\n",
      "155/155 [==============================] - 11s 69ms/step - loss: 0.3847 - accuracy: 0.8333 - val_loss: 0.3414 - val_accuracy: 0.8504\n",
      "Epoch 3/100\n",
      "155/155 [==============================] - 11s 69ms/step - loss: 0.3589 - accuracy: 0.8519 - val_loss: 0.2954 - val_accuracy: 0.8577\n",
      "Epoch 4/100\n",
      "155/155 [==============================] - 11s 69ms/step - loss: 0.3289 - accuracy: 0.8698 - val_loss: 0.2638 - val_accuracy: 0.8978\n"
     ]
    },
    {
     "name": "stderr",
     "output_type": "stream",
     "text": [
      "WARNING:absl:Function `_wrapped_model` contains input name(s) MaxPartialCharge, FpDensityMorgan2, BCUT2D_CHGLO, BCUT2D_MRHI, PEOE_VSA12, PEOE_VSA6, SMR_VSA3, SlogP_VSA3, SlogP_VSA8, EState_VSA6, NumHAcceptors, NumSaturatedCarbocycles with unsupported characters which will be renamed to maxpartialcharge, fpdensitymorgan2, bcut2d_chglo, bcut2d_mrhi, peoe_vsa12, peoe_vsa6, smr_vsa3, slogp_vsa3, slogp_vsa8, estate_vsa6, numhacceptors, numsaturatedcarbocycles in the SavedModel.\n"
     ]
    },
    {
     "name": "stdout",
     "output_type": "stream",
     "text": [
      "INFO:tensorflow:Assets written to: .\\model_checkpoints\\fold_7\\assets\n"
     ]
    },
    {
     "name": "stderr",
     "output_type": "stream",
     "text": [
      "INFO:tensorflow:Assets written to: .\\model_checkpoints\\fold_7\\assets\n"
     ]
    },
    {
     "name": "stdout",
     "output_type": "stream",
     "text": [
      "Epoch 5/100\n",
      "155/155 [==============================] - 11s 68ms/step - loss: 0.3195 - accuracy: 0.8686 - val_loss: 0.2777 - val_accuracy: 0.8832\n",
      "Epoch 6/100\n",
      "155/155 [==============================] - 10s 67ms/step - loss: 0.3112 - accuracy: 0.8722 - val_loss: 0.2561 - val_accuracy: 0.9270\n"
     ]
    },
    {
     "name": "stderr",
     "output_type": "stream",
     "text": [
      "WARNING:absl:Function `_wrapped_model` contains input name(s) MaxPartialCharge, FpDensityMorgan2, BCUT2D_CHGLO, BCUT2D_MRHI, PEOE_VSA12, PEOE_VSA6, SMR_VSA3, SlogP_VSA3, SlogP_VSA8, EState_VSA6, NumHAcceptors, NumSaturatedCarbocycles with unsupported characters which will be renamed to maxpartialcharge, fpdensitymorgan2, bcut2d_chglo, bcut2d_mrhi, peoe_vsa12, peoe_vsa6, smr_vsa3, slogp_vsa3, slogp_vsa8, estate_vsa6, numhacceptors, numsaturatedcarbocycles in the SavedModel.\n"
     ]
    },
    {
     "name": "stdout",
     "output_type": "stream",
     "text": [
      "INFO:tensorflow:Assets written to: .\\model_checkpoints\\fold_7\\assets\n"
     ]
    },
    {
     "name": "stderr",
     "output_type": "stream",
     "text": [
      "INFO:tensorflow:Assets written to: .\\model_checkpoints\\fold_7\\assets\n"
     ]
    },
    {
     "name": "stdout",
     "output_type": "stream",
     "text": [
      "Epoch 7/100\n",
      "155/155 [==============================] - 10s 66ms/step - loss: 0.3082 - accuracy: 0.8722 - val_loss: 0.2593 - val_accuracy: 0.9124\n",
      "Epoch 8/100\n",
      "155/155 [==============================] - 10s 67ms/step - loss: 0.2899 - accuracy: 0.8799 - val_loss: 0.2393 - val_accuracy: 0.9234\n",
      "Epoch 9/100\n",
      "155/155 [==============================] - 10s 65ms/step - loss: 0.2825 - accuracy: 0.8868 - val_loss: 0.2474 - val_accuracy: 0.9161\n",
      "Epoch 10/100\n",
      "155/155 [==============================] - 10s 67ms/step - loss: 0.2856 - accuracy: 0.8921 - val_loss: 0.2525 - val_accuracy: 0.9051\n",
      "Epoch 11/100\n",
      "155/155 [==============================] - 10s 66ms/step - loss: 0.2761 - accuracy: 0.8860 - val_loss: 0.2359 - val_accuracy: 0.8978\n",
      "Epoch 12/100\n",
      "155/155 [==============================] - 10s 65ms/step - loss: 0.2614 - accuracy: 0.8982 - val_loss: 0.2245 - val_accuracy: 0.9124\n",
      "Epoch 13/100\n",
      "155/155 [==============================] - 10s 65ms/step - loss: 0.2539 - accuracy: 0.8978 - val_loss: 0.2575 - val_accuracy: 0.9015\n",
      "Epoch 14/100\n",
      "155/155 [==============================] - 10s 67ms/step - loss: 0.2777 - accuracy: 0.8933 - val_loss: 0.2178 - val_accuracy: 0.9015\n",
      "Epoch 15/100\n",
      "155/155 [==============================] - 10s 68ms/step - loss: 0.2609 - accuracy: 0.8966 - val_loss: 0.2058 - val_accuracy: 0.9197\n",
      "Epoch 16/100\n",
      "155/155 [==============================] - 11s 69ms/step - loss: 0.2543 - accuracy: 0.8990 - val_loss: 0.2266 - val_accuracy: 0.9124\n",
      "Epoch 17/100\n",
      "155/155 [==============================] - 10s 65ms/step - loss: 0.2603 - accuracy: 0.8941 - val_loss: 0.2288 - val_accuracy: 0.9015\n",
      "Epoch 18/100\n",
      "155/155 [==============================] - 10s 67ms/step - loss: 0.2306 - accuracy: 0.9148 - val_loss: 0.2312 - val_accuracy: 0.8905\n",
      "Epoch 19/100\n",
      "155/155 [==============================] - 10s 65ms/step - loss: 0.2373 - accuracy: 0.9075 - val_loss: 0.2412 - val_accuracy: 0.8978\n",
      "Epoch 20/100\n",
      "155/155 [==============================] - 10s 67ms/step - loss: 0.2279 - accuracy: 0.9087 - val_loss: 0.2011 - val_accuracy: 0.9161\n",
      "Epoch 21/100\n",
      "155/155 [==============================] - 11s 70ms/step - loss: 0.2310 - accuracy: 0.9140 - val_loss: 0.2300 - val_accuracy: 0.9015\n",
      "Epoch 22/100\n",
      "155/155 [==============================] - 11s 69ms/step - loss: 0.2226 - accuracy: 0.9055 - val_loss: 0.2149 - val_accuracy: 0.9088\n",
      "Epoch 23/100\n",
      "155/155 [==============================] - 10s 67ms/step - loss: 0.2153 - accuracy: 0.9213 - val_loss: 0.2320 - val_accuracy: 0.9124\n",
      "Epoch 24/100\n",
      "155/155 [==============================] - 10s 66ms/step - loss: 0.2109 - accuracy: 0.9160 - val_loss: 0.1824 - val_accuracy: 0.9307\n"
     ]
    },
    {
     "name": "stderr",
     "output_type": "stream",
     "text": [
      "WARNING:absl:Function `_wrapped_model` contains input name(s) MaxPartialCharge, FpDensityMorgan2, BCUT2D_CHGLO, BCUT2D_MRHI, PEOE_VSA12, PEOE_VSA6, SMR_VSA3, SlogP_VSA3, SlogP_VSA8, EState_VSA6, NumHAcceptors, NumSaturatedCarbocycles with unsupported characters which will be renamed to maxpartialcharge, fpdensitymorgan2, bcut2d_chglo, bcut2d_mrhi, peoe_vsa12, peoe_vsa6, smr_vsa3, slogp_vsa3, slogp_vsa8, estate_vsa6, numhacceptors, numsaturatedcarbocycles in the SavedModel.\n"
     ]
    },
    {
     "name": "stdout",
     "output_type": "stream",
     "text": [
      "INFO:tensorflow:Assets written to: .\\model_checkpoints\\fold_7\\assets\n"
     ]
    },
    {
     "name": "stderr",
     "output_type": "stream",
     "text": [
      "INFO:tensorflow:Assets written to: .\\model_checkpoints\\fold_7\\assets\n"
     ]
    },
    {
     "name": "stdout",
     "output_type": "stream",
     "text": [
      "Epoch 25/100\n",
      "155/155 [==============================] - 10s 66ms/step - loss: 0.2311 - accuracy: 0.9039 - val_loss: 0.2018 - val_accuracy: 0.9234\n",
      "Epoch 26/100\n",
      "155/155 [==============================] - 10s 65ms/step - loss: 0.2369 - accuracy: 0.9030 - val_loss: 0.2050 - val_accuracy: 0.9088\n",
      "Epoch 27/100\n",
      "155/155 [==============================] - 11s 69ms/step - loss: 0.2162 - accuracy: 0.9132 - val_loss: 0.1996 - val_accuracy: 0.9234\n",
      "Epoch 28/100\n",
      "155/155 [==============================] - 10s 65ms/step - loss: 0.2245 - accuracy: 0.9164 - val_loss: 0.2046 - val_accuracy: 0.9270\n",
      "Epoch 29/100\n",
      "155/155 [==============================] - 10s 65ms/step - loss: 0.2063 - accuracy: 0.9176 - val_loss: 0.2016 - val_accuracy: 0.9270\n",
      "Epoch 00029: early stopping\n",
      "Fold : 8\n",
      "Epoch 1/100\n",
      "155/155 [==============================] - 28s 147ms/step - loss: 0.4727 - accuracy: 0.7862 - val_loss: 0.4042 - val_accuracy: 0.8577\n"
     ]
    },
    {
     "name": "stderr",
     "output_type": "stream",
     "text": [
      "WARNING:absl:Function `_wrapped_model` contains input name(s) MaxPartialCharge, FpDensityMorgan2, BCUT2D_CHGLO, BCUT2D_MRHI, PEOE_VSA12, PEOE_VSA6, SMR_VSA3, SlogP_VSA3, SlogP_VSA8, EState_VSA6, NumHAcceptors, NumSaturatedCarbocycles with unsupported characters which will be renamed to maxpartialcharge, fpdensitymorgan2, bcut2d_chglo, bcut2d_mrhi, peoe_vsa12, peoe_vsa6, smr_vsa3, slogp_vsa3, slogp_vsa8, estate_vsa6, numhacceptors, numsaturatedcarbocycles in the SavedModel.\n"
     ]
    },
    {
     "name": "stdout",
     "output_type": "stream",
     "text": [
      "INFO:tensorflow:Assets written to: .\\model_checkpoints\\fold_8\\assets\n"
     ]
    },
    {
     "name": "stderr",
     "output_type": "stream",
     "text": [
      "INFO:tensorflow:Assets written to: .\\model_checkpoints\\fold_8\\assets\n"
     ]
    },
    {
     "name": "stdout",
     "output_type": "stream",
     "text": [
      "Epoch 2/100\n",
      "155/155 [==============================] - 13s 82ms/step - loss: 0.3817 - accuracy: 0.8349 - val_loss: 0.3430 - val_accuracy: 0.8723\n"
     ]
    },
    {
     "name": "stderr",
     "output_type": "stream",
     "text": [
      "WARNING:absl:Function `_wrapped_model` contains input name(s) MaxPartialCharge, FpDensityMorgan2, BCUT2D_CHGLO, BCUT2D_MRHI, PEOE_VSA12, PEOE_VSA6, SMR_VSA3, SlogP_VSA3, SlogP_VSA8, EState_VSA6, NumHAcceptors, NumSaturatedCarbocycles with unsupported characters which will be renamed to maxpartialcharge, fpdensitymorgan2, bcut2d_chglo, bcut2d_mrhi, peoe_vsa12, peoe_vsa6, smr_vsa3, slogp_vsa3, slogp_vsa8, estate_vsa6, numhacceptors, numsaturatedcarbocycles in the SavedModel.\n"
     ]
    },
    {
     "name": "stdout",
     "output_type": "stream",
     "text": [
      "INFO:tensorflow:Assets written to: .\\model_checkpoints\\fold_8\\assets\n"
     ]
    },
    {
     "name": "stderr",
     "output_type": "stream",
     "text": [
      "INFO:tensorflow:Assets written to: .\\model_checkpoints\\fold_8\\assets\n"
     ]
    },
    {
     "name": "stdout",
     "output_type": "stream",
     "text": [
      "Epoch 3/100\n",
      "155/155 [==============================] - 12s 80ms/step - loss: 0.3509 - accuracy: 0.8609 - val_loss: 0.3399 - val_accuracy: 0.8723\n",
      "Epoch 4/100\n",
      "155/155 [==============================] - 12s 80ms/step - loss: 0.3283 - accuracy: 0.8702 - val_loss: 0.3466 - val_accuracy: 0.8686\n",
      "Epoch 5/100\n",
      "155/155 [==============================] - 13s 83ms/step - loss: 0.3158 - accuracy: 0.8661 - val_loss: 0.3102 - val_accuracy: 0.8905\n"
     ]
    },
    {
     "name": "stderr",
     "output_type": "stream",
     "text": [
      "WARNING:absl:Function `_wrapped_model` contains input name(s) MaxPartialCharge, FpDensityMorgan2, BCUT2D_CHGLO, BCUT2D_MRHI, PEOE_VSA12, PEOE_VSA6, SMR_VSA3, SlogP_VSA3, SlogP_VSA8, EState_VSA6, NumHAcceptors, NumSaturatedCarbocycles with unsupported characters which will be renamed to maxpartialcharge, fpdensitymorgan2, bcut2d_chglo, bcut2d_mrhi, peoe_vsa12, peoe_vsa6, smr_vsa3, slogp_vsa3, slogp_vsa8, estate_vsa6, numhacceptors, numsaturatedcarbocycles in the SavedModel.\n"
     ]
    },
    {
     "name": "stdout",
     "output_type": "stream",
     "text": [
      "INFO:tensorflow:Assets written to: .\\model_checkpoints\\fold_8\\assets\n"
     ]
    },
    {
     "name": "stderr",
     "output_type": "stream",
     "text": [
      "INFO:tensorflow:Assets written to: .\\model_checkpoints\\fold_8\\assets\n"
     ]
    },
    {
     "name": "stdout",
     "output_type": "stream",
     "text": [
      "Epoch 6/100\n",
      "155/155 [==============================] - 13s 82ms/step - loss: 0.3070 - accuracy: 0.8746 - val_loss: 0.3311 - val_accuracy: 0.8869\n",
      "Epoch 7/100\n",
      "155/155 [==============================] - 13s 82ms/step - loss: 0.2954 - accuracy: 0.8884 - val_loss: 0.2971 - val_accuracy: 0.8832\n",
      "Epoch 8/100\n",
      "155/155 [==============================] - 13s 81ms/step - loss: 0.2850 - accuracy: 0.8864 - val_loss: 0.3183 - val_accuracy: 0.8942\n"
     ]
    },
    {
     "name": "stderr",
     "output_type": "stream",
     "text": [
      "WARNING:absl:Function `_wrapped_model` contains input name(s) MaxPartialCharge, FpDensityMorgan2, BCUT2D_CHGLO, BCUT2D_MRHI, PEOE_VSA12, PEOE_VSA6, SMR_VSA3, SlogP_VSA3, SlogP_VSA8, EState_VSA6, NumHAcceptors, NumSaturatedCarbocycles with unsupported characters which will be renamed to maxpartialcharge, fpdensitymorgan2, bcut2d_chglo, bcut2d_mrhi, peoe_vsa12, peoe_vsa6, smr_vsa3, slogp_vsa3, slogp_vsa8, estate_vsa6, numhacceptors, numsaturatedcarbocycles in the SavedModel.\n"
     ]
    },
    {
     "name": "stdout",
     "output_type": "stream",
     "text": [
      "INFO:tensorflow:Assets written to: .\\model_checkpoints\\fold_8\\assets\n"
     ]
    },
    {
     "name": "stderr",
     "output_type": "stream",
     "text": [
      "INFO:tensorflow:Assets written to: .\\model_checkpoints\\fold_8\\assets\n"
     ]
    },
    {
     "name": "stdout",
     "output_type": "stream",
     "text": [
      "Epoch 9/100\n",
      "155/155 [==============================] - 13s 82ms/step - loss: 0.2818 - accuracy: 0.8864 - val_loss: 0.3073 - val_accuracy: 0.9015\n"
     ]
    },
    {
     "name": "stderr",
     "output_type": "stream",
     "text": [
      "WARNING:absl:Function `_wrapped_model` contains input name(s) MaxPartialCharge, FpDensityMorgan2, BCUT2D_CHGLO, BCUT2D_MRHI, PEOE_VSA12, PEOE_VSA6, SMR_VSA3, SlogP_VSA3, SlogP_VSA8, EState_VSA6, NumHAcceptors, NumSaturatedCarbocycles with unsupported characters which will be renamed to maxpartialcharge, fpdensitymorgan2, bcut2d_chglo, bcut2d_mrhi, peoe_vsa12, peoe_vsa6, smr_vsa3, slogp_vsa3, slogp_vsa8, estate_vsa6, numhacceptors, numsaturatedcarbocycles in the SavedModel.\n"
     ]
    },
    {
     "name": "stdout",
     "output_type": "stream",
     "text": [
      "INFO:tensorflow:Assets written to: .\\model_checkpoints\\fold_8\\assets\n"
     ]
    },
    {
     "name": "stderr",
     "output_type": "stream",
     "text": [
      "INFO:tensorflow:Assets written to: .\\model_checkpoints\\fold_8\\assets\n"
     ]
    },
    {
     "name": "stdout",
     "output_type": "stream",
     "text": [
      "Epoch 10/100\n",
      "155/155 [==============================] - 13s 82ms/step - loss: 0.2736 - accuracy: 0.8868 - val_loss: 0.2988 - val_accuracy: 0.8905\n",
      "Epoch 11/100\n",
      "155/155 [==============================] - 13s 84ms/step - loss: 0.2593 - accuracy: 0.9014 - val_loss: 0.2942 - val_accuracy: 0.9015\n",
      "Epoch 12/100\n",
      "155/155 [==============================] - 13s 84ms/step - loss: 0.2619 - accuracy: 0.8957 - val_loss: 0.3052 - val_accuracy: 0.8942\n",
      "Epoch 13/100\n",
      "155/155 [==============================] - 13s 82ms/step - loss: 0.2426 - accuracy: 0.8978 - val_loss: 0.2914 - val_accuracy: 0.9051\n"
     ]
    },
    {
     "name": "stderr",
     "output_type": "stream",
     "text": [
      "WARNING:absl:Function `_wrapped_model` contains input name(s) MaxPartialCharge, FpDensityMorgan2, BCUT2D_CHGLO, BCUT2D_MRHI, PEOE_VSA12, PEOE_VSA6, SMR_VSA3, SlogP_VSA3, SlogP_VSA8, EState_VSA6, NumHAcceptors, NumSaturatedCarbocycles with unsupported characters which will be renamed to maxpartialcharge, fpdensitymorgan2, bcut2d_chglo, bcut2d_mrhi, peoe_vsa12, peoe_vsa6, smr_vsa3, slogp_vsa3, slogp_vsa8, estate_vsa6, numhacceptors, numsaturatedcarbocycles in the SavedModel.\n"
     ]
    },
    {
     "name": "stdout",
     "output_type": "stream",
     "text": [
      "INFO:tensorflow:Assets written to: .\\model_checkpoints\\fold_8\\assets\n"
     ]
    },
    {
     "name": "stderr",
     "output_type": "stream",
     "text": [
      "INFO:tensorflow:Assets written to: .\\model_checkpoints\\fold_8\\assets\n"
     ]
    },
    {
     "name": "stdout",
     "output_type": "stream",
     "text": [
      "Epoch 14/100\n",
      "155/155 [==============================] - 13s 82ms/step - loss: 0.2440 - accuracy: 0.9051 - val_loss: 0.3202 - val_accuracy: 0.8978\n",
      "Epoch 15/100\n",
      "155/155 [==============================] - 13s 82ms/step - loss: 0.2214 - accuracy: 0.9116 - val_loss: 0.3158 - val_accuracy: 0.9051\n",
      "Epoch 16/100\n",
      "155/155 [==============================] - 13s 83ms/step - loss: 0.2406 - accuracy: 0.9067 - val_loss: 0.3281 - val_accuracy: 0.9051\n",
      "Epoch 17/100\n",
      "155/155 [==============================] - 13s 82ms/step - loss: 0.2268 - accuracy: 0.9083 - val_loss: 0.3055 - val_accuracy: 0.9088\n"
     ]
    },
    {
     "name": "stderr",
     "output_type": "stream",
     "text": [
      "WARNING:absl:Function `_wrapped_model` contains input name(s) MaxPartialCharge, FpDensityMorgan2, BCUT2D_CHGLO, BCUT2D_MRHI, PEOE_VSA12, PEOE_VSA6, SMR_VSA3, SlogP_VSA3, SlogP_VSA8, EState_VSA6, NumHAcceptors, NumSaturatedCarbocycles with unsupported characters which will be renamed to maxpartialcharge, fpdensitymorgan2, bcut2d_chglo, bcut2d_mrhi, peoe_vsa12, peoe_vsa6, smr_vsa3, slogp_vsa3, slogp_vsa8, estate_vsa6, numhacceptors, numsaturatedcarbocycles in the SavedModel.\n"
     ]
    },
    {
     "name": "stdout",
     "output_type": "stream",
     "text": [
      "INFO:tensorflow:Assets written to: .\\model_checkpoints\\fold_8\\assets\n"
     ]
    },
    {
     "name": "stderr",
     "output_type": "stream",
     "text": [
      "INFO:tensorflow:Assets written to: .\\model_checkpoints\\fold_8\\assets\n"
     ]
    },
    {
     "name": "stdout",
     "output_type": "stream",
     "text": [
      "Epoch 18/100\n",
      "155/155 [==============================] - 13s 83ms/step - loss: 0.2327 - accuracy: 0.9091 - val_loss: 0.3002 - val_accuracy: 0.9015\n",
      "Epoch 00018: early stopping\n",
      "Fold : 9\n",
      "Epoch 1/100\n",
      "155/155 [==============================] - 24s 127ms/step - loss: 0.4470 - accuracy: 0.8009 - val_loss: 0.3552 - val_accuracy: 0.8645\n"
     ]
    },
    {
     "name": "stderr",
     "output_type": "stream",
     "text": [
      "WARNING:absl:Function `_wrapped_model` contains input name(s) MaxPartialCharge, FpDensityMorgan2, BCUT2D_CHGLO, BCUT2D_MRHI, PEOE_VSA12, PEOE_VSA6, SMR_VSA3, SlogP_VSA3, SlogP_VSA8, EState_VSA6, NumHAcceptors, NumSaturatedCarbocycles with unsupported characters which will be renamed to maxpartialcharge, fpdensitymorgan2, bcut2d_chglo, bcut2d_mrhi, peoe_vsa12, peoe_vsa6, smr_vsa3, slogp_vsa3, slogp_vsa8, estate_vsa6, numhacceptors, numsaturatedcarbocycles in the SavedModel.\n"
     ]
    },
    {
     "name": "stdout",
     "output_type": "stream",
     "text": [
      "INFO:tensorflow:Assets written to: .\\model_checkpoints\\fold_9\\assets\n"
     ]
    },
    {
     "name": "stderr",
     "output_type": "stream",
     "text": [
      "INFO:tensorflow:Assets written to: .\\model_checkpoints\\fold_9\\assets\n"
     ]
    },
    {
     "name": "stdout",
     "output_type": "stream",
     "text": [
      "Epoch 2/100\n",
      "155/155 [==============================] - 11s 69ms/step - loss: 0.3611 - accuracy: 0.8520 - val_loss: 0.3100 - val_accuracy: 0.8791\n"
     ]
    },
    {
     "name": "stderr",
     "output_type": "stream",
     "text": [
      "WARNING:absl:Function `_wrapped_model` contains input name(s) MaxPartialCharge, FpDensityMorgan2, BCUT2D_CHGLO, BCUT2D_MRHI, PEOE_VSA12, PEOE_VSA6, SMR_VSA3, SlogP_VSA3, SlogP_VSA8, EState_VSA6, NumHAcceptors, NumSaturatedCarbocycles with unsupported characters which will be renamed to maxpartialcharge, fpdensitymorgan2, bcut2d_chglo, bcut2d_mrhi, peoe_vsa12, peoe_vsa6, smr_vsa3, slogp_vsa3, slogp_vsa8, estate_vsa6, numhacceptors, numsaturatedcarbocycles in the SavedModel.\n"
     ]
    },
    {
     "name": "stdout",
     "output_type": "stream",
     "text": [
      "INFO:tensorflow:Assets written to: .\\model_checkpoints\\fold_9\\assets\n"
     ]
    },
    {
     "name": "stderr",
     "output_type": "stream",
     "text": [
      "INFO:tensorflow:Assets written to: .\\model_checkpoints\\fold_9\\assets\n"
     ]
    },
    {
     "name": "stdout",
     "output_type": "stream",
     "text": [
      "Epoch 3/100\n",
      "155/155 [==============================] - 10s 66ms/step - loss: 0.3348 - accuracy: 0.8601 - val_loss: 0.3282 - val_accuracy: 0.8571\n",
      "Epoch 4/100\n",
      "155/155 [==============================] - 10s 66ms/step - loss: 0.3240 - accuracy: 0.8544 - val_loss: 0.3269 - val_accuracy: 0.8645\n",
      "Epoch 5/100\n",
      "155/155 [==============================] - 10s 65ms/step - loss: 0.3287 - accuracy: 0.8532 - val_loss: 0.3059 - val_accuracy: 0.8828\n"
     ]
    },
    {
     "name": "stderr",
     "output_type": "stream",
     "text": [
      "WARNING:absl:Function `_wrapped_model` contains input name(s) MaxPartialCharge, FpDensityMorgan2, BCUT2D_CHGLO, BCUT2D_MRHI, PEOE_VSA12, PEOE_VSA6, SMR_VSA3, SlogP_VSA3, SlogP_VSA8, EState_VSA6, NumHAcceptors, NumSaturatedCarbocycles with unsupported characters which will be renamed to maxpartialcharge, fpdensitymorgan2, bcut2d_chglo, bcut2d_mrhi, peoe_vsa12, peoe_vsa6, smr_vsa3, slogp_vsa3, slogp_vsa8, estate_vsa6, numhacceptors, numsaturatedcarbocycles in the SavedModel.\n"
     ]
    },
    {
     "name": "stdout",
     "output_type": "stream",
     "text": [
      "INFO:tensorflow:Assets written to: .\\model_checkpoints\\fold_9\\assets\n"
     ]
    },
    {
     "name": "stderr",
     "output_type": "stream",
     "text": [
      "INFO:tensorflow:Assets written to: .\\model_checkpoints\\fold_9\\assets\n"
     ]
    },
    {
     "name": "stdout",
     "output_type": "stream",
     "text": [
      "Epoch 6/100\n",
      "155/155 [==============================] - 10s 67ms/step - loss: 0.3055 - accuracy: 0.8759 - val_loss: 0.3094 - val_accuracy: 0.9011\n"
     ]
    },
    {
     "name": "stderr",
     "output_type": "stream",
     "text": [
      "WARNING:absl:Function `_wrapped_model` contains input name(s) MaxPartialCharge, FpDensityMorgan2, BCUT2D_CHGLO, BCUT2D_MRHI, PEOE_VSA12, PEOE_VSA6, SMR_VSA3, SlogP_VSA3, SlogP_VSA8, EState_VSA6, NumHAcceptors, NumSaturatedCarbocycles with unsupported characters which will be renamed to maxpartialcharge, fpdensitymorgan2, bcut2d_chglo, bcut2d_mrhi, peoe_vsa12, peoe_vsa6, smr_vsa3, slogp_vsa3, slogp_vsa8, estate_vsa6, numhacceptors, numsaturatedcarbocycles in the SavedModel.\n"
     ]
    },
    {
     "name": "stdout",
     "output_type": "stream",
     "text": [
      "INFO:tensorflow:Assets written to: .\\model_checkpoints\\fold_9\\assets\n"
     ]
    },
    {
     "name": "stderr",
     "output_type": "stream",
     "text": [
      "INFO:tensorflow:Assets written to: .\\model_checkpoints\\fold_9\\assets\n"
     ]
    },
    {
     "name": "stdout",
     "output_type": "stream",
     "text": [
      "Epoch 7/100\n",
      "155/155 [==============================] - 10s 67ms/step - loss: 0.3078 - accuracy: 0.8678 - val_loss: 0.3046 - val_accuracy: 0.9011\n",
      "Epoch 8/100\n",
      "155/155 [==============================] - 10s 67ms/step - loss: 0.2986 - accuracy: 0.8808 - val_loss: 0.2865 - val_accuracy: 0.8974\n",
      "Epoch 9/100\n",
      "155/155 [==============================] - 11s 68ms/step - loss: 0.2799 - accuracy: 0.8792 - val_loss: 0.2869 - val_accuracy: 0.9084\n"
     ]
    },
    {
     "name": "stderr",
     "output_type": "stream",
     "text": [
      "WARNING:absl:Function `_wrapped_model` contains input name(s) MaxPartialCharge, FpDensityMorgan2, BCUT2D_CHGLO, BCUT2D_MRHI, PEOE_VSA12, PEOE_VSA6, SMR_VSA3, SlogP_VSA3, SlogP_VSA8, EState_VSA6, NumHAcceptors, NumSaturatedCarbocycles with unsupported characters which will be renamed to maxpartialcharge, fpdensitymorgan2, bcut2d_chglo, bcut2d_mrhi, peoe_vsa12, peoe_vsa6, smr_vsa3, slogp_vsa3, slogp_vsa8, estate_vsa6, numhacceptors, numsaturatedcarbocycles in the SavedModel.\n"
     ]
    },
    {
     "name": "stdout",
     "output_type": "stream",
     "text": [
      "INFO:tensorflow:Assets written to: .\\model_checkpoints\\fold_9\\assets\n"
     ]
    },
    {
     "name": "stderr",
     "output_type": "stream",
     "text": [
      "INFO:tensorflow:Assets written to: .\\model_checkpoints\\fold_9\\assets\n"
     ]
    },
    {
     "name": "stdout",
     "output_type": "stream",
     "text": [
      "Epoch 10/100\n",
      "155/155 [==============================] - 10s 66ms/step - loss: 0.2812 - accuracy: 0.8812 - val_loss: 0.2860 - val_accuracy: 0.8864\n",
      "Epoch 11/100\n",
      "155/155 [==============================] - 10s 67ms/step - loss: 0.2667 - accuracy: 0.8832 - val_loss: 0.2905 - val_accuracy: 0.8755\n",
      "Epoch 12/100\n",
      "155/155 [==============================] - 10s 67ms/step - loss: 0.2629 - accuracy: 0.8885 - val_loss: 0.2955 - val_accuracy: 0.8864\n",
      "Epoch 13/100\n",
      "155/155 [==============================] - 10s 64ms/step - loss: 0.2595 - accuracy: 0.8925 - val_loss: 0.2897 - val_accuracy: 0.8864\n",
      "Epoch 14/100\n",
      "155/155 [==============================] - 10s 65ms/step - loss: 0.2564 - accuracy: 0.8881 - val_loss: 0.2727 - val_accuracy: 0.8901\n",
      "Epoch 15/100\n",
      "155/155 [==============================] - 10s 67ms/step - loss: 0.2653 - accuracy: 0.8852 - val_loss: 0.2466 - val_accuracy: 0.8974\n",
      "Epoch 16/100\n",
      "155/155 [==============================] - 10s 65ms/step - loss: 0.2531 - accuracy: 0.8958 - val_loss: 0.2577 - val_accuracy: 0.9011\n",
      "Epoch 17/100\n",
      "155/155 [==============================] - 11s 68ms/step - loss: 0.2604 - accuracy: 0.8970 - val_loss: 0.2800 - val_accuracy: 0.8828\n",
      "Epoch 18/100\n",
      "155/155 [==============================] - 10s 66ms/step - loss: 0.2353 - accuracy: 0.8994 - val_loss: 0.2861 - val_accuracy: 0.9011\n",
      "Epoch 19/100\n",
      "155/155 [==============================] - 10s 66ms/step - loss: 0.2460 - accuracy: 0.8917 - val_loss: 0.2972 - val_accuracy: 0.9011\n",
      "Epoch 20/100\n",
      "155/155 [==============================] - 10s 66ms/step - loss: 0.2366 - accuracy: 0.9071 - val_loss: 0.2756 - val_accuracy: 0.8901\n",
      "Epoch 00020: early stopping\n"
     ]
    }
   ],
   "source": [
    "for fold_ in range(10):\n",
    "    train_ds, val_ds = train_val_split(fold_, config.batch_size)\n",
    "    all_inputs, encoded_features = preprocess_dataset(numerical_features, categorical_features)\n",
    "    train(fold_, all_inputs, encoded_features, train_ds, val_ds, config.epochs)"
   ]
  },
  {
   "cell_type": "code",
   "execution_count": null,
   "id": "0c7c39c7",
   "metadata": {},
   "outputs": [],
   "source": []
  }
 ],
 "metadata": {
  "kernelspec": {
   "display_name": "tfgpu",
   "language": "python",
   "name": "tfgpu"
  },
  "language_info": {
   "codemirror_mode": {
    "name": "ipython",
    "version": 3
   },
   "file_extension": ".py",
   "mimetype": "text/x-python",
   "name": "python",
   "nbconvert_exporter": "python",
   "pygments_lexer": "ipython3",
   "version": "3.8.0"
  }
 },
 "nbformat": 4,
 "nbformat_minor": 5
}

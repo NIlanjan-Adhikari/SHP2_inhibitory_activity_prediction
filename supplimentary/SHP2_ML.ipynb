{
 "cells": [
  {
   "cell_type": "markdown",
   "id": "2eb2bb44",
   "metadata": {},
   "source": [
    "# Imports\n",
    "\n",
    "https://drzinph.com/rdkit_2d-descriptors-in-python-part-4/\n",
    "https://www.rdkit.org/docs/GettingStartedInPython.html#list-of-available-descriptors"
   ]
  },
  {
   "cell_type": "code",
   "execution_count": 1,
   "id": "a08e3233",
   "metadata": {},
   "outputs": [],
   "source": [
    "import pickle\n",
    "import numpy as np\n",
    "import pandas as pd\n",
    "import matplotlib.pyplot as plt\n",
    "import seaborn as sns\n",
    "from tqdm.notebook import tqdm\n",
    "from sklearn.model_selection import train_test_split\n",
    "from sklearn.linear_model import LogisticRegression\n",
    "from sklearn.tree import DecisionTreeClassifier\n",
    "from sklearn.ensemble import RandomForestClassifier, AdaBoostClassifier\n",
    "from sklearn.neighbors import KNeighborsClassifier\n",
    "from sklearn.naive_bayes import GaussianNB\n",
    "from sklearn.svm import SVC\n",
    "from xgboost import XGBClassifier\n",
    "from sklearn import preprocessing\n",
    "from sklearn.metrics import confusion_matrix, classification_report, accuracy_score, roc_curve, auc, ConfusionMatrixDisplay"
   ]
  },
  {
   "cell_type": "markdown",
   "id": "72417f95",
   "metadata": {},
   "source": [
    "# Read Dataset"
   ]
  },
  {
   "cell_type": "code",
   "execution_count": 2,
   "id": "fa22a0eb",
   "metadata": {},
   "outputs": [
    {
     "data": {
      "text/html": [
       "<div>\n",
       "<style scoped>\n",
       "    .dataframe tbody tr th:only-of-type {\n",
       "        vertical-align: middle;\n",
       "    }\n",
       "\n",
       "    .dataframe tbody tr th {\n",
       "        vertical-align: top;\n",
       "    }\n",
       "\n",
       "    .dataframe thead th {\n",
       "        text-align: right;\n",
       "    }\n",
       "</style>\n",
       "<table border=\"1\" class=\"dataframe\">\n",
       "  <thead>\n",
       "    <tr style=\"text-align: right;\">\n",
       "      <th></th>\n",
       "      <th>SMILES</th>\n",
       "      <th>MaxEStateIndex</th>\n",
       "      <th>MinEStateIndex</th>\n",
       "      <th>MaxAbsEStateIndex</th>\n",
       "      <th>MinAbsEStateIndex</th>\n",
       "      <th>qed</th>\n",
       "      <th>MolWt</th>\n",
       "      <th>HeavyAtomMolWt</th>\n",
       "      <th>ExactMolWt</th>\n",
       "      <th>NumValenceElectrons</th>\n",
       "      <th>...</th>\n",
       "      <th>fr_sulfonamd</th>\n",
       "      <th>fr_sulfone</th>\n",
       "      <th>fr_term_acetylene</th>\n",
       "      <th>fr_tetrazole</th>\n",
       "      <th>fr_thiazole</th>\n",
       "      <th>fr_thiocyan</th>\n",
       "      <th>fr_thiophene</th>\n",
       "      <th>fr_unbrch_alkane</th>\n",
       "      <th>fr_urea</th>\n",
       "      <th>TARGET</th>\n",
       "    </tr>\n",
       "  </thead>\n",
       "  <tbody>\n",
       "    <tr>\n",
       "      <th>0</th>\n",
       "      <td>N[C@@H]1CCCC11CCN(CC1)c1cnc(Sc2cccc(NC(=O)c3c(...</td>\n",
       "      <td>13.061568</td>\n",
       "      <td>-0.781987</td>\n",
       "      <td>13.061568</td>\n",
       "      <td>0.246174</td>\n",
       "      <td>0.340043</td>\n",
       "      <td>597.145</td>\n",
       "      <td>563.881</td>\n",
       "      <td>596.208486</td>\n",
       "      <td>216</td>\n",
       "      <td>...</td>\n",
       "      <td>0</td>\n",
       "      <td>0</td>\n",
       "      <td>0</td>\n",
       "      <td>0</td>\n",
       "      <td>0</td>\n",
       "      <td>0</td>\n",
       "      <td>0</td>\n",
       "      <td>0</td>\n",
       "      <td>0</td>\n",
       "      <td>1</td>\n",
       "    </tr>\n",
       "    <tr>\n",
       "      <th>1</th>\n",
       "      <td>C[C@@H]1OCC2(CCN(CC2)c2nc(C)n(-c3ccc(Oc4ccn(C)...</td>\n",
       "      <td>13.551035</td>\n",
       "      <td>-0.191045</td>\n",
       "      <td>13.551035</td>\n",
       "      <td>0.002765</td>\n",
       "      <td>0.541003</td>\n",
       "      <td>533.460</td>\n",
       "      <td>503.220</td>\n",
       "      <td>532.175644</td>\n",
       "      <td>192</td>\n",
       "      <td>...</td>\n",
       "      <td>0</td>\n",
       "      <td>0</td>\n",
       "      <td>0</td>\n",
       "      <td>0</td>\n",
       "      <td>0</td>\n",
       "      <td>0</td>\n",
       "      <td>0</td>\n",
       "      <td>0</td>\n",
       "      <td>0</td>\n",
       "      <td>1</td>\n",
       "    </tr>\n",
       "    <tr>\n",
       "      <th>2</th>\n",
       "      <td>N[C@H]1C[C@@H]2CC[C@H]([C@H]1F)N2c1nc2[nH]nc(-...</td>\n",
       "      <td>14.808475</td>\n",
       "      <td>-1.134207</td>\n",
       "      <td>14.808475</td>\n",
       "      <td>0.092243</td>\n",
       "      <td>0.430383</td>\n",
       "      <td>459.938</td>\n",
       "      <td>440.786</td>\n",
       "      <td>459.104435</td>\n",
       "      <td>160</td>\n",
       "      <td>...</td>\n",
       "      <td>0</td>\n",
       "      <td>0</td>\n",
       "      <td>0</td>\n",
       "      <td>0</td>\n",
       "      <td>1</td>\n",
       "      <td>0</td>\n",
       "      <td>0</td>\n",
       "      <td>0</td>\n",
       "      <td>0</td>\n",
       "      <td>1</td>\n",
       "    </tr>\n",
       "    <tr>\n",
       "      <th>3</th>\n",
       "      <td>N[C@@H]1c2ccncc2CC11CCN(CC1)c1cnc(Sc2ccnc(N)c2...</td>\n",
       "      <td>6.659115</td>\n",
       "      <td>0.055673</td>\n",
       "      <td>6.659115</td>\n",
       "      <td>0.055673</td>\n",
       "      <td>0.545291</td>\n",
       "      <td>454.991</td>\n",
       "      <td>431.807</td>\n",
       "      <td>454.145491</td>\n",
       "      <td>160</td>\n",
       "      <td>...</td>\n",
       "      <td>0</td>\n",
       "      <td>0</td>\n",
       "      <td>0</td>\n",
       "      <td>0</td>\n",
       "      <td>0</td>\n",
       "      <td>0</td>\n",
       "      <td>0</td>\n",
       "      <td>0</td>\n",
       "      <td>0</td>\n",
       "      <td>1</td>\n",
       "    </tr>\n",
       "    <tr>\n",
       "      <th>4</th>\n",
       "      <td>N[C@@H]1c2ccccc2CC11CCN(CC1)c1cnc(Sc2ccnc(N)c2...</td>\n",
       "      <td>6.686893</td>\n",
       "      <td>0.095673</td>\n",
       "      <td>6.686893</td>\n",
       "      <td>0.095673</td>\n",
       "      <td>0.548770</td>\n",
       "      <td>454.003</td>\n",
       "      <td>429.811</td>\n",
       "      <td>453.150242</td>\n",
       "      <td>160</td>\n",
       "      <td>...</td>\n",
       "      <td>0</td>\n",
       "      <td>0</td>\n",
       "      <td>0</td>\n",
       "      <td>0</td>\n",
       "      <td>0</td>\n",
       "      <td>0</td>\n",
       "      <td>0</td>\n",
       "      <td>0</td>\n",
       "      <td>0</td>\n",
       "      <td>1</td>\n",
       "    </tr>\n",
       "    <tr>\n",
       "      <th>...</th>\n",
       "      <td>...</td>\n",
       "      <td>...</td>\n",
       "      <td>...</td>\n",
       "      <td>...</td>\n",
       "      <td>...</td>\n",
       "      <td>...</td>\n",
       "      <td>...</td>\n",
       "      <td>...</td>\n",
       "      <td>...</td>\n",
       "      <td>...</td>\n",
       "      <td>...</td>\n",
       "      <td>...</td>\n",
       "      <td>...</td>\n",
       "      <td>...</td>\n",
       "      <td>...</td>\n",
       "      <td>...</td>\n",
       "      <td>...</td>\n",
       "      <td>...</td>\n",
       "      <td>...</td>\n",
       "      <td>...</td>\n",
       "      <td>...</td>\n",
       "    </tr>\n",
       "    <tr>\n",
       "      <th>1728</th>\n",
       "      <td>NC1C2CC2CC11CCN(CC1)c1ncc(Sc2cccc(Cl)c2Cl)[nH]...</td>\n",
       "      <td>12.660786</td>\n",
       "      <td>-0.168826</td>\n",
       "      <td>12.660786</td>\n",
       "      <td>0.168826</td>\n",
       "      <td>0.753734</td>\n",
       "      <td>437.396</td>\n",
       "      <td>415.220</td>\n",
       "      <td>436.089138</td>\n",
       "      <td>148</td>\n",
       "      <td>...</td>\n",
       "      <td>0</td>\n",
       "      <td>0</td>\n",
       "      <td>0</td>\n",
       "      <td>0</td>\n",
       "      <td>0</td>\n",
       "      <td>0</td>\n",
       "      <td>0</td>\n",
       "      <td>0</td>\n",
       "      <td>0</td>\n",
       "      <td>1</td>\n",
       "    </tr>\n",
       "    <tr>\n",
       "      <th>1729</th>\n",
       "      <td>NC1C2CN(CC12)c1ncc(Sc2cccc(Cl)c2Cl)[nH]c1=O</td>\n",
       "      <td>12.308785</td>\n",
       "      <td>-0.191646</td>\n",
       "      <td>12.308785</td>\n",
       "      <td>0.191646</td>\n",
       "      <td>0.870145</td>\n",
       "      <td>369.277</td>\n",
       "      <td>355.165</td>\n",
       "      <td>368.026537</td>\n",
       "      <td>120</td>\n",
       "      <td>...</td>\n",
       "      <td>0</td>\n",
       "      <td>0</td>\n",
       "      <td>0</td>\n",
       "      <td>0</td>\n",
       "      <td>0</td>\n",
       "      <td>0</td>\n",
       "      <td>0</td>\n",
       "      <td>0</td>\n",
       "      <td>0</td>\n",
       "      <td>1</td>\n",
       "    </tr>\n",
       "    <tr>\n",
       "      <th>1730</th>\n",
       "      <td>N[C@@H]1c2ccccc2CC11CCN(CC1)c1ncc(Sc2cccc(Cl)c...</td>\n",
       "      <td>12.780200</td>\n",
       "      <td>-0.196197</td>\n",
       "      <td>12.780200</td>\n",
       "      <td>0.053995</td>\n",
       "      <td>0.555735</td>\n",
       "      <td>473.429</td>\n",
       "      <td>451.253</td>\n",
       "      <td>472.089138</td>\n",
       "      <td>160</td>\n",
       "      <td>...</td>\n",
       "      <td>0</td>\n",
       "      <td>0</td>\n",
       "      <td>0</td>\n",
       "      <td>0</td>\n",
       "      <td>0</td>\n",
       "      <td>0</td>\n",
       "      <td>0</td>\n",
       "      <td>0</td>\n",
       "      <td>0</td>\n",
       "      <td>1</td>\n",
       "    </tr>\n",
       "    <tr>\n",
       "      <th>1731</th>\n",
       "      <td>N[C@@H]1c2ccccc2OC11CCN(CC1)c1ncc(Sc2cccc(Cl)c...</td>\n",
       "      <td>12.748950</td>\n",
       "      <td>-0.424536</td>\n",
       "      <td>12.748950</td>\n",
       "      <td>0.168227</td>\n",
       "      <td>0.573538</td>\n",
       "      <td>475.401</td>\n",
       "      <td>455.241</td>\n",
       "      <td>474.068402</td>\n",
       "      <td>160</td>\n",
       "      <td>...</td>\n",
       "      <td>0</td>\n",
       "      <td>0</td>\n",
       "      <td>0</td>\n",
       "      <td>0</td>\n",
       "      <td>0</td>\n",
       "      <td>0</td>\n",
       "      <td>0</td>\n",
       "      <td>0</td>\n",
       "      <td>0</td>\n",
       "      <td>1</td>\n",
       "    </tr>\n",
       "    <tr>\n",
       "      <th>1732</th>\n",
       "      <td>N[C@@H]1COCC11CCN(CC1)c1ncc(Sc2ccnc(Cl)c2Cl)[n...</td>\n",
       "      <td>12.564633</td>\n",
       "      <td>-0.222967</td>\n",
       "      <td>12.564633</td>\n",
       "      <td>0.038112</td>\n",
       "      <td>0.725651</td>\n",
       "      <td>428.345</td>\n",
       "      <td>409.193</td>\n",
       "      <td>427.063651</td>\n",
       "      <td>144</td>\n",
       "      <td>...</td>\n",
       "      <td>0</td>\n",
       "      <td>0</td>\n",
       "      <td>0</td>\n",
       "      <td>0</td>\n",
       "      <td>0</td>\n",
       "      <td>0</td>\n",
       "      <td>0</td>\n",
       "      <td>0</td>\n",
       "      <td>0</td>\n",
       "      <td>1</td>\n",
       "    </tr>\n",
       "  </tbody>\n",
       "</table>\n",
       "<p>1733 rows × 210 columns</p>\n",
       "</div>"
      ],
      "text/plain": [
       "                                                 SMILES  MaxEStateIndex  \\\n",
       "0     N[C@@H]1CCCC11CCN(CC1)c1cnc(Sc2cccc(NC(=O)c3c(...       13.061568   \n",
       "1     C[C@@H]1OCC2(CCN(CC2)c2nc(C)n(-c3ccc(Oc4ccn(C)...       13.551035   \n",
       "2     N[C@H]1C[C@@H]2CC[C@H]([C@H]1F)N2c1nc2[nH]nc(-...       14.808475   \n",
       "3     N[C@@H]1c2ccncc2CC11CCN(CC1)c1cnc(Sc2ccnc(N)c2...        6.659115   \n",
       "4     N[C@@H]1c2ccccc2CC11CCN(CC1)c1cnc(Sc2ccnc(N)c2...        6.686893   \n",
       "...                                                 ...             ...   \n",
       "1728  NC1C2CC2CC11CCN(CC1)c1ncc(Sc2cccc(Cl)c2Cl)[nH]...       12.660786   \n",
       "1729        NC1C2CN(CC12)c1ncc(Sc2cccc(Cl)c2Cl)[nH]c1=O       12.308785   \n",
       "1730  N[C@@H]1c2ccccc2CC11CCN(CC1)c1ncc(Sc2cccc(Cl)c...       12.780200   \n",
       "1731  N[C@@H]1c2ccccc2OC11CCN(CC1)c1ncc(Sc2cccc(Cl)c...       12.748950   \n",
       "1732  N[C@@H]1COCC11CCN(CC1)c1ncc(Sc2ccnc(Cl)c2Cl)[n...       12.564633   \n",
       "\n",
       "      MinEStateIndex  MaxAbsEStateIndex  MinAbsEStateIndex       qed    MolWt  \\\n",
       "0          -0.781987          13.061568           0.246174  0.340043  597.145   \n",
       "1          -0.191045          13.551035           0.002765  0.541003  533.460   \n",
       "2          -1.134207          14.808475           0.092243  0.430383  459.938   \n",
       "3           0.055673           6.659115           0.055673  0.545291  454.991   \n",
       "4           0.095673           6.686893           0.095673  0.548770  454.003   \n",
       "...              ...                ...                ...       ...      ...   \n",
       "1728       -0.168826          12.660786           0.168826  0.753734  437.396   \n",
       "1729       -0.191646          12.308785           0.191646  0.870145  369.277   \n",
       "1730       -0.196197          12.780200           0.053995  0.555735  473.429   \n",
       "1731       -0.424536          12.748950           0.168227  0.573538  475.401   \n",
       "1732       -0.222967          12.564633           0.038112  0.725651  428.345   \n",
       "\n",
       "      HeavyAtomMolWt  ExactMolWt  NumValenceElectrons  ...  fr_sulfonamd  \\\n",
       "0            563.881  596.208486                  216  ...             0   \n",
       "1            503.220  532.175644                  192  ...             0   \n",
       "2            440.786  459.104435                  160  ...             0   \n",
       "3            431.807  454.145491                  160  ...             0   \n",
       "4            429.811  453.150242                  160  ...             0   \n",
       "...              ...         ...                  ...  ...           ...   \n",
       "1728         415.220  436.089138                  148  ...             0   \n",
       "1729         355.165  368.026537                  120  ...             0   \n",
       "1730         451.253  472.089138                  160  ...             0   \n",
       "1731         455.241  474.068402                  160  ...             0   \n",
       "1732         409.193  427.063651                  144  ...             0   \n",
       "\n",
       "      fr_sulfone  fr_term_acetylene  fr_tetrazole  fr_thiazole  fr_thiocyan  \\\n",
       "0              0                  0             0            0            0   \n",
       "1              0                  0             0            0            0   \n",
       "2              0                  0             0            1            0   \n",
       "3              0                  0             0            0            0   \n",
       "4              0                  0             0            0            0   \n",
       "...          ...                ...           ...          ...          ...   \n",
       "1728           0                  0             0            0            0   \n",
       "1729           0                  0             0            0            0   \n",
       "1730           0                  0             0            0            0   \n",
       "1731           0                  0             0            0            0   \n",
       "1732           0                  0             0            0            0   \n",
       "\n",
       "      fr_thiophene  fr_unbrch_alkane  fr_urea  TARGET  \n",
       "0                0                 0        0       1  \n",
       "1                0                 0        0       1  \n",
       "2                0                 0        0       1  \n",
       "3                0                 0        0       1  \n",
       "4                0                 0        0       1  \n",
       "...            ...               ...      ...     ...  \n",
       "1728             0                 0        0       1  \n",
       "1729             0                 0        0       1  \n",
       "1730             0                 0        0       1  \n",
       "1731             0                 0        0       1  \n",
       "1732             0                 0        0       1  \n",
       "\n",
       "[1733 rows x 210 columns]"
      ]
     },
     "execution_count": 2,
     "metadata": {},
     "output_type": "execute_result"
    }
   ],
   "source": [
    "data = pd.read_csv('../data/SHP2_descriptor_2D_1733_RDKit.csv')\n",
    "data"
   ]
  },
  {
   "cell_type": "markdown",
   "id": "0b555414",
   "metadata": {},
   "source": [
    "# Dataset Exploration"
   ]
  },
  {
   "cell_type": "code",
   "execution_count": 3,
   "id": "4382c782",
   "metadata": {},
   "outputs": [
    {
     "data": {
      "text/plain": [
       "1    1210\n",
       "0     523\n",
       "Name: TARGET, dtype: int64"
      ]
     },
     "execution_count": 3,
     "metadata": {},
     "output_type": "execute_result"
    }
   ],
   "source": [
    "data['TARGET'].value_counts()"
   ]
  },
  {
   "cell_type": "code",
   "execution_count": 6,
   "id": "178a1bb3",
   "metadata": {},
   "outputs": [
    {
     "name": "stdout",
     "output_type": "stream",
     "text": [
      "<class 'pandas.core.frame.DataFrame'>\n",
      "RangeIndex: 1733 entries, 0 to 1732\n",
      "Columns: 210 entries, SMILES to TARGET\n",
      "dtypes: float64(104), int64(105), object(1)\n",
      "memory usage: 2.8+ MB\n"
     ]
    }
   ],
   "source": [
    "data.info()"
   ]
  },
  {
   "cell_type": "code",
   "execution_count": 90,
   "id": "fd5cde61",
   "metadata": {},
   "outputs": [
    {
     "data": {
      "text/plain": [
       "<AxesSubplot:>"
      ]
     },
     "execution_count": 90,
     "metadata": {},
     "output_type": "execute_result"
    },
    {
     "data": {
      "image/png": "[encoded data removed]",
      "text/plain": [
       "<Figure size 720x432 with 2 Axes>"
      ]
     },
     "metadata": {
      "needs_background": "light"
     },
     "output_type": "display_data"
    }
   ],
   "source": [
    "cor = data.corr()\n",
    "plt.figure(figsize=(10,6))\n",
    "sns.heatmap(cor, annot=True)"
   ]
  },
  {
   "cell_type": "markdown",
   "id": "58671dca",
   "metadata": {},
   "source": [
    "# Missing values dropped"
   ]
  },
  {
   "cell_type": "code",
   "execution_count": 4,
   "id": "a9514dc6",
   "metadata": {},
   "outputs": [
    {
     "data": {
      "text/plain": [
       "SMILES               0\n",
       "MaxEStateIndex       0\n",
       "MinEStateIndex       0\n",
       "MaxAbsEStateIndex    0\n",
       "MinAbsEStateIndex    0\n",
       "                    ..\n",
       "fr_thiocyan          0\n",
       "fr_thiophene         0\n",
       "fr_unbrch_alkane     0\n",
       "fr_urea              0\n",
       "TARGET               0\n",
       "Length: 210, dtype: int64"
      ]
     },
     "execution_count": 4,
     "metadata": {},
     "output_type": "execute_result"
    }
   ],
   "source": [
    "data.isnull().sum()"
   ]
  },
  {
   "cell_type": "code",
   "execution_count": 5,
   "id": "c9e20eb4",
   "metadata": {},
   "outputs": [
    {
     "data": {
      "text/html": [
       "<div>\n",
       "<style scoped>\n",
       "    .dataframe tbody tr th:only-of-type {\n",
       "        vertical-align: middle;\n",
       "    }\n",
       "\n",
       "    .dataframe tbody tr th {\n",
       "        vertical-align: top;\n",
       "    }\n",
       "\n",
       "    .dataframe thead th {\n",
       "        text-align: right;\n",
       "    }\n",
       "</style>\n",
       "<table border=\"1\" class=\"dataframe\">\n",
       "  <thead>\n",
       "    <tr style=\"text-align: right;\">\n",
       "      <th></th>\n",
       "      <th>SMILES</th>\n",
       "      <th>MaxEStateIndex</th>\n",
       "      <th>MinEStateIndex</th>\n",
       "      <th>MaxAbsEStateIndex</th>\n",
       "      <th>MinAbsEStateIndex</th>\n",
       "      <th>qed</th>\n",
       "      <th>MolWt</th>\n",
       "      <th>HeavyAtomMolWt</th>\n",
       "      <th>ExactMolWt</th>\n",
       "      <th>NumValenceElectrons</th>\n",
       "      <th>...</th>\n",
       "      <th>fr_sulfonamd</th>\n",
       "      <th>fr_sulfone</th>\n",
       "      <th>fr_term_acetylene</th>\n",
       "      <th>fr_tetrazole</th>\n",
       "      <th>fr_thiazole</th>\n",
       "      <th>fr_thiocyan</th>\n",
       "      <th>fr_thiophene</th>\n",
       "      <th>fr_unbrch_alkane</th>\n",
       "      <th>fr_urea</th>\n",
       "      <th>TARGET</th>\n",
       "    </tr>\n",
       "  </thead>\n",
       "  <tbody>\n",
       "    <tr>\n",
       "      <th>1056</th>\n",
       "      <td>[O-][V]([O-])([O-])=O</td>\n",
       "      <td>8.609375</td>\n",
       "      <td>-5.875000</td>\n",
       "      <td>8.609375</td>\n",
       "      <td>5.87500</td>\n",
       "      <td>0.324875</td>\n",
       "      <td>114.938</td>\n",
       "      <td>114.938</td>\n",
       "      <td>113.928463</td>\n",
       "      <td>32</td>\n",
       "      <td>...</td>\n",
       "      <td>0</td>\n",
       "      <td>0</td>\n",
       "      <td>0</td>\n",
       "      <td>0</td>\n",
       "      <td>0</td>\n",
       "      <td>0</td>\n",
       "      <td>0</td>\n",
       "      <td>0</td>\n",
       "      <td>0</td>\n",
       "      <td>1</td>\n",
       "    </tr>\n",
       "    <tr>\n",
       "      <th>1291</th>\n",
       "      <td>O=C1C=CC2=C(C3=CC=CC=C3C(O)=O)C4=CC=C(O)C([As]...</td>\n",
       "      <td>13.194508</td>\n",
       "      <td>-1.742006</td>\n",
       "      <td>13.194508</td>\n",
       "      <td>0.01005</td>\n",
       "      <td>0.244942</td>\n",
       "      <td>664.515</td>\n",
       "      <td>646.371</td>\n",
       "      <td>663.846901</td>\n",
       "      <td>178</td>\n",
       "      <td>...</td>\n",
       "      <td>0</td>\n",
       "      <td>0</td>\n",
       "      <td>0</td>\n",
       "      <td>0</td>\n",
       "      <td>0</td>\n",
       "      <td>0</td>\n",
       "      <td>0</td>\n",
       "      <td>0</td>\n",
       "      <td>0</td>\n",
       "      <td>1</td>\n",
       "    </tr>\n",
       "  </tbody>\n",
       "</table>\n",
       "<p>2 rows × 210 columns</p>\n",
       "</div>"
      ],
      "text/plain": [
       "                                                 SMILES  MaxEStateIndex  \\\n",
       "1056                              [O-][V]([O-])([O-])=O        8.609375   \n",
       "1291  O=C1C=CC2=C(C3=CC=CC=C3C(O)=O)C4=CC=C(O)C([As]...       13.194508   \n",
       "\n",
       "      MinEStateIndex  MaxAbsEStateIndex  MinAbsEStateIndex       qed    MolWt  \\\n",
       "1056       -5.875000           8.609375            5.87500  0.324875  114.938   \n",
       "1291       -1.742006          13.194508            0.01005  0.244942  664.515   \n",
       "\n",
       "      HeavyAtomMolWt  ExactMolWt  NumValenceElectrons  ...  fr_sulfonamd  \\\n",
       "1056         114.938  113.928463                   32  ...             0   \n",
       "1291         646.371  663.846901                  178  ...             0   \n",
       "\n",
       "      fr_sulfone  fr_term_acetylene  fr_tetrazole  fr_thiazole  fr_thiocyan  \\\n",
       "1056           0                  0             0            0            0   \n",
       "1291           0                  0             0            0            0   \n",
       "\n",
       "      fr_thiophene  fr_unbrch_alkane  fr_urea  TARGET  \n",
       "1056             0                 0        0       1  \n",
       "1291             0                 0        0       1  \n",
       "\n",
       "[2 rows x 210 columns]"
      ]
     },
     "execution_count": 5,
     "metadata": {},
     "output_type": "execute_result"
    }
   ],
   "source": [
    "data_na = data[data.isna().any(axis=1)]\n",
    "data_na"
   ]
  },
  {
   "cell_type": "code",
   "execution_count": 6,
   "id": "c31fabb9",
   "metadata": {},
   "outputs": [
    {
     "data": {
      "text/plain": [
       "array(['[O-][V]([O-])([O-])=O',\n",
       "       'O=C1C=CC2=C(C3=CC=CC=C3C(O)=O)C4=CC=C(O)C([As]5SCCS5)=C4OC2=C1[As]6SCCS6'],\n",
       "      dtype=object)"
      ]
     },
     "execution_count": 6,
     "metadata": {},
     "output_type": "execute_result"
    }
   ],
   "source": [
    "data_na['SMILES'].values"
   ]
  },
  {
   "cell_type": "code",
   "execution_count": 7,
   "id": "3aab4dac",
   "metadata": {},
   "outputs": [
    {
     "data": {
      "text/html": [
       "<div>\n",
       "<style scoped>\n",
       "    .dataframe tbody tr th:only-of-type {\n",
       "        vertical-align: middle;\n",
       "    }\n",
       "\n",
       "    .dataframe tbody tr th {\n",
       "        vertical-align: top;\n",
       "    }\n",
       "\n",
       "    .dataframe thead th {\n",
       "        text-align: right;\n",
       "    }\n",
       "</style>\n",
       "<table border=\"1\" class=\"dataframe\">\n",
       "  <thead>\n",
       "    <tr style=\"text-align: right;\">\n",
       "      <th></th>\n",
       "      <th>SMILES</th>\n",
       "      <th>MaxEStateIndex</th>\n",
       "      <th>MinEStateIndex</th>\n",
       "      <th>MaxAbsEStateIndex</th>\n",
       "      <th>MinAbsEStateIndex</th>\n",
       "      <th>qed</th>\n",
       "      <th>MolWt</th>\n",
       "      <th>HeavyAtomMolWt</th>\n",
       "      <th>ExactMolWt</th>\n",
       "      <th>NumValenceElectrons</th>\n",
       "      <th>...</th>\n",
       "      <th>fr_sulfonamd</th>\n",
       "      <th>fr_sulfone</th>\n",
       "      <th>fr_term_acetylene</th>\n",
       "      <th>fr_tetrazole</th>\n",
       "      <th>fr_thiazole</th>\n",
       "      <th>fr_thiocyan</th>\n",
       "      <th>fr_thiophene</th>\n",
       "      <th>fr_unbrch_alkane</th>\n",
       "      <th>fr_urea</th>\n",
       "      <th>TARGET</th>\n",
       "    </tr>\n",
       "  </thead>\n",
       "  <tbody>\n",
       "  </tbody>\n",
       "</table>\n",
       "<p>0 rows × 210 columns</p>\n",
       "</div>"
      ],
      "text/plain": [
       "Empty DataFrame\n",
       "Columns: [SMILES, MaxEStateIndex, MinEStateIndex, MaxAbsEStateIndex, MinAbsEStateIndex, qed, MolWt, HeavyAtomMolWt, ExactMolWt, NumValenceElectrons, NumRadicalElectrons, MaxPartialCharge, MinPartialCharge, MaxAbsPartialCharge, MinAbsPartialCharge, FpDensityMorgan1, FpDensityMorgan2, FpDensityMorgan3, BCUT2D_MWHI, BCUT2D_MWLOW, BCUT2D_CHGHI, BCUT2D_CHGLO, BCUT2D_LOGPHI, BCUT2D_LOGPLOW, BCUT2D_MRHI, BCUT2D_MRLOW, BalabanJ, BertzCT, Chi0, Chi0n, Chi0v, Chi1, Chi1n, Chi1v, Chi2n, Chi2v, Chi3n, Chi3v, Chi4n, Chi4v, HallKierAlpha, Ipc, Kappa1, Kappa2, Kappa3, LabuteASA, PEOE_VSA1, PEOE_VSA10, PEOE_VSA11, PEOE_VSA12, PEOE_VSA13, PEOE_VSA14, PEOE_VSA2, PEOE_VSA3, PEOE_VSA4, PEOE_VSA5, PEOE_VSA6, PEOE_VSA7, PEOE_VSA8, PEOE_VSA9, SMR_VSA1, SMR_VSA10, SMR_VSA2, SMR_VSA3, SMR_VSA4, SMR_VSA5, SMR_VSA6, SMR_VSA7, SMR_VSA8, SMR_VSA9, SlogP_VSA1, SlogP_VSA10, SlogP_VSA11, SlogP_VSA12, SlogP_VSA2, SlogP_VSA3, SlogP_VSA4, SlogP_VSA5, SlogP_VSA6, SlogP_VSA7, SlogP_VSA8, SlogP_VSA9, TPSA, EState_VSA1, EState_VSA10, EState_VSA11, EState_VSA2, EState_VSA3, EState_VSA4, EState_VSA5, EState_VSA6, EState_VSA7, EState_VSA8, EState_VSA9, VSA_EState1, VSA_EState10, VSA_EState2, VSA_EState3, VSA_EState4, VSA_EState5, ...]\n",
       "Index: []\n",
       "\n",
       "[0 rows x 210 columns]"
      ]
     },
     "execution_count": 7,
     "metadata": {},
     "output_type": "execute_result"
    }
   ],
   "source": [
    "data[data['SMILES']=='O=c(C1#NNC2=CC=C(S(=O)(O)=O)C=C2)n(C3=CC=CC=C3)N=C1C4=CC=C([N+]([O-])=O)C=C4']"
   ]
  },
  {
   "cell_type": "code",
   "execution_count": null,
   "id": "bd9edc18",
   "metadata": {},
   "outputs": [],
   "source": []
  },
  {
   "cell_type": "code",
   "execution_count": 11,
   "id": "1c886b9b",
   "metadata": {},
   "outputs": [],
   "source": [
    "data = data.dropna()"
   ]
  },
  {
   "cell_type": "markdown",
   "id": "3d781dba",
   "metadata": {},
   "source": [
    "# Matrix"
   ]
  },
  {
   "cell_type": "code",
   "execution_count": 12,
   "id": "ca4400d2",
   "metadata": {},
   "outputs": [],
   "source": [
    "X = data.iloc[:,1:-1].values\n",
    "y = data.iloc[:,-1].values"
   ]
  },
  {
   "cell_type": "code",
   "execution_count": 13,
   "id": "3ffddf26",
   "metadata": {},
   "outputs": [
    {
     "data": {
      "text/plain": [
       "(1731, 208)"
      ]
     },
     "execution_count": 13,
     "metadata": {},
     "output_type": "execute_result"
    }
   ],
   "source": [
    "X.shape"
   ]
  },
  {
   "cell_type": "code",
   "execution_count": 14,
   "id": "e04aba20",
   "metadata": {},
   "outputs": [
    {
     "data": {
      "text/plain": [
       "(1731,)"
      ]
     },
     "execution_count": 14,
     "metadata": {},
     "output_type": "execute_result"
    }
   ],
   "source": [
    "y.shape"
   ]
  },
  {
   "cell_type": "markdown",
   "id": "089cdd79",
   "metadata": {},
   "source": [
    "# train test split"
   ]
  },
  {
   "cell_type": "code",
   "execution_count": 15,
   "id": "527f2f41",
   "metadata": {},
   "outputs": [],
   "source": [
    "X_train, X_test, y_train, y_test = train_test_split(X, y, test_size=0.2, random_state=42, stratify=y)"
   ]
  },
  {
   "cell_type": "code",
   "execution_count": 16,
   "id": "004c1419",
   "metadata": {},
   "outputs": [
    {
     "name": "stdout",
     "output_type": "stream",
     "text": [
      "(1384, 208) (347, 208) (1384,) (347,)\n"
     ]
    }
   ],
   "source": [
    "print(X_train.shape, X_test.shape, y_train.shape, y_test.shape)"
   ]
  },
  {
   "cell_type": "code",
   "execution_count": 82,
   "id": "83e2e0de",
   "metadata": {},
   "outputs": [
    {
     "data": {
      "text/plain": [
       "array([[  0, 105],\n",
       "       [  1, 242]], dtype=int64)"
      ]
     },
     "execution_count": 82,
     "metadata": {},
     "output_type": "execute_result"
    }
   ],
   "source": [
    "np.array(np.unique(y_test, return_counts=True)).T"
   ]
  },
  {
   "cell_type": "code",
   "execution_count": 83,
   "id": "ceb4a20d",
   "metadata": {},
   "outputs": [
    {
     "data": {
      "text/plain": [
       "array([[  0, 418],\n",
       "       [  1, 966]], dtype=int64)"
      ]
     },
     "execution_count": 83,
     "metadata": {},
     "output_type": "execute_result"
    }
   ],
   "source": [
    "np.array(np.unique(y_train, return_counts=True)).T"
   ]
  },
  {
   "cell_type": "markdown",
   "id": "306e84b8",
   "metadata": {},
   "source": [
    "# Model Selection"
   ]
  },
  {
   "cell_type": "code",
   "execution_count": 17,
   "id": "5699c0dc",
   "metadata": {},
   "outputs": [],
   "source": [
    "log_reg_params = [{\"C\":0.01}, {\"C\":0.1}, {\"C\":1}, {\"C\":10}]\n",
    "dec_tree_params = [{\"criterion\": \"gini\"}, {\"criterion\": \"entropy\"}]\n",
    "rand_for_params = [{\"criterion\": \"gini\"}, {\"criterion\": \"entropy\"}]\n",
    "kneighbors_params = [{\"n_neighbors\":3}, {\"n_neighbors\":5}]\n",
    "naive_bayes_params = [{}]\n",
    "svc_params = [{\"C\":0.01}, {\"C\":0.1}, {\"C\":1}, {\"C\":10}]\n",
    "adaboost_params = [{\"n_estimators\": 50}, {\"n_estimators\": 100}, \n",
    "                   {\"learning_rate\":1.0}, {\"learning_rate\":0.1},{\"learning_rate\":0.01},\n",
    "                  {\"algorithm\": 'SAMME', \"algorithm\": 'SAMME.R'}]\n",
    "xgboost_params = [{}]"
   ]
  },
  {
   "cell_type": "code",
   "execution_count": 18,
   "id": "0bcd28eb",
   "metadata": {},
   "outputs": [],
   "source": [
    "modelclasses = [\n",
    "    [\"log regression\", LogisticRegression, log_reg_params],\n",
    "    [\"decision tree\", DecisionTreeClassifier, dec_tree_params],\n",
    "    [\"random forest\", RandomForestClassifier, rand_for_params],\n",
    "    [\"k neighbors\", KNeighborsClassifier, kneighbors_params],\n",
    "    [\"naive bayes\", GaussianNB, naive_bayes_params],\n",
    "    [\"support vector machines\", SVC, svc_params],\n",
    "    [\"Adaboost\", AdaBoostClassifier, adaboost_params],\n",
    "    ['XGBoost', XGBClassifier, xgboost_params]\n",
    "]"
   ]
  },
  {
   "cell_type": "code",
   "execution_count": 19,
   "id": "470bd003",
   "metadata": {},
   "outputs": [
    {
     "data": {
      "application/vnd.jupyter.widget-view+json": {
       "model_id": "daf7af22bb9d41c781d9e461f1702c75",
       "version_major": 2,
       "version_minor": 0
      },
      "text/plain": [
       "  0%|          | 0/8 [00:00<?, ?it/s]"
      ]
     },
     "metadata": {},
     "output_type": "display_data"
    },
    {
     "name": "stderr",
     "output_type": "stream",
     "text": [
      "C:\\Users\\nilan\\AppData\\Roaming\\Python\\Python38\\site-packages\\sklearn\\linear_model\\_logistic.py:762: ConvergenceWarning: lbfgs failed to converge (status=2):\n",
      "ABNORMAL_TERMINATION_IN_LNSRCH.\n",
      "\n",
      "Increase the number of iterations (max_iter) or scale the data as shown in:\n",
      "    https://scikit-learn.org/stable/modules/preprocessing.html\n",
      "Please also refer to the documentation for alternative solver options:\n",
      "    https://scikit-learn.org/stable/modules/linear_model.html#logistic-regression\n",
      "  n_iter_i = _check_optimize_result(\n",
      "C:\\Users\\nilan\\AppData\\Roaming\\Python\\Python38\\site-packages\\sklearn\\linear_model\\_logistic.py:762: ConvergenceWarning: lbfgs failed to converge (status=2):\n",
      "ABNORMAL_TERMINATION_IN_LNSRCH.\n",
      "\n",
      "Increase the number of iterations (max_iter) or scale the data as shown in:\n",
      "    https://scikit-learn.org/stable/modules/preprocessing.html\n",
      "Please also refer to the documentation for alternative solver options:\n",
      "    https://scikit-learn.org/stable/modules/linear_model.html#logistic-regression\n",
      "  n_iter_i = _check_optimize_result(\n",
      "C:\\Users\\nilan\\AppData\\Roaming\\Python\\Python38\\site-packages\\sklearn\\linear_model\\_logistic.py:762: ConvergenceWarning: lbfgs failed to converge (status=2):\n",
      "ABNORMAL_TERMINATION_IN_LNSRCH.\n",
      "\n",
      "Increase the number of iterations (max_iter) or scale the data as shown in:\n",
      "    https://scikit-learn.org/stable/modules/preprocessing.html\n",
      "Please also refer to the documentation for alternative solver options:\n",
      "    https://scikit-learn.org/stable/modules/linear_model.html#logistic-regression\n",
      "  n_iter_i = _check_optimize_result(\n",
      "C:\\Users\\nilan\\AppData\\Roaming\\Python\\Python38\\site-packages\\sklearn\\linear_model\\_logistic.py:762: ConvergenceWarning: lbfgs failed to converge (status=2):\n",
      "ABNORMAL_TERMINATION_IN_LNSRCH.\n",
      "\n",
      "Increase the number of iterations (max_iter) or scale the data as shown in:\n",
      "    https://scikit-learn.org/stable/modules/preprocessing.html\n",
      "Please also refer to the documentation for alternative solver options:\n",
      "    https://scikit-learn.org/stable/modules/linear_model.html#logistic-regression\n",
      "  n_iter_i = _check_optimize_result(\n"
     ]
    }
   ],
   "source": [
    "insights = []\n",
    "for modelname, Model, params_list in tqdm(modelclasses):\n",
    "    for params in params_list:\n",
    "        model = Model(**params)\n",
    "        model.fit(X_train, y_train)\n",
    "        score = model.score(X_test, y_test)\n",
    "        insights.append((modelname, model, params, score))"
   ]
  },
  {
   "cell_type": "code",
   "execution_count": 20,
   "id": "b0e8fed5",
   "metadata": {},
   "outputs": [
    {
     "name": "stdout",
     "output_type": "stream",
     "text": [
      "XGBoost {} 0.8760806916426513\n",
      "random forest {'criterion': 'gini'} 0.861671469740634\n",
      "random forest {'criterion': 'entropy'} 0.861671469740634\n",
      "Adaboost {'n_estimators': 100} 0.8357348703170029\n",
      "Adaboost {'n_estimators': 50} 0.8184438040345822\n",
      "Adaboost {'learning_rate': 1.0} 0.8184438040345822\n",
      "Adaboost {'algorithm': 'SAMME.R'} 0.8184438040345822\n",
      "decision tree {'criterion': 'gini'} 0.8040345821325648\n",
      "Adaboost {'learning_rate': 0.1} 0.8040345821325648\n",
      "decision tree {'criterion': 'entropy'} 0.7982708933717579\n",
      "k neighbors {'n_neighbors': 5} 0.7377521613832853\n",
      "k neighbors {'n_neighbors': 3} 0.7262247838616714\n",
      "naive bayes {} 0.6974063400576369\n",
      "support vector machines {'C': 0.01} 0.6974063400576369\n",
      "support vector machines {'C': 0.1} 0.6974063400576369\n",
      "support vector machines {'C': 1} 0.6974063400576369\n",
      "support vector machines {'C': 10} 0.6974063400576369\n",
      "Adaboost {'learning_rate': 0.01} 0.6974063400576369\n",
      "log regression {'C': 0.01} 0.3025936599423631\n",
      "log regression {'C': 0.1} 0.3025936599423631\n",
      "log regression {'C': 1} 0.3025936599423631\n",
      "log regression {'C': 10} 0.3025936599423631\n"
     ]
    }
   ],
   "source": [
    "insights.sort(key=lambda x:x[-1], reverse=True)\n",
    "for modelname, model, params, score in insights:\n",
    "    print(modelname, params, score)"
   ]
  },
  {
   "cell_type": "markdown",
   "id": "581c1aa2",
   "metadata": {},
   "source": [
    "# Final Model"
   ]
  },
  {
   "cell_type": "code",
   "execution_count": 28,
   "id": "54f72cb5",
   "metadata": {},
   "outputs": [
    {
     "data": {
      "text/plain": [
       "XGBClassifier(base_score=0.5, booster='gbtree', callbacks=None,\n",
       "              colsample_bylevel=1, colsample_bynode=1, colsample_bytree=1,\n",
       "              early_stopping_rounds=None, enable_categorical=False,\n",
       "              eval_metric=None, gamma=0, gpu_id=-1, grow_policy='depthwise',\n",
       "              importance_type=None, interaction_constraints='',\n",
       "              learning_rate=0.300000012, max_bin=256, max_cat_to_onehot=4,\n",
       "              max_delta_step=0, max_depth=6, max_leaves=0, min_child_weight=1,\n",
       "              missing=nan, monotone_constraints='()', n_estimators=100,\n",
       "              n_jobs=0, num_parallel_tree=1, predictor='auto', random_state=0,\n",
       "              reg_alpha=0, reg_lambda=1, ...)"
      ]
     },
     "execution_count": 28,
     "metadata": {},
     "output_type": "execute_result"
    }
   ],
   "source": [
    "model = XGBClassifier()\n",
    "model.fit(X_train,y_train)"
   ]
  },
  {
   "cell_type": "markdown",
   "id": "c1a4064f",
   "metadata": {},
   "source": [
    "# Save Model"
   ]
  },
  {
   "cell_type": "code",
   "execution_count": 93,
   "id": "20c311e0",
   "metadata": {},
   "outputs": [],
   "source": [
    "filename = '..\\Models\\SHP2_XGBoost_model.sav'\n",
    "pickle.dump(model, open(filename, 'wb'))"
   ]
  },
  {
   "cell_type": "markdown",
   "id": "1c1157bf",
   "metadata": {},
   "source": [
    "# Evaluation"
   ]
  },
  {
   "cell_type": "code",
   "execution_count": 29,
   "id": "3efc77ab",
   "metadata": {},
   "outputs": [],
   "source": [
    "y_pred = model.predict(X_test)"
   ]
  },
  {
   "cell_type": "code",
   "execution_count": 31,
   "id": "f3533090",
   "metadata": {},
   "outputs": [
    {
     "data": {
      "text/plain": [
       "array([[ 88,  17],\n",
       "       [ 26, 216]], dtype=int64)"
      ]
     },
     "execution_count": 31,
     "metadata": {},
     "output_type": "execute_result"
    }
   ],
   "source": [
    "confusion_matrix(y_test, y_pred)"
   ]
  },
  {
   "cell_type": "code",
   "execution_count": 87,
   "id": "7457045d",
   "metadata": {},
   "outputs": [
    {
     "data": {
      "text/plain": [
       "<sklearn.metrics._plot.confusion_matrix.ConfusionMatrixDisplay at 0x2aeb3329f40>"
      ]
     },
     "execution_count": 87,
     "metadata": {},
     "output_type": "execute_result"
    },
    {
     "data": {
      "image/png": "[encoded data removed]",
      "text/plain": [
       "<Figure size 432x288 with 2 Axes>"
      ]
     },
     "metadata": {
      "needs_background": "light"
     },
     "output_type": "display_data"
    }
   ],
   "source": [
    "cm = confusion_matrix(y_test, y_pred)\n",
    "cmd = ConfusionMatrixDisplay(cm, display_labels = ['Non Inhibitor', 'Inhibitor'])\n",
    "cmd.plot()"
   ]
  },
  {
   "cell_type": "code",
   "execution_count": 32,
   "id": "1e6873b3",
   "metadata": {},
   "outputs": [
    {
     "name": "stdout",
     "output_type": "stream",
     "text": [
      "              precision    recall  f1-score   support\n",
      "\n",
      "           0       0.77      0.84      0.80       105\n",
      "           1       0.93      0.89      0.91       242\n",
      "\n",
      "    accuracy                           0.88       347\n",
      "   macro avg       0.85      0.87      0.86       347\n",
      "weighted avg       0.88      0.88      0.88       347\n",
      "\n"
     ]
    }
   ],
   "source": [
    "print(classification_report(y_test, y_pred))"
   ]
  },
  {
   "cell_type": "code",
   "execution_count": 33,
   "id": "31ee7933",
   "metadata": {},
   "outputs": [
    {
     "data": {
      "text/plain": [
       "0.8653286107831564"
      ]
     },
     "execution_count": 33,
     "metadata": {},
     "output_type": "execute_result"
    }
   ],
   "source": [
    "fpr, tpr, threshold = roc_curve(y_test, y_pred)\n",
    "roc_auc = auc(fpr, tpr)\n",
    "roc_auc"
   ]
  },
  {
   "cell_type": "code",
   "execution_count": 34,
   "id": "30fb2f29",
   "metadata": {},
   "outputs": [
    {
     "data": {
      "image/png": "[encoded data removed]",
      "text/plain": [
       "<Figure size 432x288 with 1 Axes>"
      ]
     },
     "metadata": {
      "needs_background": "light"
     },
     "output_type": "display_data"
    }
   ],
   "source": [
    "plt.title('Receiver Operating Characteristic')\n",
    "plt.plot(fpr, tpr, 'b', label = 'AUC = %0.2f' % roc_auc)\n",
    "plt.legend(loc = 'lower right')\n",
    "plt.plot([0, 1], [0, 1],'r--')\n",
    "plt.xlim([0, 1])\n",
    "plt.ylim([0, 1])\n",
    "plt.ylabel('True Positive Rate')\n",
    "plt.xlabel('False Positive Rate')\n",
    "plt.show()"
   ]
  },
  {
   "cell_type": "code",
   "execution_count": null,
   "id": "f505f35f",
   "metadata": {},
   "outputs": [],
   "source": []
  }
 ],
 "metadata": {
  "kernelspec": {
   "display_name": "Python 3",
   "language": "python",
   "name": "python3"
  },
  "language_info": {
   "codemirror_mode": {
    "name": "ipython",
    "version": 3
   },
   "file_extension": ".py",
   "mimetype": "text/x-python",
   "name": "python",
   "nbconvert_exporter": "python",
   "pygments_lexer": "ipython3",
   "version": "3.8.8"
  }
 },
 "nbformat": 4,
 "nbformat_minor": 5
}
